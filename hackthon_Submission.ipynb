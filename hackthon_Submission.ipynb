{
 "cells": [
  {
   "cell_type": "markdown",
   "id": "445ee4a1",
   "metadata": {},
   "source": [
    "# Agenda\n",
    "\n",
    "* Problem Statement\n",
    "* Data Understanding and exploration\n",
    "* Data Imputation\n",
    "* Visualization\n",
    "* Standardizing Data\n",
    "* Model Building\n",
    "   * Random Forest\n",
    "   * XGBOOST\n",
    "   "
   ]
  },
  {
   "cell_type": "markdown",
   "id": "684bbe97",
   "metadata": {},
   "source": [
    "# Problem Statement:"
   ]
  },
  {
   "cell_type": "markdown",
   "id": "37bac3cc",
   "metadata": {},
   "source": [
    "Business case:\n",
    "\n",
    "Insurance fraud is a huge problem in the industry. It's difficult to identify fraud claims. Machine Learning is in a unique position to help the Auto Insurance industry with this problem. I will be creating a predictive model that predicts if an insurance claim is fraudulent or not. The answere between YES/NO\n"
   ]
  },
  {
   "cell_type": "markdown",
   "id": "3a1daafa",
   "metadata": {},
   "source": [
    "The dataset contains both categorical and numerical columns. Here \"ReportedFraud\" is our target column, since it has two categories so it is termed to be \"Classification Problem\" where we need to predict if an insurance claim is fraudulent or not."
   ]
  },
  {
   "cell_type": "code",
   "execution_count": 1,
   "id": "487f7de5",
   "metadata": {},
   "outputs": [],
   "source": [
    "# immporting the libraries\n",
    "import os\n",
    "import pandas as pd\n",
    "import numpy as np"
   ]
  },
  {
   "cell_type": "markdown",
   "id": "486a9ca1",
   "metadata": {},
   "source": [
    "# Loading the data"
   ]
  },
  {
   "cell_type": "code",
   "execution_count": 2,
   "id": "a3c4374b",
   "metadata": {},
   "outputs": [],
   "source": [
    "# Read the all Training Dataset\n",
    "Train_Claim = pd.read_csv(\"TrainData\\Train_Claim.csv\")\n",
    "Train_Demographics = pd.read_csv(\"TrainData\\Train_Demographics.csv\")\n",
    "Train_Policy = pd.read_csv(\"TrainData\\Train_Policy.csv\")\n",
    "Train_Vehicle = pd.read_csv(\"TrainData\\Train_Vehicle.csv\")\n",
    "train_target=pd.read_csv(\"TrainData\\Traindata_with_Target.csv\")"
   ]
  },
  {
   "cell_type": "code",
   "execution_count": 3,
   "id": "a02c20e1",
   "metadata": {},
   "outputs": [],
   "source": [
    "#Read The All the Testing Dataset\n",
    "Test_Claim = pd.read_csv(\"TestData\\Test_Claim.csv\")\n",
    "Test_Demographics = pd.read_csv(\"TestData\\Test_Demographics.csv\")\n",
    "Test_Policy = pd.read_csv(\"TestData\\Test_Policy.csv\")\n",
    "Test_Vehicle = pd.read_csv(\"TestData\\Test_Vehicle.csv\")\n",
    "Test=pd.read_csv(\"TestData\\Test.csv\")"
   ]
  },
  {
   "cell_type": "code",
   "execution_count": 4,
   "id": "815b4d06",
   "metadata": {},
   "outputs": [
    {
     "data": {
      "text/html": [
       "<div>\n",
       "<style scoped>\n",
       "    .dataframe tbody tr th:only-of-type {\n",
       "        vertical-align: middle;\n",
       "    }\n",
       "\n",
       "    .dataframe tbody tr th {\n",
       "        vertical-align: top;\n",
       "    }\n",
       "\n",
       "    .dataframe thead th {\n",
       "        text-align: right;\n",
       "    }\n",
       "</style>\n",
       "<table border=\"1\" class=\"dataframe\">\n",
       "  <thead>\n",
       "    <tr style=\"text-align: right;\">\n",
       "      <th></th>\n",
       "      <th>InsurancePolicyNumber</th>\n",
       "      <th>CustomerLoyaltyPeriod</th>\n",
       "      <th>DateOfPolicyCoverage</th>\n",
       "      <th>InsurancePolicyState</th>\n",
       "      <th>Policy_CombinedSingleLimit</th>\n",
       "      <th>Policy_Deductible</th>\n",
       "      <th>PolicyAnnualPremium</th>\n",
       "      <th>UmbrellaLimit</th>\n",
       "      <th>InsuredRelationship</th>\n",
       "      <th>CustomerID</th>\n",
       "    </tr>\n",
       "  </thead>\n",
       "  <tbody>\n",
       "    <tr>\n",
       "      <th>0</th>\n",
       "      <td>110122</td>\n",
       "      <td>328</td>\n",
       "      <td>2014-10-17</td>\n",
       "      <td>State3</td>\n",
       "      <td>250/500</td>\n",
       "      <td>1000</td>\n",
       "      <td>1406.91</td>\n",
       "      <td>0</td>\n",
       "      <td>husband</td>\n",
       "      <td>Cust1001</td>\n",
       "    </tr>\n",
       "    <tr>\n",
       "      <th>1</th>\n",
       "      <td>110125</td>\n",
       "      <td>256</td>\n",
       "      <td>1990-05-25</td>\n",
       "      <td>State1</td>\n",
       "      <td>250/500</td>\n",
       "      <td>2000</td>\n",
       "      <td>1415.74</td>\n",
       "      <td>6000000</td>\n",
       "      <td>unmarried</td>\n",
       "      <td>Cust1004</td>\n",
       "    </tr>\n",
       "    <tr>\n",
       "      <th>2</th>\n",
       "      <td>110126</td>\n",
       "      <td>228</td>\n",
       "      <td>2014-06-06</td>\n",
       "      <td>State1</td>\n",
       "      <td>500/1000</td>\n",
       "      <td>1000</td>\n",
       "      <td>1583.91</td>\n",
       "      <td>6000000</td>\n",
       "      <td>unmarried</td>\n",
       "      <td>Cust1005</td>\n",
       "    </tr>\n",
       "    <tr>\n",
       "      <th>3</th>\n",
       "      <td>110127</td>\n",
       "      <td>256</td>\n",
       "      <td>2006-10-12</td>\n",
       "      <td>State3</td>\n",
       "      <td>250/500</td>\n",
       "      <td>1000</td>\n",
       "      <td>1351.10</td>\n",
       "      <td>0</td>\n",
       "      <td>unmarried</td>\n",
       "      <td>Cust1006</td>\n",
       "    </tr>\n",
       "    <tr>\n",
       "      <th>4</th>\n",
       "      <td>110128</td>\n",
       "      <td>137</td>\n",
       "      <td>2000-06-04</td>\n",
       "      <td>State2</td>\n",
       "      <td>250/500</td>\n",
       "      <td>1000</td>\n",
       "      <td>1333.35</td>\n",
       "      <td>0</td>\n",
       "      <td>husband</td>\n",
       "      <td>Cust1007</td>\n",
       "    </tr>\n",
       "  </tbody>\n",
       "</table>\n",
       "</div>"
      ],
      "text/plain": [
       "   InsurancePolicyNumber  CustomerLoyaltyPeriod DateOfPolicyCoverage  \\\n",
       "0                 110122                    328           2014-10-17   \n",
       "1                 110125                    256           1990-05-25   \n",
       "2                 110126                    228           2014-06-06   \n",
       "3                 110127                    256           2006-10-12   \n",
       "4                 110128                    137           2000-06-04   \n",
       "\n",
       "  InsurancePolicyState Policy_CombinedSingleLimit  Policy_Deductible  \\\n",
       "0               State3                    250/500               1000   \n",
       "1               State1                    250/500               2000   \n",
       "2               State1                   500/1000               1000   \n",
       "3               State3                    250/500               1000   \n",
       "4               State2                    250/500               1000   \n",
       "\n",
       "   PolicyAnnualPremium  UmbrellaLimit InsuredRelationship CustomerID  \n",
       "0              1406.91              0             husband   Cust1001  \n",
       "1              1415.74        6000000           unmarried   Cust1004  \n",
       "2              1583.91        6000000           unmarried   Cust1005  \n",
       "3              1351.10              0           unmarried   Cust1006  \n",
       "4              1333.35              0             husband   Cust1007  "
      ]
     },
     "execution_count": 4,
     "metadata": {},
     "output_type": "execute_result"
    }
   ],
   "source": [
    "Train_Policy.head()"
   ]
  },
  {
   "cell_type": "code",
   "execution_count": 5,
   "id": "f09e5871",
   "metadata": {
    "scrolled": true
   },
   "outputs": [
    {
     "data": {
      "text/html": [
       "<div>\n",
       "<style scoped>\n",
       "    .dataframe tbody tr th:only-of-type {\n",
       "        vertical-align: middle;\n",
       "    }\n",
       "\n",
       "    .dataframe tbody tr th {\n",
       "        vertical-align: top;\n",
       "    }\n",
       "\n",
       "    .dataframe thead th {\n",
       "        text-align: right;\n",
       "    }\n",
       "</style>\n",
       "<table border=\"1\" class=\"dataframe\">\n",
       "  <thead>\n",
       "    <tr style=\"text-align: right;\">\n",
       "      <th></th>\n",
       "      <th>CustomerID</th>\n",
       "      <th>VehicleAttribute</th>\n",
       "      <th>VehicleAttributeDetails</th>\n",
       "    </tr>\n",
       "  </thead>\n",
       "  <tbody>\n",
       "    <tr>\n",
       "      <th>0</th>\n",
       "      <td>Cust20179</td>\n",
       "      <td>VehicleID</td>\n",
       "      <td>Vehicle8898</td>\n",
       "    </tr>\n",
       "    <tr>\n",
       "      <th>1</th>\n",
       "      <td>Cust21384</td>\n",
       "      <td>VehicleModel</td>\n",
       "      <td>Malibu</td>\n",
       "    </tr>\n",
       "    <tr>\n",
       "      <th>2</th>\n",
       "      <td>Cust33335</td>\n",
       "      <td>VehicleMake</td>\n",
       "      <td>Toyota</td>\n",
       "    </tr>\n",
       "    <tr>\n",
       "      <th>3</th>\n",
       "      <td>Cust27118</td>\n",
       "      <td>VehicleModel</td>\n",
       "      <td>Neon</td>\n",
       "    </tr>\n",
       "    <tr>\n",
       "      <th>4</th>\n",
       "      <td>Cust13038</td>\n",
       "      <td>VehicleID</td>\n",
       "      <td>Vehicle30212</td>\n",
       "    </tr>\n",
       "    <tr>\n",
       "      <th>5</th>\n",
       "      <td>Cust1801</td>\n",
       "      <td>VehicleID</td>\n",
       "      <td>Vehicle24096</td>\n",
       "    </tr>\n",
       "    <tr>\n",
       "      <th>6</th>\n",
       "      <td>Cust30237</td>\n",
       "      <td>VehicleModel</td>\n",
       "      <td>RAM</td>\n",
       "    </tr>\n",
       "    <tr>\n",
       "      <th>7</th>\n",
       "      <td>Cust21334</td>\n",
       "      <td>VehicleYOM</td>\n",
       "      <td>1996</td>\n",
       "    </tr>\n",
       "    <tr>\n",
       "      <th>8</th>\n",
       "      <td>Cust26634</td>\n",
       "      <td>VehicleYOM</td>\n",
       "      <td>1999</td>\n",
       "    </tr>\n",
       "    <tr>\n",
       "      <th>9</th>\n",
       "      <td>Cust20624</td>\n",
       "      <td>VehicleMake</td>\n",
       "      <td>Chevrolet</td>\n",
       "    </tr>\n",
       "  </tbody>\n",
       "</table>\n",
       "</div>"
      ],
      "text/plain": [
       "  CustomerID VehicleAttribute VehicleAttributeDetails\n",
       "0  Cust20179        VehicleID             Vehicle8898\n",
       "1  Cust21384     VehicleModel                  Malibu\n",
       "2  Cust33335      VehicleMake                  Toyota\n",
       "3  Cust27118     VehicleModel                    Neon\n",
       "4  Cust13038        VehicleID            Vehicle30212\n",
       "5   Cust1801        VehicleID            Vehicle24096\n",
       "6  Cust30237     VehicleModel                     RAM\n",
       "7  Cust21334       VehicleYOM                    1996\n",
       "8  Cust26634       VehicleYOM                    1999\n",
       "9  Cust20624      VehicleMake               Chevrolet"
      ]
     },
     "execution_count": 5,
     "metadata": {},
     "output_type": "execute_result"
    }
   ],
   "source": [
    "Train_Vehicle.head(10)"
   ]
  },
  {
   "cell_type": "code",
   "execution_count": 6,
   "id": "b5bc5a0d",
   "metadata": {},
   "outputs": [
    {
     "data": {
      "text/html": [
       "<div>\n",
       "<style scoped>\n",
       "    .dataframe tbody tr th:only-of-type {\n",
       "        vertical-align: middle;\n",
       "    }\n",
       "\n",
       "    .dataframe tbody tr th {\n",
       "        vertical-align: top;\n",
       "    }\n",
       "\n",
       "    .dataframe thead th {\n",
       "        text-align: right;\n",
       "    }\n",
       "</style>\n",
       "<table border=\"1\" class=\"dataframe\">\n",
       "  <thead>\n",
       "    <tr style=\"text-align: right;\">\n",
       "      <th></th>\n",
       "      <th>CustomerID</th>\n",
       "      <th>InsuredAge</th>\n",
       "      <th>InsuredZipCode</th>\n",
       "      <th>InsuredGender</th>\n",
       "      <th>InsuredEducationLevel</th>\n",
       "      <th>InsuredOccupation</th>\n",
       "      <th>InsuredHobbies</th>\n",
       "      <th>CapitalGains</th>\n",
       "      <th>CapitalLoss</th>\n",
       "      <th>Country</th>\n",
       "    </tr>\n",
       "  </thead>\n",
       "  <tbody>\n",
       "    <tr>\n",
       "      <th>0</th>\n",
       "      <td>Cust10000</td>\n",
       "      <td>35</td>\n",
       "      <td>454776</td>\n",
       "      <td>MALE</td>\n",
       "      <td>JD</td>\n",
       "      <td>armed-forces</td>\n",
       "      <td>movies</td>\n",
       "      <td>56700</td>\n",
       "      <td>-48500</td>\n",
       "      <td>India</td>\n",
       "    </tr>\n",
       "    <tr>\n",
       "      <th>1</th>\n",
       "      <td>Cust10001</td>\n",
       "      <td>36</td>\n",
       "      <td>454776</td>\n",
       "      <td>MALE</td>\n",
       "      <td>JD</td>\n",
       "      <td>tech-support</td>\n",
       "      <td>cross-fit</td>\n",
       "      <td>70600</td>\n",
       "      <td>-48500</td>\n",
       "      <td>India</td>\n",
       "    </tr>\n",
       "    <tr>\n",
       "      <th>2</th>\n",
       "      <td>Cust10002</td>\n",
       "      <td>33</td>\n",
       "      <td>603260</td>\n",
       "      <td>MALE</td>\n",
       "      <td>JD</td>\n",
       "      <td>armed-forces</td>\n",
       "      <td>polo</td>\n",
       "      <td>66400</td>\n",
       "      <td>-63700</td>\n",
       "      <td>India</td>\n",
       "    </tr>\n",
       "    <tr>\n",
       "      <th>3</th>\n",
       "      <td>Cust10003</td>\n",
       "      <td>36</td>\n",
       "      <td>474848</td>\n",
       "      <td>MALE</td>\n",
       "      <td>JD</td>\n",
       "      <td>armed-forces</td>\n",
       "      <td>polo</td>\n",
       "      <td>47900</td>\n",
       "      <td>-73400</td>\n",
       "      <td>India</td>\n",
       "    </tr>\n",
       "    <tr>\n",
       "      <th>4</th>\n",
       "      <td>Cust10004</td>\n",
       "      <td>29</td>\n",
       "      <td>457942</td>\n",
       "      <td>FEMALE</td>\n",
       "      <td>High School</td>\n",
       "      <td>exec-managerial</td>\n",
       "      <td>dancing</td>\n",
       "      <td>0</td>\n",
       "      <td>-41500</td>\n",
       "      <td>India</td>\n",
       "    </tr>\n",
       "  </tbody>\n",
       "</table>\n",
       "</div>"
      ],
      "text/plain": [
       "  CustomerID  InsuredAge  InsuredZipCode InsuredGender InsuredEducationLevel  \\\n",
       "0  Cust10000          35          454776          MALE                    JD   \n",
       "1  Cust10001          36          454776          MALE                    JD   \n",
       "2  Cust10002          33          603260          MALE                    JD   \n",
       "3  Cust10003          36          474848          MALE                    JD   \n",
       "4  Cust10004          29          457942        FEMALE           High School   \n",
       "\n",
       "  InsuredOccupation InsuredHobbies  CapitalGains  CapitalLoss Country  \n",
       "0      armed-forces         movies         56700       -48500   India  \n",
       "1      tech-support      cross-fit         70600       -48500   India  \n",
       "2      armed-forces           polo         66400       -63700   India  \n",
       "3      armed-forces           polo         47900       -73400   India  \n",
       "4   exec-managerial        dancing             0       -41500   India  "
      ]
     },
     "execution_count": 6,
     "metadata": {},
     "output_type": "execute_result"
    }
   ],
   "source": [
    "Train_Demographics.head()"
   ]
  },
  {
   "cell_type": "code",
   "execution_count": 7,
   "id": "8a9a4740",
   "metadata": {},
   "outputs": [
    {
     "data": {
      "text/html": [
       "<div>\n",
       "<style scoped>\n",
       "    .dataframe tbody tr th:only-of-type {\n",
       "        vertical-align: middle;\n",
       "    }\n",
       "\n",
       "    .dataframe tbody tr th {\n",
       "        vertical-align: top;\n",
       "    }\n",
       "\n",
       "    .dataframe thead th {\n",
       "        text-align: right;\n",
       "    }\n",
       "</style>\n",
       "<table border=\"1\" class=\"dataframe\">\n",
       "  <thead>\n",
       "    <tr style=\"text-align: right;\">\n",
       "      <th></th>\n",
       "      <th>CustomerID</th>\n",
       "      <th>DateOfIncident</th>\n",
       "      <th>TypeOfIncident</th>\n",
       "      <th>TypeOfCollission</th>\n",
       "      <th>SeverityOfIncident</th>\n",
       "      <th>AuthoritiesContacted</th>\n",
       "      <th>IncidentState</th>\n",
       "      <th>IncidentCity</th>\n",
       "      <th>IncidentAddress</th>\n",
       "      <th>IncidentTime</th>\n",
       "      <th>NumberOfVehicles</th>\n",
       "      <th>PropertyDamage</th>\n",
       "      <th>BodilyInjuries</th>\n",
       "      <th>Witnesses</th>\n",
       "      <th>PoliceReport</th>\n",
       "      <th>AmountOfTotalClaim</th>\n",
       "      <th>AmountOfInjuryClaim</th>\n",
       "      <th>AmountOfPropertyClaim</th>\n",
       "      <th>AmountOfVehicleDamage</th>\n",
       "    </tr>\n",
       "  </thead>\n",
       "  <tbody>\n",
       "    <tr>\n",
       "      <th>0</th>\n",
       "      <td>Cust10000</td>\n",
       "      <td>2015-02-03</td>\n",
       "      <td>Multi-vehicle Collision</td>\n",
       "      <td>Side Collision</td>\n",
       "      <td>Total Loss</td>\n",
       "      <td>Police</td>\n",
       "      <td>State7</td>\n",
       "      <td>City1</td>\n",
       "      <td>Location 1311</td>\n",
       "      <td>17</td>\n",
       "      <td>3</td>\n",
       "      <td>?</td>\n",
       "      <td>1</td>\n",
       "      <td>0</td>\n",
       "      <td>?</td>\n",
       "      <td>65501</td>\n",
       "      <td>13417</td>\n",
       "      <td>6071</td>\n",
       "      <td>46013</td>\n",
       "    </tr>\n",
       "    <tr>\n",
       "      <th>1</th>\n",
       "      <td>Cust10001</td>\n",
       "      <td>2015-02-02</td>\n",
       "      <td>Multi-vehicle Collision</td>\n",
       "      <td>Side Collision</td>\n",
       "      <td>Total Loss</td>\n",
       "      <td>Police</td>\n",
       "      <td>State7</td>\n",
       "      <td>City5</td>\n",
       "      <td>Location 1311</td>\n",
       "      <td>10</td>\n",
       "      <td>3</td>\n",
       "      <td>YES</td>\n",
       "      <td>2</td>\n",
       "      <td>1</td>\n",
       "      <td>YES</td>\n",
       "      <td>61382</td>\n",
       "      <td>15560</td>\n",
       "      <td>5919</td>\n",
       "      <td>39903</td>\n",
       "    </tr>\n",
       "    <tr>\n",
       "      <th>2</th>\n",
       "      <td>Cust10002</td>\n",
       "      <td>2015-01-15</td>\n",
       "      <td>Single Vehicle Collision</td>\n",
       "      <td>Side Collision</td>\n",
       "      <td>Minor Damage</td>\n",
       "      <td>Other</td>\n",
       "      <td>State8</td>\n",
       "      <td>City6</td>\n",
       "      <td>Location 2081</td>\n",
       "      <td>22</td>\n",
       "      <td>1</td>\n",
       "      <td>YES</td>\n",
       "      <td>2</td>\n",
       "      <td>3</td>\n",
       "      <td>NO</td>\n",
       "      <td>66755</td>\n",
       "      <td>11630</td>\n",
       "      <td>11630</td>\n",
       "      <td>43495</td>\n",
       "    </tr>\n",
       "    <tr>\n",
       "      <th>3</th>\n",
       "      <td>Cust10003</td>\n",
       "      <td>2015-01-19</td>\n",
       "      <td>Single Vehicle Collision</td>\n",
       "      <td>Side Collision</td>\n",
       "      <td>Minor Damage</td>\n",
       "      <td>Other</td>\n",
       "      <td>State9</td>\n",
       "      <td>City6</td>\n",
       "      <td>Location 2081</td>\n",
       "      <td>22</td>\n",
       "      <td>1</td>\n",
       "      <td>YES</td>\n",
       "      <td>2</td>\n",
       "      <td>3</td>\n",
       "      <td>NO</td>\n",
       "      <td>66243</td>\n",
       "      <td>12003</td>\n",
       "      <td>12003</td>\n",
       "      <td>42237</td>\n",
       "    </tr>\n",
       "    <tr>\n",
       "      <th>4</th>\n",
       "      <td>Cust10004</td>\n",
       "      <td>2015-01-09</td>\n",
       "      <td>Single Vehicle Collision</td>\n",
       "      <td>Rear Collision</td>\n",
       "      <td>Minor Damage</td>\n",
       "      <td>Fire</td>\n",
       "      <td>State8</td>\n",
       "      <td>City6</td>\n",
       "      <td>Location 1695</td>\n",
       "      <td>10</td>\n",
       "      <td>1</td>\n",
       "      <td>NO</td>\n",
       "      <td>2</td>\n",
       "      <td>1</td>\n",
       "      <td>YES</td>\n",
       "      <td>53544</td>\n",
       "      <td>8829</td>\n",
       "      <td>7234</td>\n",
       "      <td>37481</td>\n",
       "    </tr>\n",
       "  </tbody>\n",
       "</table>\n",
       "</div>"
      ],
      "text/plain": [
       "  CustomerID DateOfIncident            TypeOfIncident TypeOfCollission  \\\n",
       "0  Cust10000     2015-02-03   Multi-vehicle Collision   Side Collision   \n",
       "1  Cust10001     2015-02-02   Multi-vehicle Collision   Side Collision   \n",
       "2  Cust10002     2015-01-15  Single Vehicle Collision   Side Collision   \n",
       "3  Cust10003     2015-01-19  Single Vehicle Collision   Side Collision   \n",
       "4  Cust10004     2015-01-09  Single Vehicle Collision   Rear Collision   \n",
       "\n",
       "  SeverityOfIncident AuthoritiesContacted IncidentState IncidentCity  \\\n",
       "0         Total Loss               Police        State7        City1   \n",
       "1         Total Loss               Police        State7        City5   \n",
       "2       Minor Damage                Other        State8        City6   \n",
       "3       Minor Damage                Other        State9        City6   \n",
       "4       Minor Damage                 Fire        State8        City6   \n",
       "\n",
       "  IncidentAddress  IncidentTime  NumberOfVehicles PropertyDamage  \\\n",
       "0   Location 1311            17                 3              ?   \n",
       "1   Location 1311            10                 3            YES   \n",
       "2   Location 2081            22                 1            YES   \n",
       "3   Location 2081            22                 1            YES   \n",
       "4   Location 1695            10                 1             NO   \n",
       "\n",
       "   BodilyInjuries Witnesses PoliceReport AmountOfTotalClaim  \\\n",
       "0               1         0            ?              65501   \n",
       "1               2         1          YES              61382   \n",
       "2               2         3           NO              66755   \n",
       "3               2         3           NO              66243   \n",
       "4               2         1          YES              53544   \n",
       "\n",
       "   AmountOfInjuryClaim  AmountOfPropertyClaim  AmountOfVehicleDamage  \n",
       "0                13417                   6071                  46013  \n",
       "1                15560                   5919                  39903  \n",
       "2                11630                  11630                  43495  \n",
       "3                12003                  12003                  42237  \n",
       "4                 8829                   7234                  37481  "
      ]
     },
     "execution_count": 7,
     "metadata": {},
     "output_type": "execute_result"
    }
   ],
   "source": [
    "Train_Claim.head()"
   ]
  },
  {
   "cell_type": "markdown",
   "id": "d0a84231",
   "metadata": {},
   "source": [
    "# Understanding the Data"
   ]
  },
  {
   "cell_type": "code",
   "execution_count": 8,
   "id": "7cbb3775",
   "metadata": {},
   "outputs": [
    {
     "name": "stdout",
     "output_type": "stream",
     "text": [
      "Train_Vehicle: (115344, 3)\n",
      "Test_Vehicle: (35648, 3)\n",
      "Train_Claim: (28836, 19)\n",
      "Train_Demographics: (28836, 10)\n",
      "Train_Policy: (28836, 10)\n",
      "train_target: (28836, 2)\n"
     ]
    }
   ],
   "source": [
    "print('Train_Vehicle:',Train_Vehicle.shape) # check the shape of the Train_vehicle \n",
    "print('Test_Vehicle:',Test_Vehicle.shape)  # check the shape of the Test_vehicle \n",
    "print('Train_Claim:',Train_Claim.shape) # check the shape of the Train_Claim\n",
    "print('Train_Demographics:',Train_Demographics.shape)  # check the shape of the Train_Demographics\n",
    "print('Train_Policy:',Train_Policy.shape)   # check the shape of the Train_policy\n",
    "print('train_target:',train_target.shape)  # check the shape of the Target variable "
   ]
  },
  {
   "cell_type": "code",
   "execution_count": 9,
   "id": "d2643388",
   "metadata": {},
   "outputs": [
    {
     "name": "stdout",
     "output_type": "stream",
     "text": [
      "Test_Vehicle: (35648, 3)\n",
      "Test_Claim: (8912, 19)\n",
      "Test_Demographics: (8912, 10)\n",
      "Test_Policy: (8912, 10)\n"
     ]
    }
   ],
   "source": [
    "print('Test_Vehicle:',Test_Vehicle.shape)  # check the shape of the Test_vehicle \n",
    "print('Test_Claim:',Test_Claim.shape)  # check the shape of the Test_vehicle \n",
    "print('Test_Demographics:',Test_Demographics.shape)   # check the shape of the Test_Demographics\n",
    "print('Test_Policy:',Test_Policy.shape)   # check the shape of the Test_policy\n"
   ]
  },
  {
   "cell_type": "markdown",
   "id": "f2e0cace",
   "metadata": {},
   "source": [
    "since after inspection vehicle attribute and vehicle attribute details have some common relation - applying pivot"
   ]
  },
  {
   "cell_type": "code",
   "execution_count": 10,
   "id": "1cd22371",
   "metadata": {},
   "outputs": [
    {
     "data": {
      "text/html": [
       "<div>\n",
       "<style scoped>\n",
       "    .dataframe tbody tr th:only-of-type {\n",
       "        vertical-align: middle;\n",
       "    }\n",
       "\n",
       "    .dataframe tbody tr th {\n",
       "        vertical-align: top;\n",
       "    }\n",
       "\n",
       "    .dataframe thead th {\n",
       "        text-align: right;\n",
       "    }\n",
       "</style>\n",
       "<table border=\"1\" class=\"dataframe\">\n",
       "  <thead>\n",
       "    <tr style=\"text-align: right;\">\n",
       "      <th>VehicleAttribute</th>\n",
       "      <th>VehicleID</th>\n",
       "      <th>VehicleMake</th>\n",
       "      <th>VehicleModel</th>\n",
       "      <th>VehicleYOM</th>\n",
       "    </tr>\n",
       "    <tr>\n",
       "      <th>CustomerID</th>\n",
       "      <th></th>\n",
       "      <th></th>\n",
       "      <th></th>\n",
       "      <th></th>\n",
       "    </tr>\n",
       "  </thead>\n",
       "  <tbody>\n",
       "    <tr>\n",
       "      <th>Cust10000</th>\n",
       "      <td>Vehicle26917</td>\n",
       "      <td>Audi</td>\n",
       "      <td>A5</td>\n",
       "      <td>2008</td>\n",
       "    </tr>\n",
       "    <tr>\n",
       "      <th>Cust10001</th>\n",
       "      <td>Vehicle15893</td>\n",
       "      <td>Audi</td>\n",
       "      <td>A5</td>\n",
       "      <td>2006</td>\n",
       "    </tr>\n",
       "    <tr>\n",
       "      <th>Cust10002</th>\n",
       "      <td>Vehicle5152</td>\n",
       "      <td>Volkswagen</td>\n",
       "      <td>Jetta</td>\n",
       "      <td>1999</td>\n",
       "    </tr>\n",
       "    <tr>\n",
       "      <th>Cust10003</th>\n",
       "      <td>Vehicle37363</td>\n",
       "      <td>Volkswagen</td>\n",
       "      <td>Jetta</td>\n",
       "      <td>2003</td>\n",
       "    </tr>\n",
       "    <tr>\n",
       "      <th>Cust10004</th>\n",
       "      <td>Vehicle28633</td>\n",
       "      <td>Toyota</td>\n",
       "      <td>CRV</td>\n",
       "      <td>2010</td>\n",
       "    </tr>\n",
       "  </tbody>\n",
       "</table>\n",
       "</div>"
      ],
      "text/plain": [
       "VehicleAttribute     VehicleID VehicleMake VehicleModel VehicleYOM\n",
       "CustomerID                                                        \n",
       "Cust10000         Vehicle26917        Audi           A5       2008\n",
       "Cust10001         Vehicle15893        Audi           A5       2006\n",
       "Cust10002          Vehicle5152  Volkswagen        Jetta       1999\n",
       "Cust10003         Vehicle37363  Volkswagen        Jetta       2003\n",
       "Cust10004         Vehicle28633      Toyota          CRV       2010"
      ]
     },
     "execution_count": 10,
     "metadata": {},
     "output_type": "execute_result"
    }
   ],
   "source": [
    "Train_Vehicle.pivot(index='CustomerID',columns='VehicleAttribute',values='VehicleAttributeDetails').head(5)\n"
   ]
  },
  {
   "cell_type": "code",
   "execution_count": 11,
   "id": "db43558b",
   "metadata": {},
   "outputs": [
    {
     "data": {
      "text/html": [
       "<div>\n",
       "<style scoped>\n",
       "    .dataframe tbody tr th:only-of-type {\n",
       "        vertical-align: middle;\n",
       "    }\n",
       "\n",
       "    .dataframe tbody tr th {\n",
       "        vertical-align: top;\n",
       "    }\n",
       "\n",
       "    .dataframe thead th {\n",
       "        text-align: right;\n",
       "    }\n",
       "</style>\n",
       "<table border=\"1\" class=\"dataframe\">\n",
       "  <thead>\n",
       "    <tr style=\"text-align: right;\">\n",
       "      <th>VehicleAttribute</th>\n",
       "      <th>VehicleID</th>\n",
       "      <th>VehicleMake</th>\n",
       "      <th>VehicleModel</th>\n",
       "      <th>VehicleYOM</th>\n",
       "    </tr>\n",
       "    <tr>\n",
       "      <th>CustomerID</th>\n",
       "      <th></th>\n",
       "      <th></th>\n",
       "      <th></th>\n",
       "      <th></th>\n",
       "    </tr>\n",
       "  </thead>\n",
       "  <tbody>\n",
       "    <tr>\n",
       "      <th>Cust10008</th>\n",
       "      <td>Vehicle34362</td>\n",
       "      <td>Volkswagen</td>\n",
       "      <td>Passat</td>\n",
       "      <td>1995</td>\n",
       "    </tr>\n",
       "    <tr>\n",
       "      <th>Cust10010</th>\n",
       "      <td>Vehicle17046</td>\n",
       "      <td>Nissan</td>\n",
       "      <td>Ultima</td>\n",
       "      <td>2006</td>\n",
       "    </tr>\n",
       "    <tr>\n",
       "      <th>Cust10015</th>\n",
       "      <td>Vehicle11038</td>\n",
       "      <td>Suburu</td>\n",
       "      <td>Impreza</td>\n",
       "      <td>2010</td>\n",
       "    </tr>\n",
       "    <tr>\n",
       "      <th>Cust10020</th>\n",
       "      <td>Vehicle37114</td>\n",
       "      <td>Accura</td>\n",
       "      <td>TL</td>\n",
       "      <td>2009</td>\n",
       "    </tr>\n",
       "    <tr>\n",
       "      <th>Cust1003</th>\n",
       "      <td>Vehicle16771</td>\n",
       "      <td>Dodge</td>\n",
       "      <td>RAM</td>\n",
       "      <td>2007</td>\n",
       "    </tr>\n",
       "  </tbody>\n",
       "</table>\n",
       "</div>"
      ],
      "text/plain": [
       "VehicleAttribute     VehicleID VehicleMake VehicleModel VehicleYOM\n",
       "CustomerID                                                        \n",
       "Cust10008         Vehicle34362  Volkswagen       Passat       1995\n",
       "Cust10010         Vehicle17046      Nissan       Ultima       2006\n",
       "Cust10015         Vehicle11038      Suburu      Impreza       2010\n",
       "Cust10020         Vehicle37114      Accura           TL       2009\n",
       "Cust1003          Vehicle16771       Dodge          RAM       2007"
      ]
     },
     "execution_count": 11,
     "metadata": {},
     "output_type": "execute_result"
    }
   ],
   "source": [
    "Test_Vehicle.pivot(index='CustomerID',columns='VehicleAttribute',values='VehicleAttributeDetails').head(5)\n"
   ]
  },
  {
   "cell_type": "code",
   "execution_count": 12,
   "id": "14e79237",
   "metadata": {},
   "outputs": [],
   "source": [
    "#reshape the Train_vehicle dataframe\n",
    "Train_Vehicle=Train_Vehicle.pivot(index='CustomerID',columns='VehicleAttribute',values='VehicleAttributeDetails').reset_index()\n"
   ]
  },
  {
   "cell_type": "code",
   "execution_count": 13,
   "id": "577ecc55",
   "metadata": {},
   "outputs": [],
   "source": [
    "#reshape the Test_Vehi\n",
    "Test_Vehicle=Test_Vehicle.pivot(index='CustomerID',columns='VehicleAttribute',values='VehicleAttributeDetails').reset_index()\n"
   ]
  },
  {
   "cell_type": "code",
   "execution_count": 14,
   "id": "36a055e5",
   "metadata": {},
   "outputs": [
    {
     "data": {
      "text/plain": [
       "(28836, 5)"
      ]
     },
     "execution_count": 14,
     "metadata": {},
     "output_type": "execute_result"
    }
   ],
   "source": [
    "Train_Vehicle.shape  # check the shape of the Train_vehicle after pivot function"
   ]
  },
  {
   "cell_type": "code",
   "execution_count": 15,
   "id": "4eb01474",
   "metadata": {},
   "outputs": [
    {
     "data": {
      "text/plain": [
       "(8912, 5)"
      ]
     },
     "execution_count": 15,
     "metadata": {},
     "output_type": "execute_result"
    }
   ],
   "source": [
    "Test_Vehicle.shape  # check the shape of the Test_vehicle after pivot function"
   ]
  },
  {
   "cell_type": "markdown",
   "id": "c14058dd",
   "metadata": {},
   "source": [
    "# Merging the Data"
   ]
  },
  {
   "cell_type": "code",
   "execution_count": 16,
   "id": "8ccdf50d",
   "metadata": {},
   "outputs": [],
   "source": [
    "# Merge the all the training Datasets\n",
    "\n",
    "Train1 = pd.merge(Train_Claim,Train_Demographics, how =\"inner\", on='CustomerID')\n",
    "Train2 = pd.merge(Train1,Train_Policy, how =\"inner\", on='CustomerID')\n",
    "Train3 = pd.merge(Train2,Train_Vehicle, how =\"inner\", on='CustomerID')\n",
    "Train4 = pd.merge(Train3,train_target, how =\"inner\", on='CustomerID')\n",
    "Train_data=Train4"
   ]
  },
  {
   "cell_type": "code",
   "execution_count": 17,
   "id": "d640540b",
   "metadata": {},
   "outputs": [],
   "source": [
    "#merge the all testing Datasets\n",
    "Test1 = pd.merge(Test,Test_Claim, how =\"inner\", on='CustomerID')\n",
    "Test2 = pd.merge(Test1,Test_Demographics, how =\"inner\", on='CustomerID')\n",
    "Test3 = pd.merge(Test2,Test_Policy, how =\"inner\", on='CustomerID')\n",
    "Test4 = pd.merge(Test3,Test_Vehicle, how =\"inner\", on='CustomerID')\n",
    "Test_data=Test4"
   ]
  },
  {
   "cell_type": "code",
   "execution_count": 18,
   "id": "b276ccb2",
   "metadata": {
    "scrolled": true
   },
   "outputs": [
    {
     "data": {
      "text/plain": [
       "(28836, 42)"
      ]
     },
     "execution_count": 18,
     "metadata": {},
     "output_type": "execute_result"
    }
   ],
   "source": [
    "Train_data.shape  # check shape of the training Dataset"
   ]
  },
  {
   "cell_type": "markdown",
   "id": "f7b8add9",
   "metadata": {},
   "source": [
    "The dataset contains 28836 rows and 42 columns. Out of 42 columns 41 are independent columns and remaining one is our target variable \"ReportedFraud\"."
   ]
  },
  {
   "cell_type": "code",
   "execution_count": 19,
   "id": "e01eb7c7",
   "metadata": {},
   "outputs": [
    {
     "data": {
      "text/plain": [
       "(8912, 41)"
      ]
     },
     "execution_count": 19,
     "metadata": {},
     "output_type": "execute_result"
    }
   ],
   "source": [
    "Test_data.shape  # check the shape of the Testing Dataset"
   ]
  },
  {
   "cell_type": "code",
   "execution_count": 20,
   "id": "ebfda7f2",
   "metadata": {},
   "outputs": [
    {
     "data": {
      "text/plain": [
       "Index(['CustomerID', 'DateOfIncident', 'TypeOfIncident', 'TypeOfCollission',\n",
       "       'SeverityOfIncident', 'AuthoritiesContacted', 'IncidentState',\n",
       "       'IncidentCity', 'IncidentAddress', 'IncidentTime', 'NumberOfVehicles',\n",
       "       'PropertyDamage', 'BodilyInjuries', 'Witnesses', 'PoliceReport',\n",
       "       'AmountOfTotalClaim', 'AmountOfInjuryClaim', 'AmountOfPropertyClaim',\n",
       "       'AmountOfVehicleDamage', 'InsuredAge', 'InsuredZipCode',\n",
       "       'InsuredGender', 'InsuredEducationLevel', 'InsuredOccupation',\n",
       "       'InsuredHobbies', 'CapitalGains', 'CapitalLoss', 'Country',\n",
       "       'InsurancePolicyNumber', 'CustomerLoyaltyPeriod',\n",
       "       'DateOfPolicyCoverage', 'InsurancePolicyState',\n",
       "       'Policy_CombinedSingleLimit', 'Policy_Deductible',\n",
       "       'PolicyAnnualPremium', 'UmbrellaLimit', 'InsuredRelationship',\n",
       "       'VehicleID', 'VehicleMake', 'VehicleModel', 'VehicleYOM',\n",
       "       'ReportedFraud'],\n",
       "      dtype='object')"
      ]
     },
     "execution_count": 20,
     "metadata": {},
     "output_type": "execute_result"
    }
   ],
   "source": [
    "Train_data.columns # checking for column names"
   ]
  },
  {
   "cell_type": "code",
   "execution_count": 21,
   "id": "c14b307a",
   "metadata": {},
   "outputs": [
    {
     "data": {
      "text/plain": [
       "Index(['CustomerID', 'DateOfIncident', 'TypeOfIncident', 'TypeOfCollission',\n",
       "       'SeverityOfIncident', 'AuthoritiesContacted', 'IncidentState',\n",
       "       'IncidentCity', 'IncidentAddress', 'IncidentTime', 'NumberOfVehicles',\n",
       "       'PropertyDamage', 'BodilyInjuries', 'Witnesses', 'PoliceReport',\n",
       "       'AmountOfTotalClaim', 'AmountOfInjuryClaim', 'AmountOfPropertyClaim',\n",
       "       'AmountOfVehicleDamage', 'InsuredAge', 'InsuredZipCode',\n",
       "       'InsuredGender', 'InsuredEducationLevel', 'InsuredOccupation',\n",
       "       'InsuredHobbies', 'CapitalGains', 'CapitalLoss', 'Country',\n",
       "       'InsurancePolicyNumber', 'CustomerLoyaltyPeriod',\n",
       "       'DateOfPolicyCoverage', 'InsurancePolicyState',\n",
       "       'Policy_CombinedSingleLimit', 'Policy_Deductible',\n",
       "       'PolicyAnnualPremium', 'UmbrellaLimit', 'InsuredRelationship',\n",
       "       'VehicleID', 'VehicleMake', 'VehicleModel', 'VehicleYOM'],\n",
       "      dtype='object')"
      ]
     },
     "execution_count": 21,
     "metadata": {},
     "output_type": "execute_result"
    }
   ],
   "source": [
    "Test_data.columns"
   ]
  },
  {
   "cell_type": "code",
   "execution_count": 22,
   "id": "76926dbf",
   "metadata": {},
   "outputs": [
    {
     "data": {
      "text/html": [
       "<div>\n",
       "<style scoped>\n",
       "    .dataframe tbody tr th:only-of-type {\n",
       "        vertical-align: middle;\n",
       "    }\n",
       "\n",
       "    .dataframe tbody tr th {\n",
       "        vertical-align: top;\n",
       "    }\n",
       "\n",
       "    .dataframe thead th {\n",
       "        text-align: right;\n",
       "    }\n",
       "</style>\n",
       "<table border=\"1\" class=\"dataframe\">\n",
       "  <thead>\n",
       "    <tr style=\"text-align: right;\">\n",
       "      <th></th>\n",
       "      <th>CustomerID</th>\n",
       "      <th>DateOfIncident</th>\n",
       "      <th>TypeOfIncident</th>\n",
       "      <th>TypeOfCollission</th>\n",
       "      <th>SeverityOfIncident</th>\n",
       "      <th>AuthoritiesContacted</th>\n",
       "      <th>IncidentState</th>\n",
       "      <th>IncidentCity</th>\n",
       "      <th>IncidentAddress</th>\n",
       "      <th>IncidentTime</th>\n",
       "      <th>...</th>\n",
       "      <th>Policy_CombinedSingleLimit</th>\n",
       "      <th>Policy_Deductible</th>\n",
       "      <th>PolicyAnnualPremium</th>\n",
       "      <th>UmbrellaLimit</th>\n",
       "      <th>InsuredRelationship</th>\n",
       "      <th>VehicleID</th>\n",
       "      <th>VehicleMake</th>\n",
       "      <th>VehicleModel</th>\n",
       "      <th>VehicleYOM</th>\n",
       "      <th>ReportedFraud</th>\n",
       "    </tr>\n",
       "  </thead>\n",
       "  <tbody>\n",
       "    <tr>\n",
       "      <th>0</th>\n",
       "      <td>Cust10000</td>\n",
       "      <td>2015-02-03</td>\n",
       "      <td>Multi-vehicle Collision</td>\n",
       "      <td>Side Collision</td>\n",
       "      <td>Total Loss</td>\n",
       "      <td>Police</td>\n",
       "      <td>State7</td>\n",
       "      <td>City1</td>\n",
       "      <td>Location 1311</td>\n",
       "      <td>17</td>\n",
       "      <td>...</td>\n",
       "      <td>100/300</td>\n",
       "      <td>1000</td>\n",
       "      <td>1632.73</td>\n",
       "      <td>0</td>\n",
       "      <td>not-in-family</td>\n",
       "      <td>Vehicle26917</td>\n",
       "      <td>Audi</td>\n",
       "      <td>A5</td>\n",
       "      <td>2008</td>\n",
       "      <td>N</td>\n",
       "    </tr>\n",
       "    <tr>\n",
       "      <th>1</th>\n",
       "      <td>Cust10001</td>\n",
       "      <td>2015-02-02</td>\n",
       "      <td>Multi-vehicle Collision</td>\n",
       "      <td>Side Collision</td>\n",
       "      <td>Total Loss</td>\n",
       "      <td>Police</td>\n",
       "      <td>State7</td>\n",
       "      <td>City5</td>\n",
       "      <td>Location 1311</td>\n",
       "      <td>10</td>\n",
       "      <td>...</td>\n",
       "      <td>100/300</td>\n",
       "      <td>1000</td>\n",
       "      <td>1255.19</td>\n",
       "      <td>0</td>\n",
       "      <td>not-in-family</td>\n",
       "      <td>Vehicle15893</td>\n",
       "      <td>Audi</td>\n",
       "      <td>A5</td>\n",
       "      <td>2006</td>\n",
       "      <td>N</td>\n",
       "    </tr>\n",
       "    <tr>\n",
       "      <th>2</th>\n",
       "      <td>Cust10002</td>\n",
       "      <td>2015-01-15</td>\n",
       "      <td>Single Vehicle Collision</td>\n",
       "      <td>Side Collision</td>\n",
       "      <td>Minor Damage</td>\n",
       "      <td>Other</td>\n",
       "      <td>State8</td>\n",
       "      <td>City6</td>\n",
       "      <td>Location 2081</td>\n",
       "      <td>22</td>\n",
       "      <td>...</td>\n",
       "      <td>500/1000</td>\n",
       "      <td>617</td>\n",
       "      <td>1373.38</td>\n",
       "      <td>0</td>\n",
       "      <td>wife</td>\n",
       "      <td>Vehicle5152</td>\n",
       "      <td>Volkswagen</td>\n",
       "      <td>Jetta</td>\n",
       "      <td>1999</td>\n",
       "      <td>N</td>\n",
       "    </tr>\n",
       "    <tr>\n",
       "      <th>3</th>\n",
       "      <td>Cust10003</td>\n",
       "      <td>2015-01-19</td>\n",
       "      <td>Single Vehicle Collision</td>\n",
       "      <td>Side Collision</td>\n",
       "      <td>Minor Damage</td>\n",
       "      <td>Other</td>\n",
       "      <td>State9</td>\n",
       "      <td>City6</td>\n",
       "      <td>Location 2081</td>\n",
       "      <td>22</td>\n",
       "      <td>...</td>\n",
       "      <td>500/1000</td>\n",
       "      <td>722</td>\n",
       "      <td>1337.60</td>\n",
       "      <td>0</td>\n",
       "      <td>own-child</td>\n",
       "      <td>Vehicle37363</td>\n",
       "      <td>Volkswagen</td>\n",
       "      <td>Jetta</td>\n",
       "      <td>2003</td>\n",
       "      <td>N</td>\n",
       "    </tr>\n",
       "    <tr>\n",
       "      <th>4</th>\n",
       "      <td>Cust10004</td>\n",
       "      <td>2015-01-09</td>\n",
       "      <td>Single Vehicle Collision</td>\n",
       "      <td>Rear Collision</td>\n",
       "      <td>Minor Damage</td>\n",
       "      <td>Fire</td>\n",
       "      <td>State8</td>\n",
       "      <td>City6</td>\n",
       "      <td>Location 1695</td>\n",
       "      <td>10</td>\n",
       "      <td>...</td>\n",
       "      <td>100/300</td>\n",
       "      <td>500</td>\n",
       "      <td>1353.73</td>\n",
       "      <td>4279863</td>\n",
       "      <td>unmarried</td>\n",
       "      <td>Vehicle28633</td>\n",
       "      <td>Toyota</td>\n",
       "      <td>CRV</td>\n",
       "      <td>2010</td>\n",
       "      <td>N</td>\n",
       "    </tr>\n",
       "  </tbody>\n",
       "</table>\n",
       "<p>5 rows × 42 columns</p>\n",
       "</div>"
      ],
      "text/plain": [
       "  CustomerID DateOfIncident            TypeOfIncident TypeOfCollission  \\\n",
       "0  Cust10000     2015-02-03   Multi-vehicle Collision   Side Collision   \n",
       "1  Cust10001     2015-02-02   Multi-vehicle Collision   Side Collision   \n",
       "2  Cust10002     2015-01-15  Single Vehicle Collision   Side Collision   \n",
       "3  Cust10003     2015-01-19  Single Vehicle Collision   Side Collision   \n",
       "4  Cust10004     2015-01-09  Single Vehicle Collision   Rear Collision   \n",
       "\n",
       "  SeverityOfIncident AuthoritiesContacted IncidentState IncidentCity  \\\n",
       "0         Total Loss               Police        State7        City1   \n",
       "1         Total Loss               Police        State7        City5   \n",
       "2       Minor Damage                Other        State8        City6   \n",
       "3       Minor Damage                Other        State9        City6   \n",
       "4       Minor Damage                 Fire        State8        City6   \n",
       "\n",
       "  IncidentAddress  IncidentTime  ...  Policy_CombinedSingleLimit  \\\n",
       "0   Location 1311            17  ...                     100/300   \n",
       "1   Location 1311            10  ...                     100/300   \n",
       "2   Location 2081            22  ...                    500/1000   \n",
       "3   Location 2081            22  ...                    500/1000   \n",
       "4   Location 1695            10  ...                     100/300   \n",
       "\n",
       "  Policy_Deductible  PolicyAnnualPremium UmbrellaLimit InsuredRelationship  \\\n",
       "0              1000              1632.73             0       not-in-family   \n",
       "1              1000              1255.19             0       not-in-family   \n",
       "2               617              1373.38             0                wife   \n",
       "3               722              1337.60             0           own-child   \n",
       "4               500              1353.73       4279863           unmarried   \n",
       "\n",
       "      VehicleID  VehicleMake  VehicleModel  VehicleYOM  ReportedFraud  \n",
       "0  Vehicle26917         Audi            A5        2008              N  \n",
       "1  Vehicle15893         Audi            A5        2006              N  \n",
       "2   Vehicle5152   Volkswagen         Jetta        1999              N  \n",
       "3  Vehicle37363   Volkswagen         Jetta        2003              N  \n",
       "4  Vehicle28633       Toyota           CRV        2010              N  \n",
       "\n",
       "[5 rows x 42 columns]"
      ]
     },
     "execution_count": 22,
     "metadata": {},
     "output_type": "execute_result"
    }
   ],
   "source": [
    "Train_data.head() # print the first 5 rows"
   ]
  },
  {
   "cell_type": "code",
   "execution_count": 23,
   "id": "e223bf8c",
   "metadata": {},
   "outputs": [
    {
     "data": {
      "text/html": [
       "<div>\n",
       "<style scoped>\n",
       "    .dataframe tbody tr th:only-of-type {\n",
       "        vertical-align: middle;\n",
       "    }\n",
       "\n",
       "    .dataframe tbody tr th {\n",
       "        vertical-align: top;\n",
       "    }\n",
       "\n",
       "    .dataframe thead th {\n",
       "        text-align: right;\n",
       "    }\n",
       "</style>\n",
       "<table border=\"1\" class=\"dataframe\">\n",
       "  <thead>\n",
       "    <tr style=\"text-align: right;\">\n",
       "      <th></th>\n",
       "      <th>CustomerID</th>\n",
       "      <th>DateOfIncident</th>\n",
       "      <th>TypeOfIncident</th>\n",
       "      <th>TypeOfCollission</th>\n",
       "      <th>SeverityOfIncident</th>\n",
       "      <th>AuthoritiesContacted</th>\n",
       "      <th>IncidentState</th>\n",
       "      <th>IncidentCity</th>\n",
       "      <th>IncidentAddress</th>\n",
       "      <th>IncidentTime</th>\n",
       "      <th>...</th>\n",
       "      <th>Policy_CombinedSingleLimit</th>\n",
       "      <th>Policy_Deductible</th>\n",
       "      <th>PolicyAnnualPremium</th>\n",
       "      <th>UmbrellaLimit</th>\n",
       "      <th>InsuredRelationship</th>\n",
       "      <th>VehicleID</th>\n",
       "      <th>VehicleMake</th>\n",
       "      <th>VehicleModel</th>\n",
       "      <th>VehicleYOM</th>\n",
       "      <th>ReportedFraud</th>\n",
       "    </tr>\n",
       "  </thead>\n",
       "  <tbody>\n",
       "    <tr>\n",
       "      <th>28831</th>\n",
       "      <td>Cust9993</td>\n",
       "      <td>2015-01-24</td>\n",
       "      <td>Vehicle Theft</td>\n",
       "      <td>?</td>\n",
       "      <td>Trivial Damage</td>\n",
       "      <td>Police</td>\n",
       "      <td>State9</td>\n",
       "      <td>City4</td>\n",
       "      <td>Location 1890</td>\n",
       "      <td>3</td>\n",
       "      <td>...</td>\n",
       "      <td>500/1000</td>\n",
       "      <td>655</td>\n",
       "      <td>1276.01</td>\n",
       "      <td>0</td>\n",
       "      <td>unmarried</td>\n",
       "      <td>Vehicle13568</td>\n",
       "      <td>Suburu</td>\n",
       "      <td>Impreza</td>\n",
       "      <td>2007</td>\n",
       "      <td>N</td>\n",
       "    </tr>\n",
       "    <tr>\n",
       "      <th>28832</th>\n",
       "      <td>Cust9994</td>\n",
       "      <td>2015-02-09</td>\n",
       "      <td>Single Vehicle Collision</td>\n",
       "      <td>Front Collision</td>\n",
       "      <td>Minor Damage</td>\n",
       "      <td>Fire</td>\n",
       "      <td>State8</td>\n",
       "      <td>City3</td>\n",
       "      <td>Location 2097</td>\n",
       "      <td>17</td>\n",
       "      <td>...</td>\n",
       "      <td>100/300</td>\n",
       "      <td>1089</td>\n",
       "      <td>1273.38</td>\n",
       "      <td>0</td>\n",
       "      <td>unmarried</td>\n",
       "      <td>Vehicle19810</td>\n",
       "      <td>Jeep</td>\n",
       "      <td>Wrangler</td>\n",
       "      <td>2003</td>\n",
       "      <td>N</td>\n",
       "    </tr>\n",
       "    <tr>\n",
       "      <th>28833</th>\n",
       "      <td>Cust9996</td>\n",
       "      <td>2015-01-28</td>\n",
       "      <td>Single Vehicle Collision</td>\n",
       "      <td>Rear Collision</td>\n",
       "      <td>Minor Damage</td>\n",
       "      <td>Fire</td>\n",
       "      <td>State9</td>\n",
       "      <td>City7</td>\n",
       "      <td>Location 1452</td>\n",
       "      <td>1</td>\n",
       "      <td>...</td>\n",
       "      <td>250/500</td>\n",
       "      <td>787</td>\n",
       "      <td>1380.92</td>\n",
       "      <td>3448735</td>\n",
       "      <td>own-child</td>\n",
       "      <td>Vehicle3339</td>\n",
       "      <td>Suburu</td>\n",
       "      <td>Legacy</td>\n",
       "      <td>2004</td>\n",
       "      <td>N</td>\n",
       "    </tr>\n",
       "    <tr>\n",
       "      <th>28834</th>\n",
       "      <td>Cust9997</td>\n",
       "      <td>2015-01-28</td>\n",
       "      <td>Single Vehicle Collision</td>\n",
       "      <td>Rear Collision</td>\n",
       "      <td>Minor Damage</td>\n",
       "      <td>Ambulance</td>\n",
       "      <td>State9</td>\n",
       "      <td>City3</td>\n",
       "      <td>Location 1876</td>\n",
       "      <td>1</td>\n",
       "      <td>...</td>\n",
       "      <td>250/500</td>\n",
       "      <td>780</td>\n",
       "      <td>1389.29</td>\n",
       "      <td>3364301</td>\n",
       "      <td>not-in-family</td>\n",
       "      <td>Vehicle10240</td>\n",
       "      <td>Suburu</td>\n",
       "      <td>Forrestor</td>\n",
       "      <td>2004</td>\n",
       "      <td>N</td>\n",
       "    </tr>\n",
       "    <tr>\n",
       "      <th>28835</th>\n",
       "      <td>Cust9999</td>\n",
       "      <td>2015-01-13</td>\n",
       "      <td>Single Vehicle Collision</td>\n",
       "      <td>Front Collision</td>\n",
       "      <td>Total Loss</td>\n",
       "      <td>Other</td>\n",
       "      <td>State8</td>\n",
       "      <td>City3</td>\n",
       "      <td>Location 1874</td>\n",
       "      <td>9</td>\n",
       "      <td>...</td>\n",
       "      <td>500/1000</td>\n",
       "      <td>2000</td>\n",
       "      <td>928.43</td>\n",
       "      <td>2909175</td>\n",
       "      <td>husband</td>\n",
       "      <td>Vehicle39163</td>\n",
       "      <td>Suburu</td>\n",
       "      <td>E400</td>\n",
       "      <td>2007</td>\n",
       "      <td>N</td>\n",
       "    </tr>\n",
       "  </tbody>\n",
       "</table>\n",
       "<p>5 rows × 42 columns</p>\n",
       "</div>"
      ],
      "text/plain": [
       "      CustomerID DateOfIncident            TypeOfIncident TypeOfCollission  \\\n",
       "28831   Cust9993     2015-01-24             Vehicle Theft                ?   \n",
       "28832   Cust9994     2015-02-09  Single Vehicle Collision  Front Collision   \n",
       "28833   Cust9996     2015-01-28  Single Vehicle Collision   Rear Collision   \n",
       "28834   Cust9997     2015-01-28  Single Vehicle Collision   Rear Collision   \n",
       "28835   Cust9999     2015-01-13  Single Vehicle Collision  Front Collision   \n",
       "\n",
       "      SeverityOfIncident AuthoritiesContacted IncidentState IncidentCity  \\\n",
       "28831     Trivial Damage               Police        State9        City4   \n",
       "28832       Minor Damage                 Fire        State8        City3   \n",
       "28833       Minor Damage                 Fire        State9        City7   \n",
       "28834       Minor Damage            Ambulance        State9        City3   \n",
       "28835         Total Loss                Other        State8        City3   \n",
       "\n",
       "      IncidentAddress  IncidentTime  ...  Policy_CombinedSingleLimit  \\\n",
       "28831   Location 1890             3  ...                    500/1000   \n",
       "28832   Location 2097            17  ...                     100/300   \n",
       "28833   Location 1452             1  ...                     250/500   \n",
       "28834   Location 1876             1  ...                     250/500   \n",
       "28835   Location 1874             9  ...                    500/1000   \n",
       "\n",
       "      Policy_Deductible  PolicyAnnualPremium UmbrellaLimit  \\\n",
       "28831               655              1276.01             0   \n",
       "28832              1089              1273.38             0   \n",
       "28833               787              1380.92       3448735   \n",
       "28834               780              1389.29       3364301   \n",
       "28835              2000               928.43       2909175   \n",
       "\n",
       "      InsuredRelationship     VehicleID  VehicleMake  VehicleModel  \\\n",
       "28831           unmarried  Vehicle13568       Suburu       Impreza   \n",
       "28832           unmarried  Vehicle19810         Jeep      Wrangler   \n",
       "28833           own-child   Vehicle3339       Suburu        Legacy   \n",
       "28834       not-in-family  Vehicle10240       Suburu     Forrestor   \n",
       "28835             husband  Vehicle39163       Suburu          E400   \n",
       "\n",
       "       VehicleYOM  ReportedFraud  \n",
       "28831        2007              N  \n",
       "28832        2003              N  \n",
       "28833        2004              N  \n",
       "28834        2004              N  \n",
       "28835        2007              N  \n",
       "\n",
       "[5 rows x 42 columns]"
      ]
     },
     "execution_count": 23,
     "metadata": {},
     "output_type": "execute_result"
    }
   ],
   "source": [
    "Train_data.tail() # print last 5 rows for training Data"
   ]
  },
  {
   "cell_type": "code",
   "execution_count": 24,
   "id": "187ebab1",
   "metadata": {},
   "outputs": [
    {
     "data": {
      "text/html": [
       "<div>\n",
       "<style scoped>\n",
       "    .dataframe tbody tr th:only-of-type {\n",
       "        vertical-align: middle;\n",
       "    }\n",
       "\n",
       "    .dataframe tbody tr th {\n",
       "        vertical-align: top;\n",
       "    }\n",
       "\n",
       "    .dataframe thead th {\n",
       "        text-align: right;\n",
       "    }\n",
       "</style>\n",
       "<table border=\"1\" class=\"dataframe\">\n",
       "  <thead>\n",
       "    <tr style=\"text-align: right;\">\n",
       "      <th></th>\n",
       "      <th>CustomerID</th>\n",
       "      <th>DateOfIncident</th>\n",
       "      <th>TypeOfIncident</th>\n",
       "      <th>TypeOfCollission</th>\n",
       "      <th>SeverityOfIncident</th>\n",
       "      <th>AuthoritiesContacted</th>\n",
       "      <th>IncidentState</th>\n",
       "      <th>IncidentCity</th>\n",
       "      <th>IncidentAddress</th>\n",
       "      <th>IncidentTime</th>\n",
       "      <th>...</th>\n",
       "      <th>InsurancePolicyState</th>\n",
       "      <th>Policy_CombinedSingleLimit</th>\n",
       "      <th>Policy_Deductible</th>\n",
       "      <th>PolicyAnnualPremium</th>\n",
       "      <th>UmbrellaLimit</th>\n",
       "      <th>InsuredRelationship</th>\n",
       "      <th>VehicleID</th>\n",
       "      <th>VehicleMake</th>\n",
       "      <th>VehicleModel</th>\n",
       "      <th>VehicleYOM</th>\n",
       "    </tr>\n",
       "  </thead>\n",
       "  <tbody>\n",
       "    <tr>\n",
       "      <th>0</th>\n",
       "      <td>Cust10008</td>\n",
       "      <td>2015-02-05</td>\n",
       "      <td>Multi-vehicle Collision</td>\n",
       "      <td>Front Collision</td>\n",
       "      <td>Minor Damage</td>\n",
       "      <td>Ambulance</td>\n",
       "      <td>State5</td>\n",
       "      <td>City2</td>\n",
       "      <td>Location 1354</td>\n",
       "      <td>4</td>\n",
       "      <td>...</td>\n",
       "      <td>State2</td>\n",
       "      <td>500/1000</td>\n",
       "      <td>2000</td>\n",
       "      <td>1006.00</td>\n",
       "      <td>0</td>\n",
       "      <td>own-child</td>\n",
       "      <td>Vehicle34362</td>\n",
       "      <td>Volkswagen</td>\n",
       "      <td>Passat</td>\n",
       "      <td>1995</td>\n",
       "    </tr>\n",
       "    <tr>\n",
       "      <th>1</th>\n",
       "      <td>Cust10010</td>\n",
       "      <td>2015-01-13</td>\n",
       "      <td>Single Vehicle Collision</td>\n",
       "      <td>Rear Collision</td>\n",
       "      <td>Minor Damage</td>\n",
       "      <td>Fire</td>\n",
       "      <td>State9</td>\n",
       "      <td>City5</td>\n",
       "      <td>Location 1383</td>\n",
       "      <td>16</td>\n",
       "      <td>...</td>\n",
       "      <td>State3</td>\n",
       "      <td>100/300</td>\n",
       "      <td>500</td>\n",
       "      <td>1279.17</td>\n",
       "      <td>0</td>\n",
       "      <td>unmarried</td>\n",
       "      <td>Vehicle17046</td>\n",
       "      <td>Nissan</td>\n",
       "      <td>Ultima</td>\n",
       "      <td>2006</td>\n",
       "    </tr>\n",
       "    <tr>\n",
       "      <th>2</th>\n",
       "      <td>Cust10015</td>\n",
       "      <td>2015-01-05</td>\n",
       "      <td>Multi-vehicle Collision</td>\n",
       "      <td>Rear Collision</td>\n",
       "      <td>Minor Damage</td>\n",
       "      <td>Police</td>\n",
       "      <td>State5</td>\n",
       "      <td>City2</td>\n",
       "      <td>Location 2030</td>\n",
       "      <td>20</td>\n",
       "      <td>...</td>\n",
       "      <td>State2</td>\n",
       "      <td>250/500</td>\n",
       "      <td>1000</td>\n",
       "      <td>1454.67</td>\n",
       "      <td>1235986</td>\n",
       "      <td>other-relative</td>\n",
       "      <td>Vehicle11038</td>\n",
       "      <td>Suburu</td>\n",
       "      <td>Impreza</td>\n",
       "      <td>2010</td>\n",
       "    </tr>\n",
       "    <tr>\n",
       "      <th>3</th>\n",
       "      <td>Cust10020</td>\n",
       "      <td>2015-01-03</td>\n",
       "      <td>Vehicle Theft</td>\n",
       "      <td>?</td>\n",
       "      <td>Trivial Damage</td>\n",
       "      <td>None</td>\n",
       "      <td>State7</td>\n",
       "      <td>City5</td>\n",
       "      <td>Location 1449</td>\n",
       "      <td>10</td>\n",
       "      <td>...</td>\n",
       "      <td>State3</td>\n",
       "      <td>500/500</td>\n",
       "      <td>2000</td>\n",
       "      <td>1287.76</td>\n",
       "      <td>5873212</td>\n",
       "      <td>wife</td>\n",
       "      <td>Vehicle37114</td>\n",
       "      <td>Accura</td>\n",
       "      <td>TL</td>\n",
       "      <td>2009</td>\n",
       "    </tr>\n",
       "    <tr>\n",
       "      <th>4</th>\n",
       "      <td>Cust1003</td>\n",
       "      <td>2015-02-22</td>\n",
       "      <td>Multi-vehicle Collision</td>\n",
       "      <td>Rear Collision</td>\n",
       "      <td>Minor Damage</td>\n",
       "      <td>Police</td>\n",
       "      <td>State5</td>\n",
       "      <td>City2</td>\n",
       "      <td>Location 1916</td>\n",
       "      <td>7</td>\n",
       "      <td>...</td>\n",
       "      <td>State3</td>\n",
       "      <td>100/300</td>\n",
       "      <td>2000</td>\n",
       "      <td>1413.14</td>\n",
       "      <td>5000000</td>\n",
       "      <td>own-child</td>\n",
       "      <td>Vehicle16771</td>\n",
       "      <td>Dodge</td>\n",
       "      <td>RAM</td>\n",
       "      <td>2007</td>\n",
       "    </tr>\n",
       "  </tbody>\n",
       "</table>\n",
       "<p>5 rows × 41 columns</p>\n",
       "</div>"
      ],
      "text/plain": [
       "  CustomerID DateOfIncident            TypeOfIncident TypeOfCollission  \\\n",
       "0  Cust10008     2015-02-05   Multi-vehicle Collision  Front Collision   \n",
       "1  Cust10010     2015-01-13  Single Vehicle Collision   Rear Collision   \n",
       "2  Cust10015     2015-01-05   Multi-vehicle Collision   Rear Collision   \n",
       "3  Cust10020     2015-01-03             Vehicle Theft                ?   \n",
       "4   Cust1003     2015-02-22   Multi-vehicle Collision   Rear Collision   \n",
       "\n",
       "  SeverityOfIncident AuthoritiesContacted IncidentState IncidentCity  \\\n",
       "0       Minor Damage            Ambulance        State5        City2   \n",
       "1       Minor Damage                 Fire        State9        City5   \n",
       "2       Minor Damage               Police        State5        City2   \n",
       "3     Trivial Damage                 None        State7        City5   \n",
       "4       Minor Damage               Police        State5        City2   \n",
       "\n",
       "  IncidentAddress  IncidentTime  ...  InsurancePolicyState  \\\n",
       "0   Location 1354             4  ...                State2   \n",
       "1   Location 1383            16  ...                State3   \n",
       "2   Location 2030            20  ...                State2   \n",
       "3   Location 1449            10  ...                State3   \n",
       "4   Location 1916             7  ...                State3   \n",
       "\n",
       "  Policy_CombinedSingleLimit  Policy_Deductible PolicyAnnualPremium  \\\n",
       "0                   500/1000               2000             1006.00   \n",
       "1                    100/300                500             1279.17   \n",
       "2                    250/500               1000             1454.67   \n",
       "3                    500/500               2000             1287.76   \n",
       "4                    100/300               2000             1413.14   \n",
       "\n",
       "  UmbrellaLimit InsuredRelationship     VehicleID  VehicleMake  VehicleModel  \\\n",
       "0             0           own-child  Vehicle34362   Volkswagen        Passat   \n",
       "1             0           unmarried  Vehicle17046       Nissan        Ultima   \n",
       "2       1235986      other-relative  Vehicle11038       Suburu       Impreza   \n",
       "3       5873212                wife  Vehicle37114       Accura            TL   \n",
       "4       5000000           own-child  Vehicle16771        Dodge           RAM   \n",
       "\n",
       "   VehicleYOM  \n",
       "0        1995  \n",
       "1        2006  \n",
       "2        2010  \n",
       "3        2009  \n",
       "4        2007  \n",
       "\n",
       "[5 rows x 41 columns]"
      ]
     },
     "execution_count": 24,
     "metadata": {},
     "output_type": "execute_result"
    }
   ],
   "source": [
    "Test_data.head()"
   ]
  },
  {
   "cell_type": "code",
   "execution_count": 25,
   "id": "6ef5199a",
   "metadata": {},
   "outputs": [
    {
     "data": {
      "text/html": [
       "<div>\n",
       "<style scoped>\n",
       "    .dataframe tbody tr th:only-of-type {\n",
       "        vertical-align: middle;\n",
       "    }\n",
       "\n",
       "    .dataframe tbody tr th {\n",
       "        vertical-align: top;\n",
       "    }\n",
       "\n",
       "    .dataframe thead th {\n",
       "        text-align: right;\n",
       "    }\n",
       "</style>\n",
       "<table border=\"1\" class=\"dataframe\">\n",
       "  <thead>\n",
       "    <tr style=\"text-align: right;\">\n",
       "      <th></th>\n",
       "      <th>CustomerID</th>\n",
       "      <th>DateOfIncident</th>\n",
       "      <th>TypeOfIncident</th>\n",
       "      <th>TypeOfCollission</th>\n",
       "      <th>SeverityOfIncident</th>\n",
       "      <th>AuthoritiesContacted</th>\n",
       "      <th>IncidentState</th>\n",
       "      <th>IncidentCity</th>\n",
       "      <th>IncidentAddress</th>\n",
       "      <th>IncidentTime</th>\n",
       "      <th>...</th>\n",
       "      <th>InsurancePolicyState</th>\n",
       "      <th>Policy_CombinedSingleLimit</th>\n",
       "      <th>Policy_Deductible</th>\n",
       "      <th>PolicyAnnualPremium</th>\n",
       "      <th>UmbrellaLimit</th>\n",
       "      <th>InsuredRelationship</th>\n",
       "      <th>VehicleID</th>\n",
       "      <th>VehicleMake</th>\n",
       "      <th>VehicleModel</th>\n",
       "      <th>VehicleYOM</th>\n",
       "    </tr>\n",
       "  </thead>\n",
       "  <tbody>\n",
       "    <tr>\n",
       "      <th>8907</th>\n",
       "      <td>Cust37942</td>\n",
       "      <td>2015-01-07</td>\n",
       "      <td>Multi-vehicle Collision</td>\n",
       "      <td>?</td>\n",
       "      <td>Total Loss</td>\n",
       "      <td>Police</td>\n",
       "      <td>State9</td>\n",
       "      <td>City7</td>\n",
       "      <td>Location 2000</td>\n",
       "      <td>4</td>\n",
       "      <td>...</td>\n",
       "      <td>State2</td>\n",
       "      <td>100/300</td>\n",
       "      <td>1487</td>\n",
       "      <td>1412.51</td>\n",
       "      <td>0</td>\n",
       "      <td>not-in-family</td>\n",
       "      <td>Vehicle13463</td>\n",
       "      <td>Volkswagen</td>\n",
       "      <td>Jetta</td>\n",
       "      <td>2008</td>\n",
       "    </tr>\n",
       "    <tr>\n",
       "      <th>8908</th>\n",
       "      <td>Cust20528</td>\n",
       "      <td>2015-01-13</td>\n",
       "      <td>Multi-vehicle Collision</td>\n",
       "      <td>Rear Collision</td>\n",
       "      <td>Major Damage</td>\n",
       "      <td>Other</td>\n",
       "      <td>State9</td>\n",
       "      <td>City1</td>\n",
       "      <td>Location 1696</td>\n",
       "      <td>8</td>\n",
       "      <td>...</td>\n",
       "      <td>State3</td>\n",
       "      <td>500/1000</td>\n",
       "      <td>2000</td>\n",
       "      <td>1451.31</td>\n",
       "      <td>0</td>\n",
       "      <td>husband</td>\n",
       "      <td>Vehicle34361</td>\n",
       "      <td>Nissan</td>\n",
       "      <td>Jetta</td>\n",
       "      <td>2004</td>\n",
       "    </tr>\n",
       "    <tr>\n",
       "      <th>8909</th>\n",
       "      <td>Cust36797</td>\n",
       "      <td>2015-01-06</td>\n",
       "      <td>Multi-vehicle Collision</td>\n",
       "      <td>Side Collision</td>\n",
       "      <td>Total Loss</td>\n",
       "      <td>Ambulance</td>\n",
       "      <td>State8</td>\n",
       "      <td>City3</td>\n",
       "      <td>Location 1931</td>\n",
       "      <td>4</td>\n",
       "      <td>...</td>\n",
       "      <td>State1</td>\n",
       "      <td>100/300</td>\n",
       "      <td>2000</td>\n",
       "      <td>1537.83</td>\n",
       "      <td>0</td>\n",
       "      <td>wife</td>\n",
       "      <td>Vehicle8733</td>\n",
       "      <td>Volkswagen</td>\n",
       "      <td>Jetta</td>\n",
       "      <td>1996</td>\n",
       "    </tr>\n",
       "    <tr>\n",
       "      <th>8910</th>\n",
       "      <td>Cust28499</td>\n",
       "      <td>2015-01-09</td>\n",
       "      <td>Single Vehicle Collision</td>\n",
       "      <td>Front Collision</td>\n",
       "      <td>Total Loss</td>\n",
       "      <td>Other</td>\n",
       "      <td>State7</td>\n",
       "      <td>City4</td>\n",
       "      <td>Location 1404</td>\n",
       "      <td>18</td>\n",
       "      <td>...</td>\n",
       "      <td>State1</td>\n",
       "      <td>100/300</td>\n",
       "      <td>2000</td>\n",
       "      <td>1223.43</td>\n",
       "      <td>0</td>\n",
       "      <td>own-child</td>\n",
       "      <td>Vehicle39589</td>\n",
       "      <td>Volkswagen</td>\n",
       "      <td>Jetta</td>\n",
       "      <td>2003</td>\n",
       "    </tr>\n",
       "    <tr>\n",
       "      <th>8911</th>\n",
       "      <td>Cust21356</td>\n",
       "      <td>2015-01-10</td>\n",
       "      <td>Multi-vehicle Collision</td>\n",
       "      <td>Front Collision</td>\n",
       "      <td>Total Loss</td>\n",
       "      <td>Ambulance</td>\n",
       "      <td>State9</td>\n",
       "      <td>City1</td>\n",
       "      <td>Location 1696</td>\n",
       "      <td>3</td>\n",
       "      <td>...</td>\n",
       "      <td>State1</td>\n",
       "      <td>500/1000</td>\n",
       "      <td>2000</td>\n",
       "      <td>1475.66</td>\n",
       "      <td>0</td>\n",
       "      <td>own-child</td>\n",
       "      <td>Vehicle16648</td>\n",
       "      <td>Ford</td>\n",
       "      <td>Jetta</td>\n",
       "      <td>2004</td>\n",
       "    </tr>\n",
       "  </tbody>\n",
       "</table>\n",
       "<p>5 rows × 41 columns</p>\n",
       "</div>"
      ],
      "text/plain": [
       "     CustomerID DateOfIncident            TypeOfIncident TypeOfCollission  \\\n",
       "8907  Cust37942     2015-01-07   Multi-vehicle Collision                ?   \n",
       "8908  Cust20528     2015-01-13   Multi-vehicle Collision   Rear Collision   \n",
       "8909  Cust36797     2015-01-06   Multi-vehicle Collision   Side Collision   \n",
       "8910  Cust28499     2015-01-09  Single Vehicle Collision  Front Collision   \n",
       "8911  Cust21356     2015-01-10   Multi-vehicle Collision  Front Collision   \n",
       "\n",
       "     SeverityOfIncident AuthoritiesContacted IncidentState IncidentCity  \\\n",
       "8907         Total Loss               Police        State9        City7   \n",
       "8908       Major Damage                Other        State9        City1   \n",
       "8909         Total Loss            Ambulance        State8        City3   \n",
       "8910         Total Loss                Other        State7        City4   \n",
       "8911         Total Loss            Ambulance        State9        City1   \n",
       "\n",
       "     IncidentAddress  IncidentTime  ...  InsurancePolicyState  \\\n",
       "8907   Location 2000             4  ...                State2   \n",
       "8908   Location 1696             8  ...                State3   \n",
       "8909   Location 1931             4  ...                State1   \n",
       "8910   Location 1404            18  ...                State1   \n",
       "8911   Location 1696             3  ...                State1   \n",
       "\n",
       "     Policy_CombinedSingleLimit  Policy_Deductible PolicyAnnualPremium  \\\n",
       "8907                    100/300               1487             1412.51   \n",
       "8908                   500/1000               2000             1451.31   \n",
       "8909                    100/300               2000             1537.83   \n",
       "8910                    100/300               2000             1223.43   \n",
       "8911                   500/1000               2000             1475.66   \n",
       "\n",
       "     UmbrellaLimit InsuredRelationship     VehicleID  VehicleMake  \\\n",
       "8907             0       not-in-family  Vehicle13463   Volkswagen   \n",
       "8908             0             husband  Vehicle34361       Nissan   \n",
       "8909             0                wife   Vehicle8733   Volkswagen   \n",
       "8910             0           own-child  Vehicle39589   Volkswagen   \n",
       "8911             0           own-child  Vehicle16648         Ford   \n",
       "\n",
       "      VehicleModel  VehicleYOM  \n",
       "8907         Jetta        2008  \n",
       "8908         Jetta        2004  \n",
       "8909         Jetta        1996  \n",
       "8910         Jetta        2003  \n",
       "8911         Jetta        2004  \n",
       "\n",
       "[5 rows x 41 columns]"
      ]
     },
     "execution_count": 25,
     "metadata": {},
     "output_type": "execute_result"
    }
   ],
   "source": [
    "Test_data.tail()"
   ]
  },
  {
   "cell_type": "code",
   "execution_count": 26,
   "id": "bf224d76",
   "metadata": {},
   "outputs": [
    {
     "data": {
      "text/plain": [
       "CustomerID                     object\n",
       "DateOfIncident                 object\n",
       "TypeOfIncident                 object\n",
       "TypeOfCollission               object\n",
       "SeverityOfIncident             object\n",
       "AuthoritiesContacted           object\n",
       "IncidentState                  object\n",
       "IncidentCity                   object\n",
       "IncidentAddress                object\n",
       "IncidentTime                    int64\n",
       "NumberOfVehicles                int64\n",
       "PropertyDamage                 object\n",
       "BodilyInjuries                  int64\n",
       "Witnesses                      object\n",
       "PoliceReport                   object\n",
       "AmountOfTotalClaim             object\n",
       "AmountOfInjuryClaim             int64\n",
       "AmountOfPropertyClaim           int64\n",
       "AmountOfVehicleDamage           int64\n",
       "InsuredAge                      int64\n",
       "InsuredZipCode                  int64\n",
       "InsuredGender                  object\n",
       "InsuredEducationLevel          object\n",
       "InsuredOccupation              object\n",
       "InsuredHobbies                 object\n",
       "CapitalGains                    int64\n",
       "CapitalLoss                     int64\n",
       "Country                        object\n",
       "InsurancePolicyNumber           int64\n",
       "CustomerLoyaltyPeriod           int64\n",
       "DateOfPolicyCoverage           object\n",
       "InsurancePolicyState           object\n",
       "Policy_CombinedSingleLimit     object\n",
       "Policy_Deductible               int64\n",
       "PolicyAnnualPremium           float64\n",
       "UmbrellaLimit                   int64\n",
       "InsuredRelationship            object\n",
       "VehicleID                      object\n",
       "VehicleMake                    object\n",
       "VehicleModel                   object\n",
       "VehicleYOM                     object\n",
       "ReportedFraud                  object\n",
       "dtype: object"
      ]
     },
     "execution_count": 26,
     "metadata": {},
     "output_type": "execute_result"
    }
   ],
   "source": [
    "Train_data.dtypes # Datatype for eacch variable"
   ]
  },
  {
   "cell_type": "code",
   "execution_count": 27,
   "id": "482f70e1",
   "metadata": {},
   "outputs": [
    {
     "data": {
      "text/plain": [
       "CustomerID                     object\n",
       "DateOfIncident                 object\n",
       "TypeOfIncident                 object\n",
       "TypeOfCollission               object\n",
       "SeverityOfIncident             object\n",
       "AuthoritiesContacted           object\n",
       "IncidentState                  object\n",
       "IncidentCity                   object\n",
       "IncidentAddress                object\n",
       "IncidentTime                    int64\n",
       "NumberOfVehicles                int64\n",
       "PropertyDamage                 object\n",
       "BodilyInjuries                  int64\n",
       "Witnesses                      object\n",
       "PoliceReport                   object\n",
       "AmountOfTotalClaim             object\n",
       "AmountOfInjuryClaim             int64\n",
       "AmountOfPropertyClaim           int64\n",
       "AmountOfVehicleDamage           int64\n",
       "InsuredAge                      int64\n",
       "InsuredZipCode                  int64\n",
       "InsuredGender                  object\n",
       "InsuredEducationLevel          object\n",
       "InsuredOccupation              object\n",
       "InsuredHobbies                 object\n",
       "CapitalGains                    int64\n",
       "CapitalLoss                     int64\n",
       "Country                        object\n",
       "InsurancePolicyNumber           int64\n",
       "CustomerLoyaltyPeriod           int64\n",
       "DateOfPolicyCoverage           object\n",
       "InsurancePolicyState           object\n",
       "Policy_CombinedSingleLimit     object\n",
       "Policy_Deductible               int64\n",
       "PolicyAnnualPremium           float64\n",
       "UmbrellaLimit                   int64\n",
       "InsuredRelationship            object\n",
       "VehicleID                      object\n",
       "VehicleMake                    object\n",
       "VehicleModel                   object\n",
       "VehicleYOM                     object\n",
       "dtype: object"
      ]
     },
     "execution_count": 27,
     "metadata": {},
     "output_type": "execute_result"
    }
   ],
   "source": [
    "Test_data.dtypes # Datatype for eacch variable"
   ]
  },
  {
   "cell_type": "code",
   "execution_count": 28,
   "id": "b329b85b",
   "metadata": {},
   "outputs": [
    {
     "name": "stdout",
     "output_type": "stream",
     "text": [
      "----------------------------------------CustomerID---------------------------------------- - "
     ]
    },
    {
     "data": {
      "text/plain": [
       "Cust10000    1\n",
       "Cust33397    1\n",
       "Cust33356    1\n",
       "Cust33354    1\n",
       "Cust33353    1\n",
       "Cust33352    1\n",
       "Cust33351    1\n",
       "Cust33350    1\n",
       "Cust33349    1\n",
       "Cust33348    1\n",
       "Name: CustomerID, dtype: int64"
      ]
     },
     "metadata": {},
     "output_type": "display_data"
    },
    {
     "name": "stdout",
     "output_type": "stream",
     "text": [
      "----------------------------------------DateOfIncident---------------------------------------- - "
     ]
    },
    {
     "data": {
      "text/plain": [
       "2015-01-10    661\n",
       "2015-01-18    657\n",
       "2015-02-17    648\n",
       "2015-01-17    647\n",
       "2015-01-09    646\n",
       "2015-01-11    629\n",
       "2015-01-16    623\n",
       "2015-01-19    619\n",
       "2015-01-08    610\n",
       "2015-01-20    604\n",
       "Name: DateOfIncident, dtype: int64"
      ]
     },
     "metadata": {},
     "output_type": "display_data"
    },
    {
     "name": "stdout",
     "output_type": "stream",
     "text": [
      "----------------------------------------TypeOfIncident---------------------------------------- - "
     ]
    },
    {
     "data": {
      "text/plain": [
       "Multi-vehicle Collision     11966\n",
       "Single Vehicle Collision    11677\n",
       "Vehicle Theft                2685\n",
       "Parked Car                   2508\n",
       "Name: TypeOfIncident, dtype: int64"
      ]
     },
     "metadata": {},
     "output_type": "display_data"
    },
    {
     "name": "stdout",
     "output_type": "stream",
     "text": [
      "----------------------------------------TypeOfCollission---------------------------------------- - "
     ]
    },
    {
     "data": {
      "text/plain": [
       "Rear Collision     8561\n",
       "Side Collision     7867\n",
       "Front Collision    7246\n",
       "?                  5162\n",
       "Name: TypeOfCollission, dtype: int64"
      ]
     },
     "metadata": {},
     "output_type": "display_data"
    },
    {
     "name": "stdout",
     "output_type": "stream",
     "text": [
      "----------------------------------------SeverityOfIncident---------------------------------------- - "
     ]
    },
    {
     "data": {
      "text/plain": [
       "Minor Damage      10400\n",
       "Total Loss         8218\n",
       "Major Damage       7671\n",
       "Trivial Damage     2547\n",
       "Name: SeverityOfIncident, dtype: int64"
      ]
     },
     "metadata": {},
     "output_type": "display_data"
    },
    {
     "name": "stdout",
     "output_type": "stream",
     "text": [
      "----------------------------------------AuthoritiesContacted---------------------------------------- - "
     ]
    },
    {
     "data": {
      "text/plain": [
       "Police       8324\n",
       "Fire         6518\n",
       "Ambulance    5732\n",
       "Other        5570\n",
       "None         2692\n",
       "Name: AuthoritiesContacted, dtype: int64"
      ]
     },
     "metadata": {},
     "output_type": "display_data"
    },
    {
     "name": "stdout",
     "output_type": "stream",
     "text": [
      "----------------------------------------IncidentState---------------------------------------- - "
     ]
    },
    {
     "data": {
      "text/plain": [
       "State5    7886\n",
       "State7    7168\n",
       "State9    6161\n",
       "State8    3181\n",
       "State4    3029\n",
       "State6     810\n",
       "State3     601\n",
       "Name: IncidentState, dtype: int64"
      ]
     },
     "metadata": {},
     "output_type": "display_data"
    },
    {
     "name": "stdout",
     "output_type": "stream",
     "text": [
      "----------------------------------------IncidentCity---------------------------------------- - "
     ]
    },
    {
     "data": {
      "text/plain": [
       "City2    4486\n",
       "City1    4374\n",
       "City4    4311\n",
       "City7    4216\n",
       "City3    4073\n",
       "City5    3698\n",
       "City6    3678\n",
       "Name: IncidentCity, dtype: int64"
      ]
     },
     "metadata": {},
     "output_type": "display_data"
    },
    {
     "name": "stdout",
     "output_type": "stream",
     "text": [
      "----------------------------------------IncidentAddress---------------------------------------- - "
     ]
    },
    {
     "data": {
      "text/plain": [
       "Location 1341    73\n",
       "Location 1254    72\n",
       "Location 1227    71\n",
       "Location 2006    70\n",
       "Location 1136    68\n",
       "Location 1192    67\n",
       "Location 1321    66\n",
       "Location 1375    66\n",
       "Location 1223    66\n",
       "Location 1469    65\n",
       "Name: IncidentAddress, dtype: int64"
      ]
     },
     "metadata": {},
     "output_type": "display_data"
    },
    {
     "name": "stdout",
     "output_type": "stream",
     "text": [
      "----------------------------------------IncidentTime---------------------------------------- - "
     ]
    },
    {
     "data": {
      "text/plain": [
       "16    1616\n",
       "17    1615\n",
       "6     1564\n",
       "15    1541\n",
       "14    1461\n",
       "5     1434\n",
       "13    1420\n",
       "18    1419\n",
       "4     1406\n",
       "12    1363\n",
       "Name: IncidentTime, dtype: int64"
      ]
     },
     "metadata": {},
     "output_type": "display_data"
    },
    {
     "name": "stdout",
     "output_type": "stream",
     "text": [
      "----------------------------------------NumberOfVehicles---------------------------------------- - "
     ]
    },
    {
     "data": {
      "text/plain": [
       "1    16169\n",
       "3     9711\n",
       "2     2276\n",
       "4      680\n",
       "Name: NumberOfVehicles, dtype: int64"
      ]
     },
     "metadata": {},
     "output_type": "display_data"
    },
    {
     "name": "stdout",
     "output_type": "stream",
     "text": [
      "----------------------------------------PropertyDamage---------------------------------------- - "
     ]
    },
    {
     "data": {
      "text/plain": [
       "?      10459\n",
       "NO      9687\n",
       "YES     8690\n",
       "Name: PropertyDamage, dtype: int64"
      ]
     },
     "metadata": {},
     "output_type": "display_data"
    },
    {
     "name": "stdout",
     "output_type": "stream",
     "text": [
      "----------------------------------------BodilyInjuries---------------------------------------- - "
     ]
    },
    {
     "data": {
      "text/plain": [
       "1    11072\n",
       "0     9087\n",
       "2     8677\n",
       "Name: BodilyInjuries, dtype: int64"
      ]
     },
     "metadata": {},
     "output_type": "display_data"
    },
    {
     "name": "stdout",
     "output_type": "stream",
     "text": [
      "----------------------------------------Witnesses---------------------------------------- - "
     ]
    },
    {
     "data": {
      "text/plain": [
       "2               8449\n",
       "1               8345\n",
       "0               6128\n",
       "3               5868\n",
       "MISSINGVALUE      46\n",
       "Name: Witnesses, dtype: int64"
      ]
     },
     "metadata": {},
     "output_type": "display_data"
    },
    {
     "name": "stdout",
     "output_type": "stream",
     "text": [
      "----------------------------------------PoliceReport---------------------------------------- - "
     ]
    },
    {
     "data": {
      "text/plain": [
       "NO     9898\n",
       "?      9805\n",
       "YES    9133\n",
       "Name: PoliceReport, dtype: int64"
      ]
     },
     "metadata": {},
     "output_type": "display_data"
    },
    {
     "name": "stdout",
     "output_type": "stream",
     "text": [
      "----------------------------------------AmountOfTotalClaim---------------------------------------- - "
     ]
    },
    {
     "data": {
      "text/plain": [
       "MISSEDDATA    50\n",
       "6820          12\n",
       "5400           8\n",
       "60600          8\n",
       "55000          7\n",
       "5399           7\n",
       "63900          6\n",
       "5191           6\n",
       "5257           6\n",
       "4620           6\n",
       "Name: AmountOfTotalClaim, dtype: int64"
      ]
     },
     "metadata": {},
     "output_type": "display_data"
    },
    {
     "name": "stdout",
     "output_type": "stream",
     "text": [
      "----------------------------------------AmountOfInjuryClaim---------------------------------------- - "
     ]
    },
    {
     "data": {
      "text/plain": [
       "0      68\n",
       "480    51\n",
       "640    34\n",
       "580    19\n",
       "536    17\n",
       "532    17\n",
       "740    17\n",
       "531    16\n",
       "600    16\n",
       "654    16\n",
       "Name: AmountOfInjuryClaim, dtype: int64"
      ]
     },
     "metadata": {},
     "output_type": "display_data"
    },
    {
     "name": "stdout",
     "output_type": "stream",
     "text": [
      "----------------------------------------AmountOfPropertyClaim---------------------------------------- - "
     ]
    },
    {
     "data": {
      "text/plain": [
       "0       35\n",
       "580     17\n",
       "578     16\n",
       "606     16\n",
       "506     15\n",
       "1240    15\n",
       "490     14\n",
       "717     14\n",
       "650     13\n",
       "461     13\n",
       "Name: AmountOfPropertyClaim, dtype: int64"
      ]
     },
     "metadata": {},
     "output_type": "display_data"
    },
    {
     "name": "stdout",
     "output_type": "stream",
     "text": [
      "----------------------------------------AmountOfVehicleDamage---------------------------------------- - "
     ]
    },
    {
     "data": {
      "text/plain": [
       "2560     19\n",
       "5040     12\n",
       "28000    11\n",
       "3600      8\n",
       "3290      8\n",
       "3933      8\n",
       "4317      7\n",
       "3680      7\n",
       "41999     7\n",
       "48160     7\n",
       "Name: AmountOfVehicleDamage, dtype: int64"
      ]
     },
     "metadata": {},
     "output_type": "display_data"
    },
    {
     "name": "stdout",
     "output_type": "stream",
     "text": [
      "----------------------------------------InsuredAge---------------------------------------- - "
     ]
    },
    {
     "data": {
      "text/plain": [
       "34    1469\n",
       "38    1419\n",
       "37    1401\n",
       "39    1365\n",
       "36    1311\n",
       "40    1307\n",
       "35    1302\n",
       "33    1295\n",
       "32    1262\n",
       "41    1244\n",
       "Name: InsuredAge, dtype: int64"
      ]
     },
     "metadata": {},
     "output_type": "display_data"
    },
    {
     "name": "stdout",
     "output_type": "stream",
     "text": [
      "----------------------------------------InsuredZipCode---------------------------------------- - "
     ]
    },
    {
     "data": {
      "text/plain": [
       "446895    100\n",
       "612904     72\n",
       "476198     71\n",
       "608331     70\n",
       "440961     70\n",
       "477695     69\n",
       "457555     68\n",
       "432711     66\n",
       "433184     66\n",
       "478456     62\n",
       "Name: InsuredZipCode, dtype: int64"
      ]
     },
     "metadata": {},
     "output_type": "display_data"
    },
    {
     "name": "stdout",
     "output_type": "stream",
     "text": [
      "----------------------------------------InsuredGender---------------------------------------- - "
     ]
    },
    {
     "data": {
      "text/plain": [
       "FEMALE    15644\n",
       "MALE      13162\n",
       "Name: InsuredGender, dtype: int64"
      ]
     },
     "metadata": {},
     "output_type": "display_data"
    },
    {
     "name": "stdout",
     "output_type": "stream",
     "text": [
      "----------------------------------------InsuredEducationLevel---------------------------------------- - "
     ]
    },
    {
     "data": {
      "text/plain": [
       "JD             4808\n",
       "High School    4583\n",
       "MD             4161\n",
       "Masters        4141\n",
       "Associate      4125\n",
       "PhD            3556\n",
       "College        3462\n",
       "Name: InsuredEducationLevel, dtype: int64"
      ]
     },
     "metadata": {},
     "output_type": "display_data"
    },
    {
     "name": "stdout",
     "output_type": "stream",
     "text": [
      "----------------------------------------InsuredOccupation---------------------------------------- - "
     ]
    },
    {
     "data": {
      "text/plain": [
       "machine-op-inspct    2798\n",
       "prof-specialty       2362\n",
       "tech-support         2268\n",
       "priv-house-serv      2176\n",
       "exec-managerial      2148\n",
       "sales                2133\n",
       "craft-repair         2130\n",
       "transport-moving     2079\n",
       "armed-forces         2032\n",
       "other-service        1965\n",
       "Name: InsuredOccupation, dtype: int64"
      ]
     },
     "metadata": {},
     "output_type": "display_data"
    },
    {
     "name": "stdout",
     "output_type": "stream",
     "text": [
      "----------------------------------------InsuredHobbies---------------------------------------- - "
     ]
    },
    {
     "data": {
      "text/plain": [
       "bungie-jumping    1751\n",
       "paintball         1688\n",
       "camping           1681\n",
       "kayaking          1611\n",
       "exercise          1589\n",
       "reading           1586\n",
       "movies            1529\n",
       "yachting          1486\n",
       "hiking            1483\n",
       "base-jumping      1470\n",
       "Name: InsuredHobbies, dtype: int64"
      ]
     },
     "metadata": {},
     "output_type": "display_data"
    },
    {
     "name": "stdout",
     "output_type": "stream",
     "text": [
      "----------------------------------------CapitalGains---------------------------------------- - "
     ]
    },
    {
     "data": {
      "text/plain": [
       "0        15819\n",
       "44000      142\n",
       "51500      130\n",
       "55600      125\n",
       "75800      121\n",
       "63600      113\n",
       "46300      112\n",
       "49900      101\n",
       "51400       92\n",
       "68500       91\n",
       "Name: CapitalGains, dtype: int64"
      ]
     },
     "metadata": {},
     "output_type": "display_data"
    },
    {
     "name": "stdout",
     "output_type": "stream",
     "text": [
      "----------------------------------------CapitalLoss---------------------------------------- - "
     ]
    },
    {
     "data": {
      "text/plain": [
       " 0        14759\n",
       "-53800      166\n",
       "-31700      148\n",
       "-61400      145\n",
       "-53700      138\n",
       "-32800      131\n",
       "-45100      128\n",
       "-45300      124\n",
       "-50300      120\n",
       "-45800      118\n",
       "Name: CapitalLoss, dtype: int64"
      ]
     },
     "metadata": {},
     "output_type": "display_data"
    },
    {
     "name": "stdout",
     "output_type": "stream",
     "text": [
      "----------------------------------------Country---------------------------------------- - "
     ]
    },
    {
     "data": {
      "text/plain": [
       "India    28834\n",
       "Name: Country, dtype: int64"
      ]
     },
     "metadata": {},
     "output_type": "display_data"
    },
    {
     "name": "stdout",
     "output_type": "stream",
     "text": [
      "----------------------------------------InsurancePolicyNumber---------------------------------------- - "
     ]
    },
    {
     "data": {
      "text/plain": [
       "119121    1\n",
       "142518    1\n",
       "142477    1\n",
       "142475    1\n",
       "142474    1\n",
       "142473    1\n",
       "142472    1\n",
       "142471    1\n",
       "142470    1\n",
       "142469    1\n",
       "Name: InsurancePolicyNumber, dtype: int64"
      ]
     },
     "metadata": {},
     "output_type": "display_data"
    },
    {
     "name": "stdout",
     "output_type": "stream",
     "text": [
      "----------------------------------------CustomerLoyaltyPeriod---------------------------------------- - "
     ]
    },
    {
     "data": {
      "text/plain": [
       "255    146\n",
       "254    145\n",
       "212    136\n",
       "154    134\n",
       "239    131\n",
       "124    127\n",
       "210    126\n",
       "258    125\n",
       "286    124\n",
       "257    124\n",
       "Name: CustomerLoyaltyPeriod, dtype: int64"
      ]
     },
     "metadata": {},
     "output_type": "display_data"
    },
    {
     "name": "stdout",
     "output_type": "stream",
     "text": [
      "----------------------------------------DateOfPolicyCoverage---------------------------------------- - "
     ]
    },
    {
     "data": {
      "text/plain": [
       "1998-11-11    38\n",
       "1995-08-19    32\n",
       "1999-05-23    28\n",
       "2001-06-10    27\n",
       "2005-06-17    27\n",
       "1997-05-15    26\n",
       "1997-02-03    26\n",
       "2004-06-15    25\n",
       "1993-08-05    25\n",
       "2001-09-29    24\n",
       "Name: DateOfPolicyCoverage, dtype: int64"
      ]
     },
     "metadata": {},
     "output_type": "display_data"
    },
    {
     "name": "stdout",
     "output_type": "stream",
     "text": [
      "----------------------------------------InsurancePolicyState---------------------------------------- - "
     ]
    },
    {
     "data": {
      "text/plain": [
       "State3    10146\n",
       "State1     9716\n",
       "State2     8974\n",
       "Name: InsurancePolicyState, dtype: int64"
      ]
     },
     "metadata": {},
     "output_type": "display_data"
    },
    {
     "name": "stdout",
     "output_type": "stream",
     "text": [
      "----------------------------------------Policy_CombinedSingleLimit---------------------------------------- - "
     ]
    },
    {
     "data": {
      "text/plain": [
       "250/500     8260\n",
       "100/300     8050\n",
       "500/1000    7000\n",
       "250/300     1024\n",
       "100/500      962\n",
       "250/1000     953\n",
       "500/500      872\n",
       "500/300      868\n",
       "100/1000     847\n",
       "Name: Policy_CombinedSingleLimit, dtype: int64"
      ]
     },
     "metadata": {},
     "output_type": "display_data"
    },
    {
     "name": "stdout",
     "output_type": "stream",
     "text": [
      "----------------------------------------Policy_Deductible---------------------------------------- - "
     ]
    },
    {
     "data": {
      "text/plain": [
       "500     5292\n",
       "2000    5270\n",
       "1000    5064\n",
       "647       28\n",
       "722       27\n",
       "908       26\n",
       "950       26\n",
       "641       26\n",
       "964       25\n",
       "999       25\n",
       "Name: Policy_Deductible, dtype: int64"
      ]
     },
     "metadata": {},
     "output_type": "display_data"
    },
    {
     "name": "stdout",
     "output_type": "stream",
     "text": [
      "----------------------------------------PolicyAnnualPremium---------------------------------------- - "
     ]
    },
    {
     "data": {
      "text/plain": [
       "-1.00       141\n",
       " 1310.77      7\n",
       " 1310.78      6\n",
       " 1285.77      5\n",
       " 1226.29      5\n",
       " 1298.80      5\n",
       " 1278.14      5\n",
       " 1168.02      5\n",
       " 1334.47      5\n",
       " 1315.68      5\n",
       "Name: PolicyAnnualPremium, dtype: int64"
      ]
     },
     "metadata": {},
     "output_type": "display_data"
    },
    {
     "name": "stdout",
     "output_type": "stream",
     "text": [
      "----------------------------------------UmbrellaLimit---------------------------------------- - "
     ]
    },
    {
     "data": {
      "text/plain": [
       "0          21073\n",
       "6000000      313\n",
       "5000000      139\n",
       "7000000      115\n",
       "4000000       71\n",
       "9000000       17\n",
       "3000000        9\n",
       "8000000        7\n",
       "2000000        3\n",
       "4234331        2\n",
       "Name: UmbrellaLimit, dtype: int64"
      ]
     },
     "metadata": {},
     "output_type": "display_data"
    },
    {
     "name": "stdout",
     "output_type": "stream",
     "text": [
      "----------------------------------------InsuredRelationship---------------------------------------- - "
     ]
    },
    {
     "data": {
      "text/plain": [
       "own-child         5242\n",
       "not-in-family     5222\n",
       "other-relative    5153\n",
       "husband           5002\n",
       "wife              4224\n",
       "unmarried         3993\n",
       "Name: InsuredRelationship, dtype: int64"
      ]
     },
     "metadata": {},
     "output_type": "display_data"
    },
    {
     "name": "stdout",
     "output_type": "stream",
     "text": [
      "----------------------------------------VehicleID---------------------------------------- - "
     ]
    },
    {
     "data": {
      "text/plain": [
       "Vehicle26917    1\n",
       "Vehicle25995    1\n",
       "Vehicle7056     1\n",
       "Vehicle37761    1\n",
       "Vehicle16919    1\n",
       "Vehicle36019    1\n",
       "Vehicle20870    1\n",
       "Vehicle11556    1\n",
       "Vehicle11759    1\n",
       "Vehicle31556    1\n",
       "Name: VehicleID, dtype: int64"
      ]
     },
     "metadata": {},
     "output_type": "display_data"
    },
    {
     "name": "stdout",
     "output_type": "stream",
     "text": [
      "----------------------------------------VehicleMake---------------------------------------- - "
     ]
    },
    {
     "data": {
      "text/plain": [
       "Saab          2415\n",
       "Suburu        2313\n",
       "Nissan        2300\n",
       "Dodge         2263\n",
       "Chevrolet     2174\n",
       "Ford          2158\n",
       "Accura        2099\n",
       "BMW           2073\n",
       "Toyota        1981\n",
       "Volkswagen    1960\n",
       "Name: VehicleMake, dtype: int64"
      ]
     },
     "metadata": {},
     "output_type": "display_data"
    },
    {
     "name": "stdout",
     "output_type": "stream",
     "text": [
      "----------------------------------------VehicleModel---------------------------------------- - "
     ]
    },
    {
     "data": {
      "text/plain": [
       "RAM           1344\n",
       "Wrangler      1261\n",
       "A3            1102\n",
       "MDX           1054\n",
       "Jetta         1037\n",
       "Neon           928\n",
       "Pathfinder     919\n",
       "Passat         888\n",
       "Legacy         887\n",
       "92x            859\n",
       "Name: VehicleModel, dtype: int64"
      ]
     },
     "metadata": {},
     "output_type": "display_data"
    },
    {
     "name": "stdout",
     "output_type": "stream",
     "text": [
      "----------------------------------------VehicleYOM---------------------------------------- - "
     ]
    },
    {
     "data": {
      "text/plain": [
       "2007    1730\n",
       "2004    1691\n",
       "2010    1686\n",
       "2006    1680\n",
       "2008    1655\n",
       "2009    1655\n",
       "2005    1653\n",
       "2003    1606\n",
       "2011    1581\n",
       "2002    1551\n",
       "Name: VehicleYOM, dtype: int64"
      ]
     },
     "metadata": {},
     "output_type": "display_data"
    },
    {
     "name": "stdout",
     "output_type": "stream",
     "text": [
      "----------------------------------------ReportedFraud---------------------------------------- - "
     ]
    },
    {
     "data": {
      "text/plain": [
       "N    21051\n",
       "Y     7785\n",
       "Name: ReportedFraud, dtype: int64"
      ]
     },
     "metadata": {},
     "output_type": "display_data"
    }
   ],
   "source": [
    "for col in Train_data.columns:\n",
    "    print('-' * 40 + col + '-' * 40 , end=' - ')\n",
    "    display(Train_data[col].value_counts().head(10)) #Return a series containing counts of unique values"
   ]
  },
  {
   "cell_type": "code",
   "execution_count": 29,
   "id": "f991815e",
   "metadata": {},
   "outputs": [
    {
     "data": {
      "text/plain": [
       "CustomerID                     0\n",
       "DateOfIncident                 0\n",
       "TypeOfIncident                 0\n",
       "TypeOfCollission               0\n",
       "SeverityOfIncident             0\n",
       "AuthoritiesContacted           0\n",
       "IncidentState                  0\n",
       "IncidentCity                   0\n",
       "IncidentAddress                0\n",
       "IncidentTime                   0\n",
       "NumberOfVehicles               0\n",
       "PropertyDamage                 0\n",
       "BodilyInjuries                 0\n",
       "Witnesses                      0\n",
       "PoliceReport                   0\n",
       "AmountOfTotalClaim             0\n",
       "AmountOfInjuryClaim            0\n",
       "AmountOfPropertyClaim          0\n",
       "AmountOfVehicleDamage          0\n",
       "InsuredAge                     0\n",
       "InsuredZipCode                 0\n",
       "InsuredGender                 30\n",
       "InsuredEducationLevel          0\n",
       "InsuredOccupation              0\n",
       "InsuredHobbies                 0\n",
       "CapitalGains                   0\n",
       "CapitalLoss                    0\n",
       "Country                        2\n",
       "InsurancePolicyNumber          0\n",
       "CustomerLoyaltyPeriod          0\n",
       "DateOfPolicyCoverage           0\n",
       "InsurancePolicyState           0\n",
       "Policy_CombinedSingleLimit     0\n",
       "Policy_Deductible              0\n",
       "PolicyAnnualPremium            0\n",
       "UmbrellaLimit                  0\n",
       "InsuredRelationship            0\n",
       "VehicleID                      0\n",
       "VehicleMake                    0\n",
       "VehicleModel                   0\n",
       "VehicleYOM                     0\n",
       "ReportedFraud                  0\n",
       "dtype: int64"
      ]
     },
     "execution_count": 29,
     "metadata": {},
     "output_type": "execute_result"
    }
   ],
   "source": [
    "# Checking null values\n",
    "Train_data.isnull().sum()"
   ]
  },
  {
   "cell_type": "code",
   "execution_count": 30,
   "id": "a3506542",
   "metadata": {},
   "outputs": [
    {
     "data": {
      "text/html": [
       "<div>\n",
       "<style scoped>\n",
       "    .dataframe tbody tr th:only-of-type {\n",
       "        vertical-align: middle;\n",
       "    }\n",
       "\n",
       "    .dataframe tbody tr th {\n",
       "        vertical-align: top;\n",
       "    }\n",
       "\n",
       "    .dataframe thead th {\n",
       "        text-align: right;\n",
       "    }\n",
       "</style>\n",
       "<table border=\"1\" class=\"dataframe\">\n",
       "  <thead>\n",
       "    <tr style=\"text-align: right;\">\n",
       "      <th></th>\n",
       "      <th>No of Unique Values</th>\n",
       "    </tr>\n",
       "  </thead>\n",
       "  <tbody>\n",
       "    <tr>\n",
       "      <th>CustomerID</th>\n",
       "      <td>28836</td>\n",
       "    </tr>\n",
       "    <tr>\n",
       "      <th>DateOfIncident</th>\n",
       "      <td>72</td>\n",
       "    </tr>\n",
       "    <tr>\n",
       "      <th>TypeOfIncident</th>\n",
       "      <td>4</td>\n",
       "    </tr>\n",
       "    <tr>\n",
       "      <th>TypeOfCollission</th>\n",
       "      <td>4</td>\n",
       "    </tr>\n",
       "    <tr>\n",
       "      <th>SeverityOfIncident</th>\n",
       "      <td>4</td>\n",
       "    </tr>\n",
       "    <tr>\n",
       "      <th>AuthoritiesContacted</th>\n",
       "      <td>5</td>\n",
       "    </tr>\n",
       "    <tr>\n",
       "      <th>IncidentState</th>\n",
       "      <td>7</td>\n",
       "    </tr>\n",
       "    <tr>\n",
       "      <th>IncidentCity</th>\n",
       "      <td>7</td>\n",
       "    </tr>\n",
       "    <tr>\n",
       "      <th>IncidentAddress</th>\n",
       "      <td>1000</td>\n",
       "    </tr>\n",
       "    <tr>\n",
       "      <th>IncidentTime</th>\n",
       "      <td>25</td>\n",
       "    </tr>\n",
       "    <tr>\n",
       "      <th>NumberOfVehicles</th>\n",
       "      <td>4</td>\n",
       "    </tr>\n",
       "    <tr>\n",
       "      <th>PropertyDamage</th>\n",
       "      <td>3</td>\n",
       "    </tr>\n",
       "    <tr>\n",
       "      <th>BodilyInjuries</th>\n",
       "      <td>3</td>\n",
       "    </tr>\n",
       "    <tr>\n",
       "      <th>Witnesses</th>\n",
       "      <td>5</td>\n",
       "    </tr>\n",
       "    <tr>\n",
       "      <th>PoliceReport</th>\n",
       "      <td>3</td>\n",
       "    </tr>\n",
       "    <tr>\n",
       "      <th>AmountOfTotalClaim</th>\n",
       "      <td>21976</td>\n",
       "    </tr>\n",
       "    <tr>\n",
       "      <th>AmountOfInjuryClaim</th>\n",
       "      <td>11958</td>\n",
       "    </tr>\n",
       "    <tr>\n",
       "      <th>AmountOfPropertyClaim</th>\n",
       "      <td>11785</td>\n",
       "    </tr>\n",
       "    <tr>\n",
       "      <th>AmountOfVehicleDamage</th>\n",
       "      <td>20041</td>\n",
       "    </tr>\n",
       "    <tr>\n",
       "      <th>InsuredAge</th>\n",
       "      <td>46</td>\n",
       "    </tr>\n",
       "    <tr>\n",
       "      <th>InsuredZipCode</th>\n",
       "      <td>995</td>\n",
       "    </tr>\n",
       "    <tr>\n",
       "      <th>InsuredGender</th>\n",
       "      <td>2</td>\n",
       "    </tr>\n",
       "    <tr>\n",
       "      <th>InsuredEducationLevel</th>\n",
       "      <td>7</td>\n",
       "    </tr>\n",
       "    <tr>\n",
       "      <th>InsuredOccupation</th>\n",
       "      <td>14</td>\n",
       "    </tr>\n",
       "    <tr>\n",
       "      <th>InsuredHobbies</th>\n",
       "      <td>20</td>\n",
       "    </tr>\n",
       "    <tr>\n",
       "      <th>CapitalGains</th>\n",
       "      <td>338</td>\n",
       "    </tr>\n",
       "    <tr>\n",
       "      <th>CapitalLoss</th>\n",
       "      <td>354</td>\n",
       "    </tr>\n",
       "    <tr>\n",
       "      <th>Country</th>\n",
       "      <td>1</td>\n",
       "    </tr>\n",
       "    <tr>\n",
       "      <th>InsurancePolicyNumber</th>\n",
       "      <td>28836</td>\n",
       "    </tr>\n",
       "    <tr>\n",
       "      <th>CustomerLoyaltyPeriod</th>\n",
       "      <td>479</td>\n",
       "    </tr>\n",
       "    <tr>\n",
       "      <th>DateOfPolicyCoverage</th>\n",
       "      <td>6779</td>\n",
       "    </tr>\n",
       "    <tr>\n",
       "      <th>InsurancePolicyState</th>\n",
       "      <td>3</td>\n",
       "    </tr>\n",
       "    <tr>\n",
       "      <th>Policy_CombinedSingleLimit</th>\n",
       "      <td>9</td>\n",
       "    </tr>\n",
       "    <tr>\n",
       "      <th>Policy_Deductible</th>\n",
       "      <td>1496</td>\n",
       "    </tr>\n",
       "    <tr>\n",
       "      <th>PolicyAnnualPremium</th>\n",
       "      <td>23852</td>\n",
       "    </tr>\n",
       "    <tr>\n",
       "      <th>UmbrellaLimit</th>\n",
       "      <td>7089</td>\n",
       "    </tr>\n",
       "    <tr>\n",
       "      <th>InsuredRelationship</th>\n",
       "      <td>6</td>\n",
       "    </tr>\n",
       "    <tr>\n",
       "      <th>VehicleID</th>\n",
       "      <td>28836</td>\n",
       "    </tr>\n",
       "    <tr>\n",
       "      <th>VehicleMake</th>\n",
       "      <td>15</td>\n",
       "    </tr>\n",
       "    <tr>\n",
       "      <th>VehicleModel</th>\n",
       "      <td>39</td>\n",
       "    </tr>\n",
       "    <tr>\n",
       "      <th>VehicleYOM</th>\n",
       "      <td>21</td>\n",
       "    </tr>\n",
       "    <tr>\n",
       "      <th>ReportedFraud</th>\n",
       "      <td>2</td>\n",
       "    </tr>\n",
       "  </tbody>\n",
       "</table>\n",
       "</div>"
      ],
      "text/plain": [
       "                            No of Unique Values\n",
       "CustomerID                                28836\n",
       "DateOfIncident                               72\n",
       "TypeOfIncident                                4\n",
       "TypeOfCollission                              4\n",
       "SeverityOfIncident                            4\n",
       "AuthoritiesContacted                          5\n",
       "IncidentState                                 7\n",
       "IncidentCity                                  7\n",
       "IncidentAddress                            1000\n",
       "IncidentTime                                 25\n",
       "NumberOfVehicles                              4\n",
       "PropertyDamage                                3\n",
       "BodilyInjuries                                3\n",
       "Witnesses                                     5\n",
       "PoliceReport                                  3\n",
       "AmountOfTotalClaim                        21976\n",
       "AmountOfInjuryClaim                       11958\n",
       "AmountOfPropertyClaim                     11785\n",
       "AmountOfVehicleDamage                     20041\n",
       "InsuredAge                                   46\n",
       "InsuredZipCode                              995\n",
       "InsuredGender                                 2\n",
       "InsuredEducationLevel                         7\n",
       "InsuredOccupation                            14\n",
       "InsuredHobbies                               20\n",
       "CapitalGains                                338\n",
       "CapitalLoss                                 354\n",
       "Country                                       1\n",
       "InsurancePolicyNumber                     28836\n",
       "CustomerLoyaltyPeriod                       479\n",
       "DateOfPolicyCoverage                       6779\n",
       "InsurancePolicyState                          3\n",
       "Policy_CombinedSingleLimit                    9\n",
       "Policy_Deductible                          1496\n",
       "PolicyAnnualPremium                       23852\n",
       "UmbrellaLimit                              7089\n",
       "InsuredRelationship                           6\n",
       "VehicleID                                 28836\n",
       "VehicleMake                                  15\n",
       "VehicleModel                                 39\n",
       "VehicleYOM                                   21\n",
       "ReportedFraud                                 2"
      ]
     },
     "execution_count": 30,
     "metadata": {},
     "output_type": "execute_result"
    }
   ],
   "source": [
    "Train_data.nunique().to_frame(\"No of Unique Values\") #finding Unnique values"
   ]
  },
  {
   "cell_type": "code",
   "execution_count": 31,
   "id": "e899b177",
   "metadata": {
    "scrolled": true
   },
   "outputs": [],
   "source": [
    "#Dropping Unimportant Column\n",
    "Train_data.drop(['CustomerID','PolicyAnnualPremium','UmbrellaLimit','InsurancePolicyNumber','VehicleID','Country','InsuredZipCode','DateOfIncident','DateOfPolicyCoverage'],axis=1,inplace=True)\n"
   ]
  },
  {
   "cell_type": "code",
   "execution_count": 32,
   "id": "2e943a8d",
   "metadata": {},
   "outputs": [],
   "source": [
    "#Dropping Unimportant Column\n",
    "Test_data.drop(['CustomerID','PolicyAnnualPremium','UmbrellaLimit','InsurancePolicyNumber','VehicleID','Country','InsuredZipCode','DateOfIncident','DateOfPolicyCoverage'],axis=1,inplace=True)\n"
   ]
  },
  {
   "cell_type": "code",
   "execution_count": 33,
   "id": "549d0cdf",
   "metadata": {},
   "outputs": [
    {
     "name": "stdout",
     "output_type": "stream",
     "text": [
      "<class 'pandas.core.frame.DataFrame'>\n",
      "Int64Index: 28836 entries, 0 to 28835\n",
      "Data columns (total 33 columns):\n",
      " #   Column                      Non-Null Count  Dtype \n",
      "---  ------                      --------------  ----- \n",
      " 0   TypeOfIncident              28836 non-null  object\n",
      " 1   TypeOfCollission            28836 non-null  object\n",
      " 2   SeverityOfIncident          28836 non-null  object\n",
      " 3   AuthoritiesContacted        28836 non-null  object\n",
      " 4   IncidentState               28836 non-null  object\n",
      " 5   IncidentCity                28836 non-null  object\n",
      " 6   IncidentAddress             28836 non-null  object\n",
      " 7   IncidentTime                28836 non-null  int64 \n",
      " 8   NumberOfVehicles            28836 non-null  int64 \n",
      " 9   PropertyDamage              28836 non-null  object\n",
      " 10  BodilyInjuries              28836 non-null  int64 \n",
      " 11  Witnesses                   28836 non-null  object\n",
      " 12  PoliceReport                28836 non-null  object\n",
      " 13  AmountOfTotalClaim          28836 non-null  object\n",
      " 14  AmountOfInjuryClaim         28836 non-null  int64 \n",
      " 15  AmountOfPropertyClaim       28836 non-null  int64 \n",
      " 16  AmountOfVehicleDamage       28836 non-null  int64 \n",
      " 17  InsuredAge                  28836 non-null  int64 \n",
      " 18  InsuredGender               28806 non-null  object\n",
      " 19  InsuredEducationLevel       28836 non-null  object\n",
      " 20  InsuredOccupation           28836 non-null  object\n",
      " 21  InsuredHobbies              28836 non-null  object\n",
      " 22  CapitalGains                28836 non-null  int64 \n",
      " 23  CapitalLoss                 28836 non-null  int64 \n",
      " 24  CustomerLoyaltyPeriod       28836 non-null  int64 \n",
      " 25  InsurancePolicyState        28836 non-null  object\n",
      " 26  Policy_CombinedSingleLimit  28836 non-null  object\n",
      " 27  Policy_Deductible           28836 non-null  int64 \n",
      " 28  InsuredRelationship         28836 non-null  object\n",
      " 29  VehicleMake                 28836 non-null  object\n",
      " 30  VehicleModel                28836 non-null  object\n",
      " 31  VehicleYOM                  28836 non-null  object\n",
      " 32  ReportedFraud               28836 non-null  object\n",
      "dtypes: int64(11), object(22)\n",
      "memory usage: 7.5+ MB\n"
     ]
    }
   ],
   "source": [
    "Train_data.info()"
   ]
  },
  {
   "cell_type": "markdown",
   "id": "c463689e",
   "metadata": {},
   "source": [
    "This gives the information about the dataset which includes indexing type, column type, non-null values and memory usage.\n"
   ]
  },
  {
   "cell_type": "code",
   "execution_count": 34,
   "id": "4eec48a5",
   "metadata": {},
   "outputs": [],
   "source": [
    "#replace the all the missing data with NaN for training Dataset\n",
    "\n",
    "Train_data= Train_data.replace('MISSEDDATA', np.NaN)\n",
    "Train_data= Train_data.replace(5, np.NaN)\n",
    "Train_data= Train_data.replace(-1, np.NaN)\n",
    "Train_data= Train_data.replace('MISSINGVALUE', np.NaN)\n",
    "Train_data= Train_data.replace('???', np.NaN)\n",
    "Train_data= Train_data.replace('?', np.NaN)"
   ]
  },
  {
   "cell_type": "code",
   "execution_count": 35,
   "id": "823ea483",
   "metadata": {},
   "outputs": [],
   "source": [
    "#replace the all the missing data with NaN for Testing Dataset\n",
    "\n",
    "Test_data= Test_data.replace('MISSEDDATA', np.NaN)\n",
    "Test_data= Test_data.replace(-5, np.NaN)\n",
    "Test_data= Test_data.replace(-1, np.NaN)\n",
    "Test_data= Test_data.replace('MISSINGVALUE', np.NaN)\n",
    "Test_data= Test_data.replace('???', np.NaN)\n",
    "Test_data= Test_data.replace('?', np.NaN)"
   ]
  },
  {
   "cell_type": "code",
   "execution_count": 36,
   "id": "7bfd219e",
   "metadata": {},
   "outputs": [
    {
     "data": {
      "text/plain": [
       "TypeOfIncident                    0\n",
       "TypeOfCollission               5162\n",
       "SeverityOfIncident                0\n",
       "AuthoritiesContacted              0\n",
       "IncidentState                     0\n",
       "IncidentCity                      0\n",
       "IncidentAddress                   0\n",
       "IncidentTime                   1434\n",
       "NumberOfVehicles                  0\n",
       "PropertyDamage                10459\n",
       "BodilyInjuries                    0\n",
       "Witnesses                        46\n",
       "PoliceReport                   9805\n",
       "AmountOfTotalClaim               50\n",
       "AmountOfInjuryClaim               1\n",
       "AmountOfPropertyClaim             0\n",
       "AmountOfVehicleDamage             0\n",
       "InsuredAge                        0\n",
       "InsuredGender                    30\n",
       "InsuredEducationLevel             0\n",
       "InsuredOccupation                 0\n",
       "InsuredHobbies                    0\n",
       "CapitalGains                      0\n",
       "CapitalLoss                       0\n",
       "CustomerLoyaltyPeriod            14\n",
       "InsurancePolicyState              0\n",
       "Policy_CombinedSingleLimit        0\n",
       "Policy_Deductible                 0\n",
       "InsuredRelationship               0\n",
       "VehicleMake                      50\n",
       "VehicleModel                      0\n",
       "VehicleYOM                        0\n",
       "ReportedFraud                     0\n",
       "dtype: int64"
      ]
     },
     "execution_count": 36,
     "metadata": {},
     "output_type": "execute_result"
    }
   ],
   "source": [
    "Train_data.isnull().sum()  # Checking for Null Values "
   ]
  },
  {
   "cell_type": "code",
   "execution_count": 37,
   "id": "4ca8cd5a",
   "metadata": {
    "scrolled": true
   },
   "outputs": [
    {
     "data": {
      "text/plain": [
       "TypeOfIncident                   0\n",
       "TypeOfCollission              1763\n",
       "SeverityOfIncident               0\n",
       "AuthoritiesContacted             0\n",
       "IncidentState                    0\n",
       "IncidentCity                     0\n",
       "IncidentAddress                  0\n",
       "IncidentTime                     7\n",
       "NumberOfVehicles                 0\n",
       "PropertyDamage                3199\n",
       "BodilyInjuries                   0\n",
       "Witnesses                       12\n",
       "PoliceReport                  3014\n",
       "AmountOfTotalClaim               8\n",
       "AmountOfInjuryClaim              0\n",
       "AmountOfPropertyClaim            0\n",
       "AmountOfVehicleDamage            0\n",
       "InsuredAge                       0\n",
       "InsuredGender                    8\n",
       "InsuredEducationLevel            0\n",
       "InsuredOccupation                0\n",
       "InsuredHobbies                   0\n",
       "CapitalGains                     0\n",
       "CapitalLoss                      0\n",
       "CustomerLoyaltyPeriod            0\n",
       "InsurancePolicyState             0\n",
       "Policy_CombinedSingleLimit       0\n",
       "Policy_Deductible                0\n",
       "InsuredRelationship              0\n",
       "VehicleMake                      8\n",
       "VehicleModel                     0\n",
       "VehicleYOM                       0\n",
       "dtype: int64"
      ]
     },
     "execution_count": 37,
     "metadata": {},
     "output_type": "execute_result"
    }
   ],
   "source": [
    "Test_data.isnull().sum()"
   ]
  },
  {
   "cell_type": "markdown",
   "id": "aca778ed",
   "metadata": {},
   "source": [
    "# DATA IMPUTATION "
   ]
  },
  {
   "cell_type": "markdown",
   "id": "716f28f6",
   "metadata": {},
   "source": [
    "Creating categorical and numerical dataframe and imputing numerical with mean and categorical with mode and combining both"
   ]
  },
  {
   "cell_type": "code",
   "execution_count": 38,
   "id": "0f169b4c",
   "metadata": {},
   "outputs": [
    {
     "name": "stdout",
     "output_type": "stream",
     "text": [
      "Categorical columns are:\n",
      " ['TypeOfIncident', 'TypeOfCollission', 'SeverityOfIncident', 'AuthoritiesContacted', 'IncidentState', 'IncidentCity', 'IncidentAddress', 'PropertyDamage', 'Witnesses', 'PoliceReport', 'AmountOfTotalClaim', 'InsuredGender', 'InsuredEducationLevel', 'InsuredOccupation', 'InsuredHobbies', 'InsurancePolicyState', 'Policy_CombinedSingleLimit', 'InsuredRelationship', 'VehicleMake', 'VehicleModel', 'VehicleYOM', 'ReportedFraud']\n",
      "Numerical columns are:\n",
      " ['IncidentTime', 'NumberOfVehicles', 'BodilyInjuries', 'AmountOfInjuryClaim', 'AmountOfPropertyClaim', 'AmountOfVehicleDamage', 'InsuredAge', 'CapitalGains', 'CapitalLoss', 'CustomerLoyaltyPeriod', 'Policy_Deductible']\n"
     ]
    }
   ],
   "source": [
    "# Separating numerical and categorcal columns\n",
    "\n",
    "categorical_col=[]\n",
    "numerical_col=[]\n",
    "for i in Train_data.dtypes.index:\n",
    "    if Train_data.dtypes[i]=='object':\n",
    "        categorical_col.append(i)\n",
    "    else:\n",
    "        numerical_col.append(i)\n",
    "print(\"Categorical columns are:\\n\",categorical_col)\n",
    "print(\"Numerical columns are:\\n\",numerical_col)\n"
   ]
  },
  {
   "cell_type": "code",
   "execution_count": 39,
   "id": "1c632bad",
   "metadata": {},
   "outputs": [],
   "source": [
    "Train_colm=Train_data[['TypeOfIncident', 'TypeOfCollission', 'SeverityOfIncident', 'AuthoritiesContacted', 'IncidentState', 'IncidentCity', 'IncidentAddress', 'PropertyDamage', 'Witnesses', 'PoliceReport', 'AmountOfTotalClaim', 'InsuredGender', 'InsuredEducationLevel', 'InsuredOccupation', 'InsuredHobbies', 'InsurancePolicyState', 'Policy_CombinedSingleLimit', 'InsuredRelationship', 'VehicleMake', 'VehicleModel', 'VehicleYOM', 'ReportedFraud']]\n",
    "Train_Num=Train_data[['IncidentTime', 'NumberOfVehicles', 'BodilyInjuries', 'AmountOfInjuryClaim', 'AmountOfPropertyClaim', 'AmountOfVehicleDamage', 'InsuredAge', 'CapitalGains', 'CapitalLoss', 'CustomerLoyaltyPeriod', 'Policy_Deductible']]"
   ]
  },
  {
   "cell_type": "code",
   "execution_count": 40,
   "id": "a7954bcc",
   "metadata": {},
   "outputs": [],
   "source": [
    "Train_colm = Train_colm.fillna(Train_colm.mode().iloc[0])\n",
    "Train_Num = Train_Num.fillna(Train_Num.mean())\n",
    "Train_both = pd.concat([Train_colm, Train_Num], axis = 1)"
   ]
  },
  {
   "cell_type": "code",
   "execution_count": 41,
   "id": "e62a40b0",
   "metadata": {},
   "outputs": [
    {
     "name": "stdout",
     "output_type": "stream",
     "text": [
      "Categorical columns are:\n",
      " ['TypeOfIncident', 'TypeOfCollission', 'SeverityOfIncident', 'AuthoritiesContacted', 'IncidentState', 'IncidentCity', 'IncidentAddress', 'PropertyDamage', 'Witnesses', 'PoliceReport', 'AmountOfTotalClaim', 'InsuredGender', 'InsuredEducationLevel', 'InsuredOccupation', 'InsuredHobbies', 'InsurancePolicyState', 'Policy_CombinedSingleLimit', 'InsuredRelationship', 'VehicleMake', 'VehicleModel', 'VehicleYOM']\n",
      "Numerical columns are:\n",
      " ['IncidentTime', 'NumberOfVehicles', 'BodilyInjuries', 'AmountOfInjuryClaim', 'AmountOfPropertyClaim', 'AmountOfVehicleDamage', 'InsuredAge', 'CapitalGains', 'CapitalLoss', 'CustomerLoyaltyPeriod', 'Policy_Deductible']\n"
     ]
    }
   ],
   "source": [
    "# Separating numerical and categorcal columns\n",
    "\n",
    "categorical_column=[]\n",
    "numerical_column=[]\n",
    "for i in Test_data.dtypes.index:\n",
    "    if Test_data.dtypes[i]=='object':\n",
    "        categorical_column.append(i)\n",
    "    else:\n",
    "        numerical_column.append(i)\n",
    "print(\"Categorical columns are:\\n\",categorical_column)\n",
    "print(\"Numerical columns are:\\n\",numerical_column)\n"
   ]
  },
  {
   "cell_type": "code",
   "execution_count": 42,
   "id": "aa1e32af",
   "metadata": {},
   "outputs": [],
   "source": [
    "Test_colm=Test_data[['TypeOfIncident', 'TypeOfCollission', 'SeverityOfIncident', 'AuthoritiesContacted', 'IncidentState', 'IncidentCity', 'IncidentAddress', 'PropertyDamage', 'Witnesses', 'PoliceReport', 'AmountOfTotalClaim', 'InsuredGender', 'InsuredEducationLevel', 'InsuredOccupation', 'InsuredHobbies', 'InsurancePolicyState', 'Policy_CombinedSingleLimit', 'InsuredRelationship', 'VehicleMake', 'VehicleModel', 'VehicleYOM']]\n",
    "Test_Num=Test_data[['IncidentTime', 'NumberOfVehicles', 'BodilyInjuries', 'AmountOfInjuryClaim', 'AmountOfPropertyClaim', 'AmountOfVehicleDamage', 'InsuredAge', 'CapitalGains', 'CapitalLoss', 'CustomerLoyaltyPeriod', 'Policy_Deductible']]"
   ]
  },
  {
   "cell_type": "code",
   "execution_count": 43,
   "id": "84ce6449",
   "metadata": {},
   "outputs": [],
   "source": [
    "#replace null values using mode and Mean operation\n",
    "Test_colm = Test_colm.fillna(Test_colm.mode().iloc[0])\n",
    "Test_Num = Test_Num.fillna(Test_Num.mean())\n",
    "Test_both = pd.concat([Test_colm, Test_Num], axis = 1)"
   ]
  },
  {
   "cell_type": "code",
   "execution_count": 44,
   "id": "b658eb7c",
   "metadata": {},
   "outputs": [],
   "source": [
    "Train_dataset=pd.DataFrame(Train_both)"
   ]
  },
  {
   "cell_type": "code",
   "execution_count": 45,
   "id": "5f301aa9",
   "metadata": {},
   "outputs": [],
   "source": [
    "Test_dataset=pd.DataFrame(Test_both)"
   ]
  },
  {
   "cell_type": "code",
   "execution_count": 46,
   "id": "38dff9d4",
   "metadata": {},
   "outputs": [
    {
     "data": {
      "text/plain": [
       "TypeOfIncident                0\n",
       "TypeOfCollission              0\n",
       "SeverityOfIncident            0\n",
       "AuthoritiesContacted          0\n",
       "IncidentState                 0\n",
       "IncidentCity                  0\n",
       "IncidentAddress               0\n",
       "PropertyDamage                0\n",
       "Witnesses                     0\n",
       "PoliceReport                  0\n",
       "AmountOfTotalClaim            0\n",
       "InsuredGender                 0\n",
       "InsuredEducationLevel         0\n",
       "InsuredOccupation             0\n",
       "InsuredHobbies                0\n",
       "InsurancePolicyState          0\n",
       "Policy_CombinedSingleLimit    0\n",
       "InsuredRelationship           0\n",
       "VehicleMake                   0\n",
       "VehicleModel                  0\n",
       "VehicleYOM                    0\n",
       "ReportedFraud                 0\n",
       "IncidentTime                  0\n",
       "NumberOfVehicles              0\n",
       "BodilyInjuries                0\n",
       "AmountOfInjuryClaim           0\n",
       "AmountOfPropertyClaim         0\n",
       "AmountOfVehicleDamage         0\n",
       "InsuredAge                    0\n",
       "CapitalGains                  0\n",
       "CapitalLoss                   0\n",
       "CustomerLoyaltyPeriod         0\n",
       "Policy_Deductible             0\n",
       "dtype: int64"
      ]
     },
     "execution_count": 46,
     "metadata": {},
     "output_type": "execute_result"
    }
   ],
   "source": [
    "Train_dataset.isnull().sum()"
   ]
  },
  {
   "cell_type": "code",
   "execution_count": 47,
   "id": "45914f1a",
   "metadata": {},
   "outputs": [
    {
     "data": {
      "text/plain": [
       "TypeOfIncident                0\n",
       "TypeOfCollission              0\n",
       "SeverityOfIncident            0\n",
       "AuthoritiesContacted          0\n",
       "IncidentState                 0\n",
       "IncidentCity                  0\n",
       "IncidentAddress               0\n",
       "PropertyDamage                0\n",
       "Witnesses                     0\n",
       "PoliceReport                  0\n",
       "AmountOfTotalClaim            0\n",
       "InsuredGender                 0\n",
       "InsuredEducationLevel         0\n",
       "InsuredOccupation             0\n",
       "InsuredHobbies                0\n",
       "InsurancePolicyState          0\n",
       "Policy_CombinedSingleLimit    0\n",
       "InsuredRelationship           0\n",
       "VehicleMake                   0\n",
       "VehicleModel                  0\n",
       "VehicleYOM                    0\n",
       "IncidentTime                  0\n",
       "NumberOfVehicles              0\n",
       "BodilyInjuries                0\n",
       "AmountOfInjuryClaim           0\n",
       "AmountOfPropertyClaim         0\n",
       "AmountOfVehicleDamage         0\n",
       "InsuredAge                    0\n",
       "CapitalGains                  0\n",
       "CapitalLoss                   0\n",
       "CustomerLoyaltyPeriod         0\n",
       "Policy_Deductible             0\n",
       "dtype: int64"
      ]
     },
     "execution_count": 47,
     "metadata": {},
     "output_type": "execute_result"
    }
   ],
   "source": [
    "Test_dataset.isnull().sum()"
   ]
  },
  {
   "cell_type": "markdown",
   "id": "383c0150",
   "metadata": {},
   "source": [
    "# Visualization"
   ]
  },
  {
   "cell_type": "code",
   "execution_count": 48,
   "id": "22829331",
   "metadata": {},
   "outputs": [],
   "source": [
    "import seaborn as sns\n",
    "import matplotlib.pyplot as plt\n",
    "import warnings\n",
    "warnings.simplefilter(action=\"ignore\", category=FutureWarning)\n"
   ]
  },
  {
   "cell_type": "code",
   "execution_count": 49,
   "id": "70444890",
   "metadata": {
    "scrolled": false
   },
   "outputs": [
    {
     "data": {
      "image/png": "[encoded data removed]",
      "text/plain": [
       "<Figure size 432x288 with 1 Axes>"
      ]
     },
     "metadata": {
      "needs_background": "light"
     },
     "output_type": "display_data"
    }
   ],
   "source": [
    "ax = sns.countplot(x='ReportedFraud', data=Train_dataset, hue='ReportedFraud') #it shows the distribution of target variable"
   ]
  },
  {
   "cell_type": "code",
   "execution_count": 50,
   "id": "8ea459ae",
   "metadata": {
    "scrolled": true
   },
   "outputs": [
    {
     "data": {
      "image/png": "[encoded data removed]",
      "text/plain": [
       "<Figure size 1080x1800 with 10 Axes>"
      ]
     },
     "metadata": {
      "needs_background": "light"
     },
     "output_type": "display_data"
    }
   ],
   "source": [
    "cols2 = ['InsuredOccupation', 'InsuredHobbies', 'SeverityOfIncident', 'AuthoritiesContacted', 'IncidentState', 'IncidentCity','VehicleMake', 'VehicleModel','InsurancePolicyState','InsuredRelationship']\n",
    "\n",
    "plt.figure(figsize=(15,25))\n",
    "plotnumber=1\n",
    "for column in cols2:\n",
    "    if plotnumber:\n",
    "        ax=plt.subplot(7,2,plotnumber)\n",
    "        sns.countplot(Train_dataset[column])\n",
    "        plt.xticks(rotation=90)\n",
    "        plt.xlabel(column,fontsize=15)\n",
    "    plotnumber+=1\n",
    "plt.tight_layout()\n",
    "plt.show()"
   ]
  },
  {
   "cell_type": "code",
   "execution_count": 51,
   "id": "c217e048",
   "metadata": {},
   "outputs": [
    {
     "data": {
      "image/png": "[encoded data removed]",
      "text/plain": [
       "<Figure size 441.25x360 with 1 Axes>"
      ]
     },
     "metadata": {
      "needs_background": "light"
     },
     "output_type": "display_data"
    }
   ],
   "source": [
    "# Comparing InsuredEducationLevel and ReportedFraud\n",
    "\n",
    "sns.catplot('InsuredEducationLevel',kind='count',data=Train_dataset,hue='ReportedFraud')\n",
    "plt.xticks(rotation=90)\n",
    "plt.show()"
   ]
  },
  {
   "cell_type": "code",
   "execution_count": 52,
   "id": "9997e6bc",
   "metadata": {},
   "outputs": [
    {
     "data": {
      "image/png": "[encoded data removed]",
      "text/plain": [
       "<Figure size 441.25x360 with 1 Axes>"
      ]
     },
     "metadata": {
      "needs_background": "light"
     },
     "output_type": "display_data"
    }
   ],
   "source": [
    "# Comparing VehicleMake and ReportedFraud\n",
    "sns.catplot('VehicleMake',kind='count',data=Train_dataset,hue='ReportedFraud')\n",
    "plt.xticks(rotation=90)\n",
    "plt.show()"
   ]
  },
  {
   "cell_type": "code",
   "execution_count": 53,
   "id": "2bf9368d",
   "metadata": {
    "scrolled": true
   },
   "outputs": [
    {
     "data": {
      "image/png": "[encoded data removed]",
      "text/plain": [
       "<Figure size 441.25x360 with 1 Axes>"
      ]
     },
     "metadata": {
      "needs_background": "light"
     },
     "output_type": "display_data"
    }
   ],
   "source": [
    "# Comparing InsuredHobbies and ReportedFraud\n",
    "sns.catplot('InsuredHobbies',kind='count',data=Train_dataset,hue='ReportedFraud')\n",
    "plt.xticks(rotation=90)\n",
    "plt.show()"
   ]
  },
  {
   "cell_type": "code",
   "execution_count": 54,
   "id": "87d47e32",
   "metadata": {},
   "outputs": [
    {
     "data": {
      "image/png": "[encoded data removed]",
      "text/plain": [
       "<Figure size 441.25x360 with 1 Axes>"
      ]
     },
     "metadata": {
      "needs_background": "light"
     },
     "output_type": "display_data"
    }
   ],
   "source": [
    "# Comparing InsuredHobbies and ReportedFraud\n",
    "sns.catplot('InsurancePolicyState',kind='count',data=Train_dataset,hue='ReportedFraud')\n",
    "plt.show()"
   ]
  },
  {
   "cell_type": "code",
   "execution_count": 55,
   "id": "9fb5fd56",
   "metadata": {},
   "outputs": [
    {
     "data": {
      "image/png": "[encoded data removed]",
      "text/plain": [
       "<Figure size 441.25x360 with 1 Axes>"
      ]
     },
     "metadata": {
      "needs_background": "light"
     },
     "output_type": "display_data"
    }
   ],
   "source": [
    "# Comparing incident_type and fraud_reported\n",
    "sns.catplot('TypeOfIncident',kind='count',data=Train_dataset,hue='ReportedFraud')\n",
    "plt.xticks(rotation=90)\n",
    "plt.show()"
   ]
  },
  {
   "cell_type": "code",
   "execution_count": 57,
   "id": "59e1c82f",
   "metadata": {},
   "outputs": [
    {
     "name": "stdout",
     "output_type": "stream",
     "text": [
      "<class 'pandas.core.frame.DataFrame'>\n",
      "Int64Index: 28836 entries, 0 to 28835\n",
      "Data columns (total 33 columns):\n",
      " #   Column                      Non-Null Count  Dtype  \n",
      "---  ------                      --------------  -----  \n",
      " 0   TypeOfIncident              28836 non-null  object \n",
      " 1   TypeOfCollission            28836 non-null  object \n",
      " 2   SeverityOfIncident          28836 non-null  object \n",
      " 3   AuthoritiesContacted        28836 non-null  object \n",
      " 4   IncidentState               28836 non-null  object \n",
      " 5   IncidentCity                28836 non-null  object \n",
      " 6   IncidentAddress             28836 non-null  object \n",
      " 7   PropertyDamage              28836 non-null  object \n",
      " 8   Witnesses                   28836 non-null  object \n",
      " 9   PoliceReport                28836 non-null  object \n",
      " 10  AmountOfTotalClaim          28836 non-null  object \n",
      " 11  InsuredGender               28836 non-null  object \n",
      " 12  InsuredEducationLevel       28836 non-null  object \n",
      " 13  InsuredOccupation           28836 non-null  object \n",
      " 14  InsuredHobbies              28836 non-null  object \n",
      " 15  InsurancePolicyState        28836 non-null  object \n",
      " 16  Policy_CombinedSingleLimit  28836 non-null  object \n",
      " 17  InsuredRelationship         28836 non-null  object \n",
      " 18  VehicleMake                 28836 non-null  object \n",
      " 19  VehicleModel                28836 non-null  object \n",
      " 20  VehicleYOM                  28836 non-null  object \n",
      " 21  ReportedFraud               28836 non-null  object \n",
      " 22  IncidentTime                28836 non-null  float64\n",
      " 23  NumberOfVehicles            28836 non-null  int64  \n",
      " 24  BodilyInjuries              28836 non-null  int64  \n",
      " 25  AmountOfInjuryClaim         28836 non-null  float64\n",
      " 26  AmountOfPropertyClaim       28836 non-null  int64  \n",
      " 27  AmountOfVehicleDamage       28836 non-null  int64  \n",
      " 28  InsuredAge                  28836 non-null  int64  \n",
      " 29  CapitalGains                28836 non-null  int64  \n",
      " 30  CapitalLoss                 28836 non-null  int64  \n",
      " 31  CustomerLoyaltyPeriod       28836 non-null  float64\n",
      " 32  Policy_Deductible           28836 non-null  int64  \n",
      "dtypes: float64(3), int64(8), object(22)\n",
      "memory usage: 8.5+ MB\n"
     ]
    }
   ],
   "source": [
    "Train_dataset.info()"
   ]
  },
  {
   "cell_type": "code",
   "execution_count": 58,
   "id": "fc1934e5",
   "metadata": {},
   "outputs": [],
   "source": [
    "# Conversion of all the categorical columns into an numerical column for Training Dataset\n",
    "from sklearn.preprocessing import LabelEncoder\n",
    "\n",
    "labelencoder = LabelEncoder()\n"
   ]
  },
  {
   "cell_type": "code",
   "execution_count": 59,
   "id": "79df5e36",
   "metadata": {},
   "outputs": [],
   "source": [
    "td=['TypeOfIncident', 'TypeOfCollission', 'SeverityOfIncident','IncidentTime','AmountOfInjuryClaim','CustomerLoyaltyPeriod','AuthoritiesContacted', 'IncidentState', 'IncidentCity', 'IncidentAddress', 'PropertyDamage', 'Witnesses', 'PoliceReport', 'AmountOfTotalClaim', 'InsuredGender', 'InsuredEducationLevel', 'InsuredOccupation', 'InsuredHobbies', 'InsurancePolicyState', 'Policy_CombinedSingleLimit', 'InsuredRelationship', 'VehicleMake', 'VehicleModel', 'VehicleYOM', 'ReportedFraud']"
   ]
  },
  {
   "cell_type": "code",
   "execution_count": 60,
   "id": "df606455",
   "metadata": {},
   "outputs": [],
   "source": [
    "Train_dataset[td] = Train_dataset[td].apply(LabelEncoder().fit_transform)"
   ]
  },
  {
   "cell_type": "code",
   "execution_count": 61,
   "id": "ada5075c",
   "metadata": {},
   "outputs": [
    {
     "data": {
      "text/html": [
       "<div>\n",
       "<style scoped>\n",
       "    .dataframe tbody tr th:only-of-type {\n",
       "        vertical-align: middle;\n",
       "    }\n",
       "\n",
       "    .dataframe tbody tr th {\n",
       "        vertical-align: top;\n",
       "    }\n",
       "\n",
       "    .dataframe thead th {\n",
       "        text-align: right;\n",
       "    }\n",
       "</style>\n",
       "<table border=\"1\" class=\"dataframe\">\n",
       "  <thead>\n",
       "    <tr style=\"text-align: right;\">\n",
       "      <th></th>\n",
       "      <th>TypeOfIncident</th>\n",
       "      <th>TypeOfCollission</th>\n",
       "      <th>SeverityOfIncident</th>\n",
       "      <th>AuthoritiesContacted</th>\n",
       "      <th>IncidentState</th>\n",
       "      <th>IncidentCity</th>\n",
       "      <th>IncidentAddress</th>\n",
       "      <th>PropertyDamage</th>\n",
       "      <th>Witnesses</th>\n",
       "      <th>PoliceReport</th>\n",
       "      <th>...</th>\n",
       "      <th>NumberOfVehicles</th>\n",
       "      <th>BodilyInjuries</th>\n",
       "      <th>AmountOfInjuryClaim</th>\n",
       "      <th>AmountOfPropertyClaim</th>\n",
       "      <th>AmountOfVehicleDamage</th>\n",
       "      <th>InsuredAge</th>\n",
       "      <th>CapitalGains</th>\n",
       "      <th>CapitalLoss</th>\n",
       "      <th>CustomerLoyaltyPeriod</th>\n",
       "      <th>Policy_Deductible</th>\n",
       "    </tr>\n",
       "  </thead>\n",
       "  <tbody>\n",
       "    <tr>\n",
       "      <th>0</th>\n",
       "      <td>0</td>\n",
       "      <td>2</td>\n",
       "      <td>2</td>\n",
       "      <td>4</td>\n",
       "      <td>4</td>\n",
       "      <td>0</td>\n",
       "      <td>279</td>\n",
       "      <td>0</td>\n",
       "      <td>0</td>\n",
       "      <td>0</td>\n",
       "      <td>...</td>\n",
       "      <td>3</td>\n",
       "      <td>1</td>\n",
       "      <td>10002</td>\n",
       "      <td>6071</td>\n",
       "      <td>46013</td>\n",
       "      <td>35</td>\n",
       "      <td>56700</td>\n",
       "      <td>-48500</td>\n",
       "      <td>47</td>\n",
       "      <td>1000</td>\n",
       "    </tr>\n",
       "    <tr>\n",
       "      <th>1</th>\n",
       "      <td>0</td>\n",
       "      <td>2</td>\n",
       "      <td>2</td>\n",
       "      <td>4</td>\n",
       "      <td>4</td>\n",
       "      <td>4</td>\n",
       "      <td>279</td>\n",
       "      <td>1</td>\n",
       "      <td>1</td>\n",
       "      <td>1</td>\n",
       "      <td>...</td>\n",
       "      <td>3</td>\n",
       "      <td>2</td>\n",
       "      <td>11292</td>\n",
       "      <td>5919</td>\n",
       "      <td>39903</td>\n",
       "      <td>36</td>\n",
       "      <td>70600</td>\n",
       "      <td>-48500</td>\n",
       "      <td>112</td>\n",
       "      <td>1000</td>\n",
       "    </tr>\n",
       "    <tr>\n",
       "      <th>2</th>\n",
       "      <td>2</td>\n",
       "      <td>2</td>\n",
       "      <td>1</td>\n",
       "      <td>3</td>\n",
       "      <td>5</td>\n",
       "      <td>5</td>\n",
       "      <td>980</td>\n",
       "      <td>1</td>\n",
       "      <td>3</td>\n",
       "      <td>0</td>\n",
       "      <td>...</td>\n",
       "      <td>1</td>\n",
       "      <td>2</td>\n",
       "      <td>8626</td>\n",
       "      <td>11630</td>\n",
       "      <td>43495</td>\n",
       "      <td>33</td>\n",
       "      <td>66400</td>\n",
       "      <td>-63700</td>\n",
       "      <td>165</td>\n",
       "      <td>617</td>\n",
       "    </tr>\n",
       "    <tr>\n",
       "      <th>3</th>\n",
       "      <td>2</td>\n",
       "      <td>2</td>\n",
       "      <td>1</td>\n",
       "      <td>3</td>\n",
       "      <td>6</td>\n",
       "      <td>5</td>\n",
       "      <td>980</td>\n",
       "      <td>1</td>\n",
       "      <td>3</td>\n",
       "      <td>0</td>\n",
       "      <td>...</td>\n",
       "      <td>1</td>\n",
       "      <td>2</td>\n",
       "      <td>8925</td>\n",
       "      <td>12003</td>\n",
       "      <td>42237</td>\n",
       "      <td>36</td>\n",
       "      <td>47900</td>\n",
       "      <td>-73400</td>\n",
       "      <td>188</td>\n",
       "      <td>722</td>\n",
       "    </tr>\n",
       "    <tr>\n",
       "      <th>4</th>\n",
       "      <td>2</td>\n",
       "      <td>1</td>\n",
       "      <td>1</td>\n",
       "      <td>1</td>\n",
       "      <td>5</td>\n",
       "      <td>5</td>\n",
       "      <td>624</td>\n",
       "      <td>0</td>\n",
       "      <td>1</td>\n",
       "      <td>1</td>\n",
       "      <td>...</td>\n",
       "      <td>1</td>\n",
       "      <td>2</td>\n",
       "      <td>6333</td>\n",
       "      <td>7234</td>\n",
       "      <td>37481</td>\n",
       "      <td>29</td>\n",
       "      <td>0</td>\n",
       "      <td>-41500</td>\n",
       "      <td>113</td>\n",
       "      <td>500</td>\n",
       "    </tr>\n",
       "  </tbody>\n",
       "</table>\n",
       "<p>5 rows × 33 columns</p>\n",
       "</div>"
      ],
      "text/plain": [
       "   TypeOfIncident  TypeOfCollission  SeverityOfIncident  AuthoritiesContacted  \\\n",
       "0               0                 2                   2                     4   \n",
       "1               0                 2                   2                     4   \n",
       "2               2                 2                   1                     3   \n",
       "3               2                 2                   1                     3   \n",
       "4               2                 1                   1                     1   \n",
       "\n",
       "   IncidentState  IncidentCity  IncidentAddress  PropertyDamage  Witnesses  \\\n",
       "0              4             0              279               0          0   \n",
       "1              4             4              279               1          1   \n",
       "2              5             5              980               1          3   \n",
       "3              6             5              980               1          3   \n",
       "4              5             5              624               0          1   \n",
       "\n",
       "   PoliceReport  ...  NumberOfVehicles  BodilyInjuries  AmountOfInjuryClaim  \\\n",
       "0             0  ...                 3               1                10002   \n",
       "1             1  ...                 3               2                11292   \n",
       "2             0  ...                 1               2                 8626   \n",
       "3             0  ...                 1               2                 8925   \n",
       "4             1  ...                 1               2                 6333   \n",
       "\n",
       "   AmountOfPropertyClaim  AmountOfVehicleDamage  InsuredAge  CapitalGains  \\\n",
       "0                   6071                  46013          35         56700   \n",
       "1                   5919                  39903          36         70600   \n",
       "2                  11630                  43495          33         66400   \n",
       "3                  12003                  42237          36         47900   \n",
       "4                   7234                  37481          29             0   \n",
       "\n",
       "   CapitalLoss  CustomerLoyaltyPeriod  Policy_Deductible  \n",
       "0       -48500                     47               1000  \n",
       "1       -48500                    112               1000  \n",
       "2       -63700                    165                617  \n",
       "3       -73400                    188                722  \n",
       "4       -41500                    113                500  \n",
       "\n",
       "[5 rows x 33 columns]"
      ]
     },
     "execution_count": 61,
     "metadata": {},
     "output_type": "execute_result"
    }
   ],
   "source": [
    "Train_dataset.head()"
   ]
  },
  {
   "cell_type": "code",
   "execution_count": 62,
   "id": "9cc3c5f7",
   "metadata": {},
   "outputs": [
    {
     "name": "stdout",
     "output_type": "stream",
     "text": [
      "<class 'pandas.core.frame.DataFrame'>\n",
      "Int64Index: 28836 entries, 0 to 28835\n",
      "Data columns (total 33 columns):\n",
      " #   Column                      Non-Null Count  Dtype\n",
      "---  ------                      --------------  -----\n",
      " 0   TypeOfIncident              28836 non-null  int32\n",
      " 1   TypeOfCollission            28836 non-null  int32\n",
      " 2   SeverityOfIncident          28836 non-null  int32\n",
      " 3   AuthoritiesContacted        28836 non-null  int32\n",
      " 4   IncidentState               28836 non-null  int32\n",
      " 5   IncidentCity                28836 non-null  int32\n",
      " 6   IncidentAddress             28836 non-null  int32\n",
      " 7   PropertyDamage              28836 non-null  int32\n",
      " 8   Witnesses                   28836 non-null  int32\n",
      " 9   PoliceReport                28836 non-null  int32\n",
      " 10  AmountOfTotalClaim          28836 non-null  int32\n",
      " 11  InsuredGender               28836 non-null  int32\n",
      " 12  InsuredEducationLevel       28836 non-null  int32\n",
      " 13  InsuredOccupation           28836 non-null  int32\n",
      " 14  InsuredHobbies              28836 non-null  int32\n",
      " 15  InsurancePolicyState        28836 non-null  int32\n",
      " 16  Policy_CombinedSingleLimit  28836 non-null  int32\n",
      " 17  InsuredRelationship         28836 non-null  int32\n",
      " 18  VehicleMake                 28836 non-null  int32\n",
      " 19  VehicleModel                28836 non-null  int32\n",
      " 20  VehicleYOM                  28836 non-null  int32\n",
      " 21  ReportedFraud               28836 non-null  int32\n",
      " 22  IncidentTime                28836 non-null  int64\n",
      " 23  NumberOfVehicles            28836 non-null  int64\n",
      " 24  BodilyInjuries              28836 non-null  int64\n",
      " 25  AmountOfInjuryClaim         28836 non-null  int64\n",
      " 26  AmountOfPropertyClaim       28836 non-null  int64\n",
      " 27  AmountOfVehicleDamage       28836 non-null  int64\n",
      " 28  InsuredAge                  28836 non-null  int64\n",
      " 29  CapitalGains                28836 non-null  int64\n",
      " 30  CapitalLoss                 28836 non-null  int64\n",
      " 31  CustomerLoyaltyPeriod       28836 non-null  int64\n",
      " 32  Policy_Deductible           28836 non-null  int64\n",
      "dtypes: int32(22), int64(11)\n",
      "memory usage: 6.1 MB\n"
     ]
    }
   ],
   "source": [
    "Train_dataset.info()"
   ]
  },
  {
   "cell_type": "code",
   "execution_count": 63,
   "id": "91813dd2",
   "metadata": {},
   "outputs": [],
   "source": [
    "td=['TypeOfIncident', 'TypeOfCollission', 'SeverityOfIncident', 'AuthoritiesContacted', 'IncidentState', 'IncidentCity', 'IncidentAddress', 'PropertyDamage', 'Witnesses', 'PoliceReport', 'AmountOfTotalClaim', 'InsuredGender', 'InsuredEducationLevel', 'InsuredOccupation', 'InsuredHobbies', 'InsurancePolicyState', 'Policy_CombinedSingleLimit','IncidentTime','CustomerLoyaltyPeriod','InsuredRelationship', 'VehicleMake', 'VehicleModel', 'VehicleYOM']"
   ]
  },
  {
   "cell_type": "code",
   "execution_count": 64,
   "id": "ed92d6ba",
   "metadata": {},
   "outputs": [],
   "source": [
    "Test_dataset[td] = Test_dataset[td].apply(LabelEncoder().fit_transform) \n",
    "# conversion from categorical to numerical for testing dataset"
   ]
  },
  {
   "cell_type": "code",
   "execution_count": 65,
   "id": "1317e7b6",
   "metadata": {
    "scrolled": true
   },
   "outputs": [
    {
     "name": "stdout",
     "output_type": "stream",
     "text": [
      "<class 'pandas.core.frame.DataFrame'>\n",
      "Int64Index: 8912 entries, 0 to 8911\n",
      "Data columns (total 32 columns):\n",
      " #   Column                      Non-Null Count  Dtype\n",
      "---  ------                      --------------  -----\n",
      " 0   TypeOfIncident              8912 non-null   int32\n",
      " 1   TypeOfCollission            8912 non-null   int32\n",
      " 2   SeverityOfIncident          8912 non-null   int32\n",
      " 3   AuthoritiesContacted        8912 non-null   int32\n",
      " 4   IncidentState               8912 non-null   int32\n",
      " 5   IncidentCity                8912 non-null   int32\n",
      " 6   IncidentAddress             8912 non-null   int32\n",
      " 7   PropertyDamage              8912 non-null   int32\n",
      " 8   Witnesses                   8912 non-null   int32\n",
      " 9   PoliceReport                8912 non-null   int32\n",
      " 10  AmountOfTotalClaim          8912 non-null   int32\n",
      " 11  InsuredGender               8912 non-null   int32\n",
      " 12  InsuredEducationLevel       8912 non-null   int32\n",
      " 13  InsuredOccupation           8912 non-null   int32\n",
      " 14  InsuredHobbies              8912 non-null   int32\n",
      " 15  InsurancePolicyState        8912 non-null   int32\n",
      " 16  Policy_CombinedSingleLimit  8912 non-null   int32\n",
      " 17  InsuredRelationship         8912 non-null   int32\n",
      " 18  VehicleMake                 8912 non-null   int32\n",
      " 19  VehicleModel                8912 non-null   int32\n",
      " 20  VehicleYOM                  8912 non-null   int32\n",
      " 21  IncidentTime                8912 non-null   int64\n",
      " 22  NumberOfVehicles            8912 non-null   int64\n",
      " 23  BodilyInjuries              8912 non-null   int64\n",
      " 24  AmountOfInjuryClaim         8912 non-null   int64\n",
      " 25  AmountOfPropertyClaim       8912 non-null   int64\n",
      " 26  AmountOfVehicleDamage       8912 non-null   int64\n",
      " 27  InsuredAge                  8912 non-null   int64\n",
      " 28  CapitalGains                8912 non-null   int64\n",
      " 29  CapitalLoss                 8912 non-null   int64\n",
      " 30  CustomerLoyaltyPeriod       8912 non-null   int64\n",
      " 31  Policy_Deductible           8912 non-null   int64\n",
      "dtypes: int32(21), int64(11)\n",
      "memory usage: 1.5 MB\n"
     ]
    }
   ],
   "source": [
    "Test_dataset.info()"
   ]
  },
  {
   "cell_type": "code",
   "execution_count": 66,
   "id": "49b7532e",
   "metadata": {
    "scrolled": true
   },
   "outputs": [
    {
     "data": {
      "text/html": [
       "<div>\n",
       "<style scoped>\n",
       "    .dataframe tbody tr th:only-of-type {\n",
       "        vertical-align: middle;\n",
       "    }\n",
       "\n",
       "    .dataframe tbody tr th {\n",
       "        vertical-align: top;\n",
       "    }\n",
       "\n",
       "    .dataframe thead th {\n",
       "        text-align: right;\n",
       "    }\n",
       "</style>\n",
       "<table border=\"1\" class=\"dataframe\">\n",
       "  <thead>\n",
       "    <tr style=\"text-align: right;\">\n",
       "      <th></th>\n",
       "      <th>TypeOfIncident</th>\n",
       "      <th>TypeOfCollission</th>\n",
       "      <th>SeverityOfIncident</th>\n",
       "      <th>AuthoritiesContacted</th>\n",
       "      <th>IncidentState</th>\n",
       "      <th>IncidentCity</th>\n",
       "      <th>IncidentAddress</th>\n",
       "      <th>PropertyDamage</th>\n",
       "      <th>Witnesses</th>\n",
       "      <th>PoliceReport</th>\n",
       "      <th>...</th>\n",
       "      <th>NumberOfVehicles</th>\n",
       "      <th>BodilyInjuries</th>\n",
       "      <th>AmountOfInjuryClaim</th>\n",
       "      <th>AmountOfPropertyClaim</th>\n",
       "      <th>AmountOfVehicleDamage</th>\n",
       "      <th>InsuredAge</th>\n",
       "      <th>CapitalGains</th>\n",
       "      <th>CapitalLoss</th>\n",
       "      <th>CustomerLoyaltyPeriod</th>\n",
       "      <th>Policy_Deductible</th>\n",
       "    </tr>\n",
       "  </thead>\n",
       "  <tbody>\n",
       "    <tr>\n",
       "      <th>0</th>\n",
       "      <td>0</td>\n",
       "      <td>0</td>\n",
       "      <td>1</td>\n",
       "      <td>0</td>\n",
       "      <td>2</td>\n",
       "      <td>1</td>\n",
       "      <td>311</td>\n",
       "      <td>0</td>\n",
       "      <td>0</td>\n",
       "      <td>0</td>\n",
       "      <td>...</td>\n",
       "      <td>3</td>\n",
       "      <td>0</td>\n",
       "      <td>6835</td>\n",
       "      <td>8059</td>\n",
       "      <td>53460</td>\n",
       "      <td>27</td>\n",
       "      <td>56400</td>\n",
       "      <td>-57000</td>\n",
       "      <td>84</td>\n",
       "      <td>2000</td>\n",
       "    </tr>\n",
       "    <tr>\n",
       "      <th>1</th>\n",
       "      <td>2</td>\n",
       "      <td>1</td>\n",
       "      <td>1</td>\n",
       "      <td>1</td>\n",
       "      <td>6</td>\n",
       "      <td>4</td>\n",
       "      <td>337</td>\n",
       "      <td>0</td>\n",
       "      <td>1</td>\n",
       "      <td>0</td>\n",
       "      <td>...</td>\n",
       "      <td>1</td>\n",
       "      <td>1</td>\n",
       "      <td>8113</td>\n",
       "      <td>5240</td>\n",
       "      <td>41917</td>\n",
       "      <td>40</td>\n",
       "      <td>56700</td>\n",
       "      <td>-65600</td>\n",
       "      <td>232</td>\n",
       "      <td>500</td>\n",
       "    </tr>\n",
       "    <tr>\n",
       "      <th>2</th>\n",
       "      <td>0</td>\n",
       "      <td>1</td>\n",
       "      <td>1</td>\n",
       "      <td>4</td>\n",
       "      <td>2</td>\n",
       "      <td>1</td>\n",
       "      <td>931</td>\n",
       "      <td>0</td>\n",
       "      <td>1</td>\n",
       "      <td>0</td>\n",
       "      <td>...</td>\n",
       "      <td>3</td>\n",
       "      <td>0</td>\n",
       "      <td>7490</td>\n",
       "      <td>9110</td>\n",
       "      <td>42915</td>\n",
       "      <td>39</td>\n",
       "      <td>30400</td>\n",
       "      <td>0</td>\n",
       "      <td>218</td>\n",
       "      <td>1000</td>\n",
       "    </tr>\n",
       "    <tr>\n",
       "      <th>3</th>\n",
       "      <td>3</td>\n",
       "      <td>1</td>\n",
       "      <td>3</td>\n",
       "      <td>2</td>\n",
       "      <td>4</td>\n",
       "      <td>4</td>\n",
       "      <td>400</td>\n",
       "      <td>0</td>\n",
       "      <td>1</td>\n",
       "      <td>0</td>\n",
       "      <td>...</td>\n",
       "      <td>1</td>\n",
       "      <td>2</td>\n",
       "      <td>494</td>\n",
       "      <td>866</td>\n",
       "      <td>3581</td>\n",
       "      <td>38</td>\n",
       "      <td>68500</td>\n",
       "      <td>0</td>\n",
       "      <td>205</td>\n",
       "      <td>2000</td>\n",
       "    </tr>\n",
       "    <tr>\n",
       "      <th>4</th>\n",
       "      <td>0</td>\n",
       "      <td>1</td>\n",
       "      <td>1</td>\n",
       "      <td>4</td>\n",
       "      <td>2</td>\n",
       "      <td>1</td>\n",
       "      <td>826</td>\n",
       "      <td>0</td>\n",
       "      <td>3</td>\n",
       "      <td>0</td>\n",
       "      <td>...</td>\n",
       "      <td>3</td>\n",
       "      <td>2</td>\n",
       "      <td>7700</td>\n",
       "      <td>3850</td>\n",
       "      <td>23100</td>\n",
       "      <td>29</td>\n",
       "      <td>35100</td>\n",
       "      <td>0</td>\n",
       "      <td>134</td>\n",
       "      <td>2000</td>\n",
       "    </tr>\n",
       "  </tbody>\n",
       "</table>\n",
       "<p>5 rows × 32 columns</p>\n",
       "</div>"
      ],
      "text/plain": [
       "   TypeOfIncident  TypeOfCollission  SeverityOfIncident  AuthoritiesContacted  \\\n",
       "0               0                 0                   1                     0   \n",
       "1               2                 1                   1                     1   \n",
       "2               0                 1                   1                     4   \n",
       "3               3                 1                   3                     2   \n",
       "4               0                 1                   1                     4   \n",
       "\n",
       "   IncidentState  IncidentCity  IncidentAddress  PropertyDamage  Witnesses  \\\n",
       "0              2             1              311               0          0   \n",
       "1              6             4              337               0          1   \n",
       "2              2             1              931               0          1   \n",
       "3              4             4              400               0          1   \n",
       "4              2             1              826               0          3   \n",
       "\n",
       "   PoliceReport  ...  NumberOfVehicles  BodilyInjuries  AmountOfInjuryClaim  \\\n",
       "0             0  ...                 3               0                 6835   \n",
       "1             0  ...                 1               1                 8113   \n",
       "2             0  ...                 3               0                 7490   \n",
       "3             0  ...                 1               2                  494   \n",
       "4             0  ...                 3               2                 7700   \n",
       "\n",
       "   AmountOfPropertyClaim  AmountOfVehicleDamage  InsuredAge  CapitalGains  \\\n",
       "0                   8059                  53460          27         56400   \n",
       "1                   5240                  41917          40         56700   \n",
       "2                   9110                  42915          39         30400   \n",
       "3                    866                   3581          38         68500   \n",
       "4                   3850                  23100          29         35100   \n",
       "\n",
       "   CapitalLoss  CustomerLoyaltyPeriod  Policy_Deductible  \n",
       "0       -57000                     84               2000  \n",
       "1       -65600                    232                500  \n",
       "2            0                    218               1000  \n",
       "3            0                    205               2000  \n",
       "4            0                    134               2000  \n",
       "\n",
       "[5 rows x 32 columns]"
      ]
     },
     "execution_count": 66,
     "metadata": {},
     "output_type": "execute_result"
    }
   ],
   "source": [
    "Test_dataset.head()"
   ]
  },
  {
   "cell_type": "code",
   "execution_count": 67,
   "id": "8939b5c1",
   "metadata": {},
   "outputs": [
    {
     "data": {
      "text/html": [
       "<div>\n",
       "<style scoped>\n",
       "    .dataframe tbody tr th:only-of-type {\n",
       "        vertical-align: middle;\n",
       "    }\n",
       "\n",
       "    .dataframe tbody tr th {\n",
       "        vertical-align: top;\n",
       "    }\n",
       "\n",
       "    .dataframe thead th {\n",
       "        text-align: right;\n",
       "    }\n",
       "</style>\n",
       "<table border=\"1\" class=\"dataframe\">\n",
       "  <thead>\n",
       "    <tr style=\"text-align: right;\">\n",
       "      <th></th>\n",
       "      <th>count</th>\n",
       "      <th>mean</th>\n",
       "      <th>std</th>\n",
       "      <th>min</th>\n",
       "      <th>25%</th>\n",
       "      <th>50%</th>\n",
       "      <th>75%</th>\n",
       "      <th>max</th>\n",
       "    </tr>\n",
       "  </thead>\n",
       "  <tbody>\n",
       "    <tr>\n",
       "      <th>TypeOfIncident</th>\n",
       "      <td>28836.0</td>\n",
       "      <td>1.176203</td>\n",
       "      <td>1.077662</td>\n",
       "      <td>0.0</td>\n",
       "      <td>0.00</td>\n",
       "      <td>1.0</td>\n",
       "      <td>2.00</td>\n",
       "      <td>3.0</td>\n",
       "    </tr>\n",
       "    <tr>\n",
       "      <th>TypeOfCollission</th>\n",
       "      <td>28836.0</td>\n",
       "      <td>1.021536</td>\n",
       "      <td>0.723641</td>\n",
       "      <td>0.0</td>\n",
       "      <td>0.00</td>\n",
       "      <td>1.0</td>\n",
       "      <td>2.00</td>\n",
       "      <td>2.0</td>\n",
       "    </tr>\n",
       "    <tr>\n",
       "      <th>SeverityOfIncident</th>\n",
       "      <td>28836.0</td>\n",
       "      <td>1.195624</td>\n",
       "      <td>0.930636</td>\n",
       "      <td>0.0</td>\n",
       "      <td>0.00</td>\n",
       "      <td>1.0</td>\n",
       "      <td>2.00</td>\n",
       "      <td>3.0</td>\n",
       "    </tr>\n",
       "    <tr>\n",
       "      <th>AuthoritiesContacted</th>\n",
       "      <td>28836.0</td>\n",
       "      <td>2.146900</td>\n",
       "      <td>1.532150</td>\n",
       "      <td>0.0</td>\n",
       "      <td>1.00</td>\n",
       "      <td>2.0</td>\n",
       "      <td>4.00</td>\n",
       "      <td>4.0</td>\n",
       "    </tr>\n",
       "    <tr>\n",
       "      <th>IncidentState</th>\n",
       "      <td>28836.0</td>\n",
       "      <td>3.564087</td>\n",
       "      <td>1.782101</td>\n",
       "      <td>0.0</td>\n",
       "      <td>2.00</td>\n",
       "      <td>4.0</td>\n",
       "      <td>5.00</td>\n",
       "      <td>6.0</td>\n",
       "    </tr>\n",
       "    <tr>\n",
       "      <th>IncidentCity</th>\n",
       "      <td>28836.0</td>\n",
       "      <td>2.914517</td>\n",
       "      <td>2.018866</td>\n",
       "      <td>0.0</td>\n",
       "      <td>1.00</td>\n",
       "      <td>3.0</td>\n",
       "      <td>5.00</td>\n",
       "      <td>6.0</td>\n",
       "    </tr>\n",
       "    <tr>\n",
       "      <th>IncidentAddress</th>\n",
       "      <td>28836.0</td>\n",
       "      <td>495.843460</td>\n",
       "      <td>286.495611</td>\n",
       "      <td>0.0</td>\n",
       "      <td>248.00</td>\n",
       "      <td>492.0</td>\n",
       "      <td>742.00</td>\n",
       "      <td>999.0</td>\n",
       "    </tr>\n",
       "    <tr>\n",
       "      <th>PropertyDamage</th>\n",
       "      <td>28836.0</td>\n",
       "      <td>0.301359</td>\n",
       "      <td>0.458856</td>\n",
       "      <td>0.0</td>\n",
       "      <td>0.00</td>\n",
       "      <td>0.0</td>\n",
       "      <td>1.00</td>\n",
       "      <td>1.0</td>\n",
       "    </tr>\n",
       "    <tr>\n",
       "      <th>Witnesses</th>\n",
       "      <td>28836.0</td>\n",
       "      <td>1.489076</td>\n",
       "      <td>1.040160</td>\n",
       "      <td>0.0</td>\n",
       "      <td>1.00</td>\n",
       "      <td>1.0</td>\n",
       "      <td>2.00</td>\n",
       "      <td>3.0</td>\n",
       "    </tr>\n",
       "    <tr>\n",
       "      <th>PoliceReport</th>\n",
       "      <td>28836.0</td>\n",
       "      <td>0.316722</td>\n",
       "      <td>0.465206</td>\n",
       "      <td>0.0</td>\n",
       "      <td>0.00</td>\n",
       "      <td>0.0</td>\n",
       "      <td>1.00</td>\n",
       "      <td>1.0</td>\n",
       "    </tr>\n",
       "    <tr>\n",
       "      <th>AmountOfTotalClaim</th>\n",
       "      <td>28836.0</td>\n",
       "      <td>10840.932619</td>\n",
       "      <td>6061.086210</td>\n",
       "      <td>0.0</td>\n",
       "      <td>5787.00</td>\n",
       "      <td>10736.5</td>\n",
       "      <td>15858.25</td>\n",
       "      <td>21974.0</td>\n",
       "    </tr>\n",
       "    <tr>\n",
       "      <th>InsuredGender</th>\n",
       "      <td>28836.0</td>\n",
       "      <td>0.456443</td>\n",
       "      <td>0.498108</td>\n",
       "      <td>0.0</td>\n",
       "      <td>0.00</td>\n",
       "      <td>0.0</td>\n",
       "      <td>1.00</td>\n",
       "      <td>1.0</td>\n",
       "    </tr>\n",
       "    <tr>\n",
       "      <th>InsuredEducationLevel</th>\n",
       "      <td>28836.0</td>\n",
       "      <td>2.973263</td>\n",
       "      <td>1.937683</td>\n",
       "      <td>0.0</td>\n",
       "      <td>1.00</td>\n",
       "      <td>3.0</td>\n",
       "      <td>5.00</td>\n",
       "      <td>6.0</td>\n",
       "    </tr>\n",
       "    <tr>\n",
       "      <th>InsuredOccupation</th>\n",
       "      <td>28836.0</td>\n",
       "      <td>6.613227</td>\n",
       "      <td>4.023709</td>\n",
       "      <td>0.0</td>\n",
       "      <td>3.00</td>\n",
       "      <td>7.0</td>\n",
       "      <td>10.00</td>\n",
       "      <td>13.0</td>\n",
       "    </tr>\n",
       "    <tr>\n",
       "      <th>InsuredHobbies</th>\n",
       "      <td>28836.0</td>\n",
       "      <td>9.592107</td>\n",
       "      <td>5.691418</td>\n",
       "      <td>0.0</td>\n",
       "      <td>4.00</td>\n",
       "      <td>10.0</td>\n",
       "      <td>14.00</td>\n",
       "      <td>19.0</td>\n",
       "    </tr>\n",
       "    <tr>\n",
       "      <th>InsurancePolicyState</th>\n",
       "      <td>28836.0</td>\n",
       "      <td>1.014912</td>\n",
       "      <td>0.829815</td>\n",
       "      <td>0.0</td>\n",
       "      <td>0.00</td>\n",
       "      <td>1.0</td>\n",
       "      <td>2.00</td>\n",
       "      <td>2.0</td>\n",
       "    </tr>\n",
       "    <tr>\n",
       "      <th>Policy_CombinedSingleLimit</th>\n",
       "      <td>28836.0</td>\n",
       "      <td>3.928457</td>\n",
       "      <td>2.270730</td>\n",
       "      <td>0.0</td>\n",
       "      <td>1.00</td>\n",
       "      <td>5.0</td>\n",
       "      <td>6.00</td>\n",
       "      <td>8.0</td>\n",
       "    </tr>\n",
       "    <tr>\n",
       "      <th>InsuredRelationship</th>\n",
       "      <td>28836.0</td>\n",
       "      <td>2.370162</td>\n",
       "      <td>1.670944</td>\n",
       "      <td>0.0</td>\n",
       "      <td>1.00</td>\n",
       "      <td>2.0</td>\n",
       "      <td>4.00</td>\n",
       "      <td>5.0</td>\n",
       "    </tr>\n",
       "    <tr>\n",
       "      <th>VehicleMake</th>\n",
       "      <td>28836.0</td>\n",
       "      <td>6.532078</td>\n",
       "      <td>4.054627</td>\n",
       "      <td>0.0</td>\n",
       "      <td>3.00</td>\n",
       "      <td>7.0</td>\n",
       "      <td>10.00</td>\n",
       "      <td>13.0</td>\n",
       "    </tr>\n",
       "    <tr>\n",
       "      <th>VehicleModel</th>\n",
       "      <td>28836.0</td>\n",
       "      <td>19.633895</td>\n",
       "      <td>11.159477</td>\n",
       "      <td>0.0</td>\n",
       "      <td>10.00</td>\n",
       "      <td>20.0</td>\n",
       "      <td>29.00</td>\n",
       "      <td>38.0</td>\n",
       "    </tr>\n",
       "    <tr>\n",
       "      <th>VehicleYOM</th>\n",
       "      <td>28836.0</td>\n",
       "      <td>10.093113</td>\n",
       "      <td>5.309956</td>\n",
       "      <td>0.0</td>\n",
       "      <td>6.00</td>\n",
       "      <td>10.0</td>\n",
       "      <td>15.00</td>\n",
       "      <td>20.0</td>\n",
       "    </tr>\n",
       "    <tr>\n",
       "      <th>ReportedFraud</th>\n",
       "      <td>28836.0</td>\n",
       "      <td>0.269975</td>\n",
       "      <td>0.443954</td>\n",
       "      <td>0.0</td>\n",
       "      <td>0.00</td>\n",
       "      <td>0.0</td>\n",
       "      <td>1.00</td>\n",
       "      <td>1.0</td>\n",
       "    </tr>\n",
       "    <tr>\n",
       "      <th>IncidentTime</th>\n",
       "      <td>28836.0</td>\n",
       "      <td>12.780448</td>\n",
       "      <td>6.148199</td>\n",
       "      <td>0.0</td>\n",
       "      <td>7.00</td>\n",
       "      <td>13.0</td>\n",
       "      <td>18.00</td>\n",
       "      <td>24.0</td>\n",
       "    </tr>\n",
       "    <tr>\n",
       "      <th>NumberOfVehicles</th>\n",
       "      <td>28836.0</td>\n",
       "      <td>1.823207</td>\n",
       "      <td>0.980099</td>\n",
       "      <td>1.0</td>\n",
       "      <td>1.00</td>\n",
       "      <td>1.0</td>\n",
       "      <td>3.00</td>\n",
       "      <td>4.0</td>\n",
       "    </tr>\n",
       "    <tr>\n",
       "      <th>BodilyInjuries</th>\n",
       "      <td>28836.0</td>\n",
       "      <td>0.985782</td>\n",
       "      <td>0.784764</td>\n",
       "      <td>0.0</td>\n",
       "      <td>0.00</td>\n",
       "      <td>1.0</td>\n",
       "      <td>2.00</td>\n",
       "      <td>2.0</td>\n",
       "    </tr>\n",
       "    <tr>\n",
       "      <th>AmountOfInjuryClaim</th>\n",
       "      <td>28836.0</td>\n",
       "      <td>5141.615585</td>\n",
       "      <td>3317.730780</td>\n",
       "      <td>0.0</td>\n",
       "      <td>2581.75</td>\n",
       "      <td>4833.0</td>\n",
       "      <td>7778.25</td>\n",
       "      <td>11957.0</td>\n",
       "    </tr>\n",
       "    <tr>\n",
       "      <th>AmountOfPropertyClaim</th>\n",
       "      <td>28836.0</td>\n",
       "      <td>7283.870197</td>\n",
       "      <td>4375.842738</td>\n",
       "      <td>0.0</td>\n",
       "      <td>4862.00</td>\n",
       "      <td>7051.0</td>\n",
       "      <td>10327.00</td>\n",
       "      <td>23670.0</td>\n",
       "    </tr>\n",
       "    <tr>\n",
       "      <th>AmountOfVehicleDamage</th>\n",
       "      <td>28836.0</td>\n",
       "      <td>37687.129387</td>\n",
       "      <td>17977.048232</td>\n",
       "      <td>109.0</td>\n",
       "      <td>32193.25</td>\n",
       "      <td>42457.5</td>\n",
       "      <td>49535.75</td>\n",
       "      <td>79560.0</td>\n",
       "    </tr>\n",
       "    <tr>\n",
       "      <th>InsuredAge</th>\n",
       "      <td>28836.0</td>\n",
       "      <td>38.815370</td>\n",
       "      <td>7.996377</td>\n",
       "      <td>19.0</td>\n",
       "      <td>33.00</td>\n",
       "      <td>38.0</td>\n",
       "      <td>44.00</td>\n",
       "      <td>64.0</td>\n",
       "    </tr>\n",
       "    <tr>\n",
       "      <th>CapitalGains</th>\n",
       "      <td>28836.0</td>\n",
       "      <td>23066.569566</td>\n",
       "      <td>27637.813724</td>\n",
       "      <td>0.0</td>\n",
       "      <td>0.00</td>\n",
       "      <td>0.0</td>\n",
       "      <td>49000.00</td>\n",
       "      <td>100500.0</td>\n",
       "    </tr>\n",
       "    <tr>\n",
       "      <th>CapitalLoss</th>\n",
       "      <td>28836.0</td>\n",
       "      <td>-24940.612429</td>\n",
       "      <td>27913.209608</td>\n",
       "      <td>-111100.0</td>\n",
       "      <td>-50000.00</td>\n",
       "      <td>0.0</td>\n",
       "      <td>0.00</td>\n",
       "      <td>0.0</td>\n",
       "    </tr>\n",
       "    <tr>\n",
       "      <th>CustomerLoyaltyPeriod</th>\n",
       "      <td>28836.0</td>\n",
       "      <td>201.647697</td>\n",
       "      <td>100.243703</td>\n",
       "      <td>0.0</td>\n",
       "      <td>124.00</td>\n",
       "      <td>197.0</td>\n",
       "      <td>266.00</td>\n",
       "      <td>478.0</td>\n",
       "    </tr>\n",
       "    <tr>\n",
       "      <th>Policy_Deductible</th>\n",
       "      <td>28836.0</td>\n",
       "      <td>1114.282529</td>\n",
       "      <td>546.632816</td>\n",
       "      <td>500.0</td>\n",
       "      <td>622.00</td>\n",
       "      <td>1000.0</td>\n",
       "      <td>1627.00</td>\n",
       "      <td>2000.0</td>\n",
       "    </tr>\n",
       "  </tbody>\n",
       "</table>\n",
       "</div>"
      ],
      "text/plain": [
       "                              count          mean           std       min  \\\n",
       "TypeOfIncident              28836.0      1.176203      1.077662       0.0   \n",
       "TypeOfCollission            28836.0      1.021536      0.723641       0.0   \n",
       "SeverityOfIncident          28836.0      1.195624      0.930636       0.0   \n",
       "AuthoritiesContacted        28836.0      2.146900      1.532150       0.0   \n",
       "IncidentState               28836.0      3.564087      1.782101       0.0   \n",
       "IncidentCity                28836.0      2.914517      2.018866       0.0   \n",
       "IncidentAddress             28836.0    495.843460    286.495611       0.0   \n",
       "PropertyDamage              28836.0      0.301359      0.458856       0.0   \n",
       "Witnesses                   28836.0      1.489076      1.040160       0.0   \n",
       "PoliceReport                28836.0      0.316722      0.465206       0.0   \n",
       "AmountOfTotalClaim          28836.0  10840.932619   6061.086210       0.0   \n",
       "InsuredGender               28836.0      0.456443      0.498108       0.0   \n",
       "InsuredEducationLevel       28836.0      2.973263      1.937683       0.0   \n",
       "InsuredOccupation           28836.0      6.613227      4.023709       0.0   \n",
       "InsuredHobbies              28836.0      9.592107      5.691418       0.0   \n",
       "InsurancePolicyState        28836.0      1.014912      0.829815       0.0   \n",
       "Policy_CombinedSingleLimit  28836.0      3.928457      2.270730       0.0   \n",
       "InsuredRelationship         28836.0      2.370162      1.670944       0.0   \n",
       "VehicleMake                 28836.0      6.532078      4.054627       0.0   \n",
       "VehicleModel                28836.0     19.633895     11.159477       0.0   \n",
       "VehicleYOM                  28836.0     10.093113      5.309956       0.0   \n",
       "ReportedFraud               28836.0      0.269975      0.443954       0.0   \n",
       "IncidentTime                28836.0     12.780448      6.148199       0.0   \n",
       "NumberOfVehicles            28836.0      1.823207      0.980099       1.0   \n",
       "BodilyInjuries              28836.0      0.985782      0.784764       0.0   \n",
       "AmountOfInjuryClaim         28836.0   5141.615585   3317.730780       0.0   \n",
       "AmountOfPropertyClaim       28836.0   7283.870197   4375.842738       0.0   \n",
       "AmountOfVehicleDamage       28836.0  37687.129387  17977.048232     109.0   \n",
       "InsuredAge                  28836.0     38.815370      7.996377      19.0   \n",
       "CapitalGains                28836.0  23066.569566  27637.813724       0.0   \n",
       "CapitalLoss                 28836.0 -24940.612429  27913.209608 -111100.0   \n",
       "CustomerLoyaltyPeriod       28836.0    201.647697    100.243703       0.0   \n",
       "Policy_Deductible           28836.0   1114.282529    546.632816     500.0   \n",
       "\n",
       "                                 25%      50%       75%       max  \n",
       "TypeOfIncident                  0.00      1.0      2.00       3.0  \n",
       "TypeOfCollission                0.00      1.0      2.00       2.0  \n",
       "SeverityOfIncident              0.00      1.0      2.00       3.0  \n",
       "AuthoritiesContacted            1.00      2.0      4.00       4.0  \n",
       "IncidentState                   2.00      4.0      5.00       6.0  \n",
       "IncidentCity                    1.00      3.0      5.00       6.0  \n",
       "IncidentAddress               248.00    492.0    742.00     999.0  \n",
       "PropertyDamage                  0.00      0.0      1.00       1.0  \n",
       "Witnesses                       1.00      1.0      2.00       3.0  \n",
       "PoliceReport                    0.00      0.0      1.00       1.0  \n",
       "AmountOfTotalClaim           5787.00  10736.5  15858.25   21974.0  \n",
       "InsuredGender                   0.00      0.0      1.00       1.0  \n",
       "InsuredEducationLevel           1.00      3.0      5.00       6.0  \n",
       "InsuredOccupation               3.00      7.0     10.00      13.0  \n",
       "InsuredHobbies                  4.00     10.0     14.00      19.0  \n",
       "InsurancePolicyState            0.00      1.0      2.00       2.0  \n",
       "Policy_CombinedSingleLimit      1.00      5.0      6.00       8.0  \n",
       "InsuredRelationship             1.00      2.0      4.00       5.0  \n",
       "VehicleMake                     3.00      7.0     10.00      13.0  \n",
       "VehicleModel                   10.00     20.0     29.00      38.0  \n",
       "VehicleYOM                      6.00     10.0     15.00      20.0  \n",
       "ReportedFraud                   0.00      0.0      1.00       1.0  \n",
       "IncidentTime                    7.00     13.0     18.00      24.0  \n",
       "NumberOfVehicles                1.00      1.0      3.00       4.0  \n",
       "BodilyInjuries                  0.00      1.0      2.00       2.0  \n",
       "AmountOfInjuryClaim          2581.75   4833.0   7778.25   11957.0  \n",
       "AmountOfPropertyClaim        4862.00   7051.0  10327.00   23670.0  \n",
       "AmountOfVehicleDamage       32193.25  42457.5  49535.75   79560.0  \n",
       "InsuredAge                     33.00     38.0     44.00      64.0  \n",
       "CapitalGains                    0.00      0.0  49000.00  100500.0  \n",
       "CapitalLoss                -50000.00      0.0      0.00       0.0  \n",
       "CustomerLoyaltyPeriod         124.00    197.0    266.00     478.0  \n",
       "Policy_Deductible             622.00   1000.0   1627.00    2000.0  "
      ]
     },
     "execution_count": 67,
     "metadata": {},
     "output_type": "execute_result"
    }
   ],
   "source": [
    "# Statistical summary of numerical columns\n",
    "Train_dataset.describe(include=\"all\").T"
   ]
  },
  {
   "cell_type": "code",
   "execution_count": 68,
   "id": "159147b1",
   "metadata": {},
   "outputs": [
    {
     "data": {
      "text/plain": [
       "0    21051\n",
       "1     7785\n",
       "Name: ReportedFraud, dtype: int64"
      ]
     },
     "execution_count": 68,
     "metadata": {},
     "output_type": "execute_result"
    }
   ],
   "source": [
    "Train_dataset['ReportedFraud'].value_counts()\n",
    "# it shows the number of unique values in the target variable\n"
   ]
  },
  {
   "cell_type": "markdown",
   "id": "c62f8918",
   "metadata": {},
   "source": [
    "# Standardizing the data \n"
   ]
  },
  {
   "cell_type": "code",
   "execution_count": 69,
   "id": "9756f531",
   "metadata": {},
   "outputs": [
    {
     "data": {
      "text/plain": [
       "(28836, 33)"
      ]
     },
     "execution_count": 69,
     "metadata": {},
     "output_type": "execute_result"
    }
   ],
   "source": [
    "Train_dataset.shape"
   ]
  },
  {
   "cell_type": "code",
   "execution_count": 70,
   "id": "40627792",
   "metadata": {},
   "outputs": [],
   "source": [
    "# Splitting the dataset into Features and Target\n",
    "X = Train_dataset.drop(\"ReportedFraud\",axis=1)\n",
    "y = Train_dataset[\"ReportedFraud\"]"
   ]
  },
  {
   "cell_type": "code",
   "execution_count": 71,
   "id": "6bb3eba1",
   "metadata": {},
   "outputs": [
    {
     "data": {
      "text/plain": [
       "(28836, 32)"
      ]
     },
     "execution_count": 71,
     "metadata": {},
     "output_type": "execute_result"
    }
   ],
   "source": [
    "X.shape  #shape of the feature "
   ]
  },
  {
   "cell_type": "code",
   "execution_count": 72,
   "id": "9ddb0e32",
   "metadata": {},
   "outputs": [
    {
     "data": {
      "text/html": [
       "<div>\n",
       "<style scoped>\n",
       "    .dataframe tbody tr th:only-of-type {\n",
       "        vertical-align: middle;\n",
       "    }\n",
       "\n",
       "    .dataframe tbody tr th {\n",
       "        vertical-align: top;\n",
       "    }\n",
       "\n",
       "    .dataframe thead th {\n",
       "        text-align: right;\n",
       "    }\n",
       "</style>\n",
       "<table border=\"1\" class=\"dataframe\">\n",
       "  <thead>\n",
       "    <tr style=\"text-align: right;\">\n",
       "      <th></th>\n",
       "      <th>TypeOfIncident</th>\n",
       "      <th>TypeOfCollission</th>\n",
       "      <th>SeverityOfIncident</th>\n",
       "      <th>AuthoritiesContacted</th>\n",
       "      <th>IncidentState</th>\n",
       "      <th>IncidentCity</th>\n",
       "      <th>IncidentAddress</th>\n",
       "      <th>PropertyDamage</th>\n",
       "      <th>Witnesses</th>\n",
       "      <th>PoliceReport</th>\n",
       "      <th>...</th>\n",
       "      <th>NumberOfVehicles</th>\n",
       "      <th>BodilyInjuries</th>\n",
       "      <th>AmountOfInjuryClaim</th>\n",
       "      <th>AmountOfPropertyClaim</th>\n",
       "      <th>AmountOfVehicleDamage</th>\n",
       "      <th>InsuredAge</th>\n",
       "      <th>CapitalGains</th>\n",
       "      <th>CapitalLoss</th>\n",
       "      <th>CustomerLoyaltyPeriod</th>\n",
       "      <th>Policy_Deductible</th>\n",
       "    </tr>\n",
       "  </thead>\n",
       "  <tbody>\n",
       "    <tr>\n",
       "      <th>0</th>\n",
       "      <td>0.000000</td>\n",
       "      <td>1.0</td>\n",
       "      <td>0.666667</td>\n",
       "      <td>1.00</td>\n",
       "      <td>0.666667</td>\n",
       "      <td>0.000000</td>\n",
       "      <td>0.279279</td>\n",
       "      <td>0.0</td>\n",
       "      <td>0.000000</td>\n",
       "      <td>0.0</td>\n",
       "      <td>...</td>\n",
       "      <td>0.666667</td>\n",
       "      <td>0.5</td>\n",
       "      <td>0.836497</td>\n",
       "      <td>0.256485</td>\n",
       "      <td>0.577765</td>\n",
       "      <td>0.355556</td>\n",
       "      <td>0.564179</td>\n",
       "      <td>0.563456</td>\n",
       "      <td>0.098326</td>\n",
       "      <td>0.333333</td>\n",
       "    </tr>\n",
       "    <tr>\n",
       "      <th>1</th>\n",
       "      <td>0.000000</td>\n",
       "      <td>1.0</td>\n",
       "      <td>0.666667</td>\n",
       "      <td>1.00</td>\n",
       "      <td>0.666667</td>\n",
       "      <td>0.666667</td>\n",
       "      <td>0.279279</td>\n",
       "      <td>1.0</td>\n",
       "      <td>0.333333</td>\n",
       "      <td>1.0</td>\n",
       "      <td>...</td>\n",
       "      <td>0.666667</td>\n",
       "      <td>1.0</td>\n",
       "      <td>0.944384</td>\n",
       "      <td>0.250063</td>\n",
       "      <td>0.500862</td>\n",
       "      <td>0.377778</td>\n",
       "      <td>0.702488</td>\n",
       "      <td>0.563456</td>\n",
       "      <td>0.234310</td>\n",
       "      <td>0.333333</td>\n",
       "    </tr>\n",
       "    <tr>\n",
       "      <th>2</th>\n",
       "      <td>0.666667</td>\n",
       "      <td>1.0</td>\n",
       "      <td>0.333333</td>\n",
       "      <td>0.75</td>\n",
       "      <td>0.833333</td>\n",
       "      <td>0.833333</td>\n",
       "      <td>0.980981</td>\n",
       "      <td>1.0</td>\n",
       "      <td>1.000000</td>\n",
       "      <td>0.0</td>\n",
       "      <td>...</td>\n",
       "      <td>0.000000</td>\n",
       "      <td>1.0</td>\n",
       "      <td>0.721418</td>\n",
       "      <td>0.491339</td>\n",
       "      <td>0.546072</td>\n",
       "      <td>0.311111</td>\n",
       "      <td>0.660697</td>\n",
       "      <td>0.426643</td>\n",
       "      <td>0.345188</td>\n",
       "      <td>0.078000</td>\n",
       "    </tr>\n",
       "    <tr>\n",
       "      <th>3</th>\n",
       "      <td>0.666667</td>\n",
       "      <td>1.0</td>\n",
       "      <td>0.333333</td>\n",
       "      <td>0.75</td>\n",
       "      <td>1.000000</td>\n",
       "      <td>0.833333</td>\n",
       "      <td>0.980981</td>\n",
       "      <td>1.0</td>\n",
       "      <td>1.000000</td>\n",
       "      <td>0.0</td>\n",
       "      <td>...</td>\n",
       "      <td>0.000000</td>\n",
       "      <td>1.0</td>\n",
       "      <td>0.746425</td>\n",
       "      <td>0.507098</td>\n",
       "      <td>0.530239</td>\n",
       "      <td>0.377778</td>\n",
       "      <td>0.476617</td>\n",
       "      <td>0.339334</td>\n",
       "      <td>0.393305</td>\n",
       "      <td>0.148000</td>\n",
       "    </tr>\n",
       "    <tr>\n",
       "      <th>4</th>\n",
       "      <td>0.666667</td>\n",
       "      <td>0.5</td>\n",
       "      <td>0.333333</td>\n",
       "      <td>0.25</td>\n",
       "      <td>0.833333</td>\n",
       "      <td>0.833333</td>\n",
       "      <td>0.624625</td>\n",
       "      <td>0.0</td>\n",
       "      <td>0.333333</td>\n",
       "      <td>1.0</td>\n",
       "      <td>...</td>\n",
       "      <td>0.000000</td>\n",
       "      <td>1.0</td>\n",
       "      <td>0.529648</td>\n",
       "      <td>0.305619</td>\n",
       "      <td>0.470378</td>\n",
       "      <td>0.222222</td>\n",
       "      <td>0.000000</td>\n",
       "      <td>0.626463</td>\n",
       "      <td>0.236402</td>\n",
       "      <td>0.000000</td>\n",
       "    </tr>\n",
       "  </tbody>\n",
       "</table>\n",
       "<p>5 rows × 32 columns</p>\n",
       "</div>"
      ],
      "text/plain": [
       "   TypeOfIncident  TypeOfCollission  SeverityOfIncident  AuthoritiesContacted  \\\n",
       "0        0.000000               1.0            0.666667                  1.00   \n",
       "1        0.000000               1.0            0.666667                  1.00   \n",
       "2        0.666667               1.0            0.333333                  0.75   \n",
       "3        0.666667               1.0            0.333333                  0.75   \n",
       "4        0.666667               0.5            0.333333                  0.25   \n",
       "\n",
       "   IncidentState  IncidentCity  IncidentAddress  PropertyDamage  Witnesses  \\\n",
       "0       0.666667      0.000000         0.279279             0.0   0.000000   \n",
       "1       0.666667      0.666667         0.279279             1.0   0.333333   \n",
       "2       0.833333      0.833333         0.980981             1.0   1.000000   \n",
       "3       1.000000      0.833333         0.980981             1.0   1.000000   \n",
       "4       0.833333      0.833333         0.624625             0.0   0.333333   \n",
       "\n",
       "   PoliceReport  ...  NumberOfVehicles  BodilyInjuries  AmountOfInjuryClaim  \\\n",
       "0           0.0  ...          0.666667             0.5             0.836497   \n",
       "1           1.0  ...          0.666667             1.0             0.944384   \n",
       "2           0.0  ...          0.000000             1.0             0.721418   \n",
       "3           0.0  ...          0.000000             1.0             0.746425   \n",
       "4           1.0  ...          0.000000             1.0             0.529648   \n",
       "\n",
       "   AmountOfPropertyClaim  AmountOfVehicleDamage  InsuredAge  CapitalGains  \\\n",
       "0               0.256485               0.577765    0.355556      0.564179   \n",
       "1               0.250063               0.500862    0.377778      0.702488   \n",
       "2               0.491339               0.546072    0.311111      0.660697   \n",
       "3               0.507098               0.530239    0.377778      0.476617   \n",
       "4               0.305619               0.470378    0.222222      0.000000   \n",
       "\n",
       "   CapitalLoss  CustomerLoyaltyPeriod  Policy_Deductible  \n",
       "0     0.563456               0.098326           0.333333  \n",
       "1     0.563456               0.234310           0.333333  \n",
       "2     0.426643               0.345188           0.078000  \n",
       "3     0.339334               0.393305           0.148000  \n",
       "4     0.626463               0.236402           0.000000  \n",
       "\n",
       "[5 rows x 32 columns]"
      ]
     },
     "execution_count": 72,
     "metadata": {},
     "output_type": "execute_result"
    }
   ],
   "source": [
    "# normalization for the training Dataset\n",
    "from sklearn.preprocessing import MinMaxScaler\n",
    "norm = MinMaxScaler().fit(X)\n",
    "X_train_norm = norm.transform(X)\n",
    "X_train = pd.DataFrame(X_train_norm, columns = X.columns) # retaining columns names\n",
    "X_train.head()"
   ]
  },
  {
   "cell_type": "code",
   "execution_count": 73,
   "id": "f81edf73",
   "metadata": {},
   "outputs": [
    {
     "data": {
      "text/html": [
       "<div>\n",
       "<style scoped>\n",
       "    .dataframe tbody tr th:only-of-type {\n",
       "        vertical-align: middle;\n",
       "    }\n",
       "\n",
       "    .dataframe tbody tr th {\n",
       "        vertical-align: top;\n",
       "    }\n",
       "\n",
       "    .dataframe thead th {\n",
       "        text-align: right;\n",
       "    }\n",
       "</style>\n",
       "<table border=\"1\" class=\"dataframe\">\n",
       "  <thead>\n",
       "    <tr style=\"text-align: right;\">\n",
       "      <th></th>\n",
       "      <th>TypeOfIncident</th>\n",
       "      <th>TypeOfCollission</th>\n",
       "      <th>SeverityOfIncident</th>\n",
       "      <th>AuthoritiesContacted</th>\n",
       "      <th>IncidentState</th>\n",
       "      <th>IncidentCity</th>\n",
       "      <th>IncidentAddress</th>\n",
       "      <th>PropertyDamage</th>\n",
       "      <th>Witnesses</th>\n",
       "      <th>PoliceReport</th>\n",
       "      <th>...</th>\n",
       "      <th>NumberOfVehicles</th>\n",
       "      <th>BodilyInjuries</th>\n",
       "      <th>AmountOfInjuryClaim</th>\n",
       "      <th>AmountOfPropertyClaim</th>\n",
       "      <th>AmountOfVehicleDamage</th>\n",
       "      <th>InsuredAge</th>\n",
       "      <th>CapitalGains</th>\n",
       "      <th>CapitalLoss</th>\n",
       "      <th>CustomerLoyaltyPeriod</th>\n",
       "      <th>Policy_Deductible</th>\n",
       "    </tr>\n",
       "  </thead>\n",
       "  <tbody>\n",
       "    <tr>\n",
       "      <th>0</th>\n",
       "      <td>0.000000</td>\n",
       "      <td>0.0</td>\n",
       "      <td>0.333333</td>\n",
       "      <td>0.00</td>\n",
       "      <td>0.333333</td>\n",
       "      <td>0.166667</td>\n",
       "      <td>0.312563</td>\n",
       "      <td>0.0</td>\n",
       "      <td>0.000000</td>\n",
       "      <td>0.0</td>\n",
       "      <td>...</td>\n",
       "      <td>0.666667</td>\n",
       "      <td>0.0</td>\n",
       "      <td>0.325647</td>\n",
       "      <td>0.342965</td>\n",
       "      <td>0.687218</td>\n",
       "      <td>0.177778</td>\n",
       "      <td>0.561194</td>\n",
       "      <td>0.486949</td>\n",
       "      <td>0.176842</td>\n",
       "      <td>1.000000</td>\n",
       "    </tr>\n",
       "    <tr>\n",
       "      <th>1</th>\n",
       "      <td>0.666667</td>\n",
       "      <td>0.5</td>\n",
       "      <td>0.333333</td>\n",
       "      <td>0.25</td>\n",
       "      <td>1.000000</td>\n",
       "      <td>0.666667</td>\n",
       "      <td>0.338693</td>\n",
       "      <td>0.0</td>\n",
       "      <td>0.333333</td>\n",
       "      <td>0.0</td>\n",
       "      <td>...</td>\n",
       "      <td>0.000000</td>\n",
       "      <td>0.5</td>\n",
       "      <td>0.386536</td>\n",
       "      <td>0.222998</td>\n",
       "      <td>0.538641</td>\n",
       "      <td>0.466667</td>\n",
       "      <td>0.564179</td>\n",
       "      <td>0.409541</td>\n",
       "      <td>0.488421</td>\n",
       "      <td>0.000000</td>\n",
       "    </tr>\n",
       "    <tr>\n",
       "      <th>2</th>\n",
       "      <td>0.000000</td>\n",
       "      <td>0.5</td>\n",
       "      <td>0.333333</td>\n",
       "      <td>1.00</td>\n",
       "      <td>0.333333</td>\n",
       "      <td>0.166667</td>\n",
       "      <td>0.935678</td>\n",
       "      <td>0.0</td>\n",
       "      <td>0.333333</td>\n",
       "      <td>0.0</td>\n",
       "      <td>...</td>\n",
       "      <td>0.666667</td>\n",
       "      <td>0.0</td>\n",
       "      <td>0.356854</td>\n",
       "      <td>0.387693</td>\n",
       "      <td>0.551487</td>\n",
       "      <td>0.444444</td>\n",
       "      <td>0.302488</td>\n",
       "      <td>1.000000</td>\n",
       "      <td>0.458947</td>\n",
       "      <td>0.333333</td>\n",
       "    </tr>\n",
       "    <tr>\n",
       "      <th>3</th>\n",
       "      <td>1.000000</td>\n",
       "      <td>0.5</td>\n",
       "      <td>1.000000</td>\n",
       "      <td>0.50</td>\n",
       "      <td>0.666667</td>\n",
       "      <td>0.666667</td>\n",
       "      <td>0.402010</td>\n",
       "      <td>0.0</td>\n",
       "      <td>0.333333</td>\n",
       "      <td>0.0</td>\n",
       "      <td>...</td>\n",
       "      <td>0.000000</td>\n",
       "      <td>1.0</td>\n",
       "      <td>0.023536</td>\n",
       "      <td>0.036854</td>\n",
       "      <td>0.045192</td>\n",
       "      <td>0.422222</td>\n",
       "      <td>0.681592</td>\n",
       "      <td>1.000000</td>\n",
       "      <td>0.431579</td>\n",
       "      <td>1.000000</td>\n",
       "    </tr>\n",
       "    <tr>\n",
       "      <th>4</th>\n",
       "      <td>0.000000</td>\n",
       "      <td>0.5</td>\n",
       "      <td>0.333333</td>\n",
       "      <td>1.00</td>\n",
       "      <td>0.333333</td>\n",
       "      <td>0.166667</td>\n",
       "      <td>0.830151</td>\n",
       "      <td>0.0</td>\n",
       "      <td>1.000000</td>\n",
       "      <td>0.0</td>\n",
       "      <td>...</td>\n",
       "      <td>0.666667</td>\n",
       "      <td>1.0</td>\n",
       "      <td>0.366859</td>\n",
       "      <td>0.163844</td>\n",
       "      <td>0.296435</td>\n",
       "      <td>0.222222</td>\n",
       "      <td>0.349254</td>\n",
       "      <td>1.000000</td>\n",
       "      <td>0.282105</td>\n",
       "      <td>1.000000</td>\n",
       "    </tr>\n",
       "  </tbody>\n",
       "</table>\n",
       "<p>5 rows × 32 columns</p>\n",
       "</div>"
      ],
      "text/plain": [
       "   TypeOfIncident  TypeOfCollission  SeverityOfIncident  AuthoritiesContacted  \\\n",
       "0        0.000000               0.0            0.333333                  0.00   \n",
       "1        0.666667               0.5            0.333333                  0.25   \n",
       "2        0.000000               0.5            0.333333                  1.00   \n",
       "3        1.000000               0.5            1.000000                  0.50   \n",
       "4        0.000000               0.5            0.333333                  1.00   \n",
       "\n",
       "   IncidentState  IncidentCity  IncidentAddress  PropertyDamage  Witnesses  \\\n",
       "0       0.333333      0.166667         0.312563             0.0   0.000000   \n",
       "1       1.000000      0.666667         0.338693             0.0   0.333333   \n",
       "2       0.333333      0.166667         0.935678             0.0   0.333333   \n",
       "3       0.666667      0.666667         0.402010             0.0   0.333333   \n",
       "4       0.333333      0.166667         0.830151             0.0   1.000000   \n",
       "\n",
       "   PoliceReport  ...  NumberOfVehicles  BodilyInjuries  AmountOfInjuryClaim  \\\n",
       "0           0.0  ...          0.666667             0.0             0.325647   \n",
       "1           0.0  ...          0.000000             0.5             0.386536   \n",
       "2           0.0  ...          0.666667             0.0             0.356854   \n",
       "3           0.0  ...          0.000000             1.0             0.023536   \n",
       "4           0.0  ...          0.666667             1.0             0.366859   \n",
       "\n",
       "   AmountOfPropertyClaim  AmountOfVehicleDamage  InsuredAge  CapitalGains  \\\n",
       "0               0.342965               0.687218    0.177778      0.561194   \n",
       "1               0.222998               0.538641    0.466667      0.564179   \n",
       "2               0.387693               0.551487    0.444444      0.302488   \n",
       "3               0.036854               0.045192    0.422222      0.681592   \n",
       "4               0.163844               0.296435    0.222222      0.349254   \n",
       "\n",
       "   CapitalLoss  CustomerLoyaltyPeriod  Policy_Deductible  \n",
       "0     0.486949               0.176842           1.000000  \n",
       "1     0.409541               0.488421           0.000000  \n",
       "2     1.000000               0.458947           0.333333  \n",
       "3     1.000000               0.431579           1.000000  \n",
       "4     1.000000               0.282105           1.000000  \n",
       "\n",
       "[5 rows x 32 columns]"
      ]
     },
     "execution_count": 73,
     "metadata": {},
     "output_type": "execute_result"
    }
   ],
   "source": [
    "#Normalization for the testing Dataset\n",
    "norm1 = MinMaxScaler().fit(Test_dataset)\n",
    "Test_norm = norm1.transform(Test_dataset)\n",
    "Test_dataset = pd.DataFrame(Test_norm, columns = Test_dataset.columns) # retaining columns names\n",
    "Test_dataset.head()"
   ]
  },
  {
   "cell_type": "code",
   "execution_count": 79,
   "id": "ccf0b8d3",
   "metadata": {},
   "outputs": [],
   "source": [
    "enconter=pd.read_csv('Sample_Submission.csv')"
   ]
  },
  {
   "cell_type": "code",
   "execution_count": 80,
   "id": "2a8f1d37",
   "metadata": {},
   "outputs": [],
   "source": [
    "enconter1=enconter['CustomerID']"
   ]
  },
  {
   "cell_type": "markdown",
   "id": "00269581",
   "metadata": {},
   "source": [
    "# Random Forest"
   ]
  },
  {
   "cell_type": "code",
   "execution_count": 82,
   "id": "a99f441c",
   "metadata": {},
   "outputs": [],
   "source": [
    "from sklearn.ensemble import RandomForestClassifier\n",
    "rfc=RandomForestClassifier(n_estimators=100,criterion='entropy',max_features=0.6,n_jobs = -1,random_state =42)"
   ]
  },
  {
   "cell_type": "code",
   "execution_count": 83,
   "id": "fa5fd6ae",
   "metadata": {},
   "outputs": [
    {
     "name": "stdout",
     "output_type": "stream",
     "text": [
      "CPU times: total: 41.6 s\n",
      "Wall time: 5.55 s\n"
     ]
    },
    {
     "data": {
      "text/plain": [
       "RandomForestClassifier(criterion='entropy', max_features=0.6, n_jobs=-1,\n",
       "                       random_state=42)"
      ]
     },
     "execution_count": 83,
     "metadata": {},
     "output_type": "execute_result"
    }
   ],
   "source": [
    "%time rfc.fit(X_train,y)"
   ]
  },
  {
   "cell_type": "code",
   "execution_count": 84,
   "id": "9820bf08",
   "metadata": {},
   "outputs": [],
   "source": [
    "train_predictions = rfc.predict(X_train)"
   ]
  },
  {
   "cell_type": "code",
   "execution_count": 85,
   "id": "531cf4ab",
   "metadata": {},
   "outputs": [
    {
     "name": "stdout",
     "output_type": "stream",
     "text": [
      "\n",
      "Random forest  Performance:\n",
      "------------------------\n",
      "F1 Score        :  0.9999306422527396\n",
      "Confusion Matrix:\n",
      "  [[21051     0]\n",
      " [    2  7783]]\n",
      "Classification_report:\n",
      "                precision    recall  f1-score   support\n",
      "\n",
      "           0       1.00      1.00      1.00     21051\n",
      "           1       1.00      1.00      1.00      7785\n",
      "\n",
      "    accuracy                           1.00     28836\n",
      "   macro avg       1.00      1.00      1.00     28836\n",
      "weighted avg       1.00      1.00      1.00     28836\n",
      "\n"
     ]
    }
   ],
   "source": [
    "print('\\nRandom forest  Performance:')\n",
    "print('------------------------')\n",
    "print('F1 Score        : ', metrics.f1_score(y, train_predictions,average='micro'))\n",
    "print('Confusion Matrix:\\n ', confusion_matrix(y, train_predictions))\n",
    "print('Classification_report:\\n ', classification_report(y, train_predictions))"
   ]
  },
  {
   "cell_type": "code",
   "execution_count": 86,
   "id": "350c9783",
   "metadata": {},
   "outputs": [],
   "source": [
    "test_prediction=rfc.predict(Test_dataset)"
   ]
  },
  {
   "cell_type": "markdown",
   "id": "6138c911",
   "metadata": {},
   "source": [
    "Saving the comparison file as a csv file."
   ]
  },
  {
   "cell_type": "code",
   "execution_count": 87,
   "id": "9da2a393",
   "metadata": {},
   "outputs": [],
   "source": [
    "pred1 = pd.DataFrame({'CustomerID':enconter1,'ReportedFraud':test_prediction}).to_csv('RandomForest100.csv')"
   ]
  },
  {
   "cell_type": "markdown",
   "id": "25c8c320",
   "metadata": {},
   "source": [
    "# XG BOOST"
   ]
  },
  {
   "cell_type": "code",
   "execution_count": 88,
   "id": "b8b4c669",
   "metadata": {},
   "outputs": [],
   "source": [
    "from sklearn.ensemble import GradientBoostingClassifier\n",
    "from xgboost import XGBClassifier"
   ]
  },
  {
   "cell_type": "code",
   "execution_count": 89,
   "id": "a0b63221",
   "metadata": {},
   "outputs": [],
   "source": [
    "xgbc = XGBClassifier(random_state = 42)\n"
   ]
  },
  {
   "cell_type": "code",
   "execution_count": 90,
   "id": "c8a1a234",
   "metadata": {},
   "outputs": [
    {
     "data": {
      "text/plain": [
       "XGBClassifier(base_score=0.5, booster='gbtree', callbacks=None,\n",
       "              colsample_bylevel=1, colsample_bynode=1, colsample_bytree=1,\n",
       "              early_stopping_rounds=None, enable_categorical=False,\n",
       "              eval_metric=None, gamma=0, gpu_id=-1, grow_policy='depthwise',\n",
       "              importance_type=None, interaction_constraints='',\n",
       "              learning_rate=0.300000012, max_bin=256, max_cat_to_onehot=4,\n",
       "              max_delta_step=0, max_depth=6, max_leaves=0, min_child_weight=1,\n",
       "              missing=nan, monotone_constraints='()', n_estimators=100,\n",
       "              n_jobs=0, num_parallel_tree=1, predictor='auto', random_state=42,\n",
       "              reg_alpha=0, reg_lambda=1, ...)"
      ]
     },
     "execution_count": 90,
     "metadata": {},
     "output_type": "execute_result"
    }
   ],
   "source": [
    "xgbc.fit(X_train, y)\n"
   ]
  },
  {
   "cell_type": "code",
   "execution_count": 91,
   "id": "d50d7ada",
   "metadata": {},
   "outputs": [],
   "source": [
    "y_pred_xgbc = xgbc.predict(X_train)\n"
   ]
  },
  {
   "cell_type": "code",
   "execution_count": 92,
   "id": "7b207b51",
   "metadata": {},
   "outputs": [
    {
     "name": "stdout",
     "output_type": "stream",
     "text": [
      "\n",
      "XG BOOST:\n",
      "------------------------\n",
      "F1 Score        :  0.9525593008739076\n",
      "Confusion Matrix:\n",
      "  [[20748   303]\n",
      " [ 1065  6720]]\n",
      "Classification_report:\n",
      "                precision    recall  f1-score   support\n",
      "\n",
      "           0       0.95      0.99      0.97     21051\n",
      "           1       0.96      0.86      0.91      7785\n",
      "\n",
      "    accuracy                           0.95     28836\n",
      "   macro avg       0.95      0.92      0.94     28836\n",
      "weighted avg       0.95      0.95      0.95     28836\n",
      "\n"
     ]
    }
   ],
   "source": [
    "print('\\nXG BOOST:')\n",
    "print('------------------------')\n",
    "print('F1 Score        : ', metrics.f1_score(y, y_pred_xgbc,average='micro'))\n",
    "print('Confusion Matrix:\\n ', confusion_matrix(y, y_pred_xgbc))\n",
    "print('Classification_report:\\n ', classification_report(y, y_pred_xgbc))"
   ]
  },
  {
   "cell_type": "code",
   "execution_count": 93,
   "id": "06666bf9",
   "metadata": {},
   "outputs": [],
   "source": [
    "Xgboostpred=xgbc.predict(Test_dataset)"
   ]
  },
  {
   "cell_type": "markdown",
   "id": "f6b56e17",
   "metadata": {},
   "source": [
    "Saving the comparison file as a csv file."
   ]
  },
  {
   "cell_type": "code",
   "execution_count": 94,
   "id": "10cf3414",
   "metadata": {},
   "outputs": [],
   "source": [
    "Xgboostpredd = pd.DataFrame({'CustomerID':enconter1,'ReportedFraud':Xgboostpred}).to_csv('Prediction_file.csv')"
   ]
  }
 ],
 "metadata": {
  "kernelspec": {
   "display_name": "Python 3 (ipykernel)",
   "language": "python",
   "name": "python3"
  },
  "language_info": {
   "codemirror_mode": {
    "name": "ipython",
    "version": 3
   },
   "file_extension": ".py",
   "mimetype": "text/x-python",
   "name": "python",
   "nbconvert_exporter": "python",
   "pygments_lexer": "ipython3",
   "version": "3.9.12"
  }
 },
 "nbformat": 4,
 "nbformat_minor": 5
}
